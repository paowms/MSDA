{
 "cells": [
  {
   "attachments": {},
   "cell_type": "markdown",
   "metadata": {},
   "source": [
    "D-213 ADVANCED DATA ANALYTICS  \n",
    "TASK 2: SENTIMENT ANALYSIS USING NEURAL NETWORKS\n",
    "\n",
    "PAOLA WILLIAMS\n",
    "COLLEGE OF IT, WESTERN GOVERNOR’S UNIVERSITY\n",
    "MAY 19th, 2023"
   ]
  },
  {
   "attachments": {},
   "cell_type": "markdown",
   "metadata": {},
   "source": [
    "Part I:  Research Question"
   ]
  },
  {
   "attachments": {},
   "cell_type": "markdown",
   "metadata": {},
   "source": [
    "A1. Summarize one research question that you will answer using neural network models and NLP techniques. Be sure the research question is relevant to a real-world organizational situation and sentiment analysis captured in your chosen dataset"
   ]
  },
  {
   "attachments": {},
   "cell_type": "markdown",
   "metadata": {},
   "source": [
    "Predict whether a customer's review is positive or negative depending on the wording used in such review. "
   ]
  },
  {
   "attachments": {},
   "cell_type": "markdown",
   "metadata": {},
   "source": [
    "A2. Define the objectives or goals of the data analysis. Be sure the objectives or goals are reasonable within the scope of the research question and are represented in the available data."
   ]
  },
  {
   "attachments": {},
   "cell_type": "markdown",
   "metadata": {},
   "source": [
    "The key objects for this data analysis include:\n",
    "\n",
    "1. Identify if the customers' sentiment towards a product is either positive or negative.\n",
    "2. Identify the presence of patterns in the language used in the reviews.     \n",
    "3. Predict (classify) the sentiment on the reviews based on historical reviews.\n"
   ]
  },
  {
   "cell_type": "code",
   "execution_count": 14,
   "metadata": {},
   "outputs": [],
   "source": [
    "from csv import QUOTE_NONE\n",
    "from pandas import read_csv, concat\n",
    "from pathlib import Path\n",
    "\n",
    "\n",
    "file_directory = r\"C:\\Users\\paowm\\Downloads\\D213_Task2\\sentiment labelled sentences\\sentiment labelled sentences\"\n",
    "file_sources = [\n",
    "    Path(file_directory) / file_name\n",
    "    for file_name in [\n",
    "        \"amazon_cells_labelled.txt\",\n",
    "        \"imdb_labelled.txt\",\n",
    "        \"yelp_labelled.txt\",\n",
    "    ]\n",
    "]\n"
   ]
  },
  {
   "attachments": {},
   "cell_type": "markdown",
   "metadata": {},
   "source": [
    "A3. Identify a type of neural network capable of performing a text classification task that can be trained to produce useful predictions on text sequences on the selected data set"
   ]
  },
  {
   "attachments": {},
   "cell_type": "markdown",
   "metadata": {},
   "source": [
    "We will use the BERT model from TensorFlow which produces useful predictions on text sequences on our three-source dataset."
   ]
  },
  {
   "attachments": {},
   "cell_type": "markdown",
   "metadata": {},
   "source": [
    "Part II:  Data Preparation\n",
    "\n"
   ]
  },
  {
   "attachments": {},
   "cell_type": "markdown",
   "metadata": {},
   "source": [
    "B1. Perform exploratory data analysis on the chosen dataset, and include an explanation of each of the following elements:"
   ]
  },
  {
   "attachments": {},
   "cell_type": "markdown",
   "metadata": {},
   "source": [
    "- presence of unusual characters (e.g., emojis, non-English characters, etc.)\n",
    "\n",
    "The source files are tab-delimited and per the `readme.txt` each file contains 2 columns and 1000 rows. The source files contain reviews along with positive or negative sentiment labels from imdb, amazon, and yelp. \n",
    "\n",
    "Within the imdb file there were inconsistent usages of quotes. This means some lines had only a single quote. [Pandas `read_csv`](https://pandas.pydata.org/docs/reference/api/pandas.read_csv.html) default parses delimited files as minimal quotes. [Minimal quote usage](https://docs.python.org/3/library/csv.html#csv.QUOTE_MINIMAL) assumes quotes are wrapped around fields which contain special characters such as delimiter, quotechar or any of the characters in lineterminator. This read multiple lines into single values. These are caught by the `RowReadCountError` exception but to avoid the issue altogther, I force `read_csv` to assume no quote usage which reads the lines with only a single quote as normal punctuation.\n",
    "\n",
    "- vocabulary size\n",
    "\n",
    "The vocabulary size consists of the count of unique words in the training set which is 4377.\n",
    "\n",
    "We use the Tokenizer class in Keras to get the vocabulary size.\n",
    "\n",
    "- proposed word embedding length\n",
    "\n",
    "Word embedding is used to convert words into their numerical representations (Agarwal,2022). The word embedding length is the position of the word in the vector space. It is calculated by the squared root of the squared root of the vocabulary size. In this case, the vocabulary size is 4377 and the word embedding length is 8.\n",
    "\n",
    "- statistical justification for the chosen maximum sequence length\n",
    "\n",
    "The chose max sequence length is the length of the longest review since we want to include whole reviews so our model is more accurate at predicting sentiments.\n",
    "\n"
   ]
  },
  {
   "cell_type": "code",
   "execution_count": 15,
   "metadata": {},
   "outputs": [],
   "source": [
    "# imdb_labelled.txt contains inconsistent \\\" which requires we ignore quoting when reading into the dataframe\n",
    "dfs = [\n",
    "    read_csv(\n",
    "        file_source,\n",
    "        sep=\"\\t\",\n",
    "        lineterminator=\"\\n\",\n",
    "        names=[\"sentences\", \"label\", \"source\"],\n",
    "        quoting=QUOTE_NONE,\n",
    "    )\n",
    "    for file_source in file_sources\n",
    "]\n"
   ]
  },
  {
   "cell_type": "code",
   "execution_count": 16,
   "metadata": {},
   "outputs": [
    {
     "name": "stdout",
     "output_type": "stream",
     "text": [
      "<class 'pandas.core.frame.DataFrame'>\n",
      "RangeIndex: 3000 entries, 0 to 2999\n",
      "Data columns (total 3 columns):\n",
      " #   Column     Non-Null Count  Dtype \n",
      "---  ------     --------------  ----- \n",
      " 0   sentences  3000 non-null   object\n",
      " 1   label      3000 non-null   int64 \n",
      " 2   source     3000 non-null   object\n",
      "dtypes: int64(1), object(2)\n",
      "memory usage: 70.4+ KB\n"
     ]
    }
   ],
   "source": [
    "\n",
    "class RowReadCountError(Exception):\n",
    "    ...\n",
    "\n",
    "\n",
    "# we throw an error if any other inconsistencies arise outside of what is communicated from the readme\n",
    "for i, df in enumerate(dfs):\n",
    "    if len(df) != 1000:\n",
    "        raise RowReadCountError(f\"not all rows read into dataframe from {file_sources[i].stem}\")\n",
    "    else:\n",
    "        df.source = file_sources[i].stem\n",
    "\n",
    "df = concat(dfs, ignore_index=True)\n",
    "\n",
    "df.info()\n"
   ]
  },
  {
   "cell_type": "code",
   "execution_count": 17,
   "metadata": {},
   "outputs": [
    {
     "name": "stderr",
     "output_type": "stream",
     "text": [
      "c:\\Users\\paowm\\AppData\\Local\\Programs\\Python\\Python310\\lib\\site-packages\\seaborn\\_decorators.py:36: FutureWarning: Pass the following variable as a keyword arg: x. From version 0.12, the only valid positional argument will be `data`, and passing other arguments without an explicit keyword will result in an error or misinterpretation.\n",
      "  warnings.warn(\n"
     ]
    },
    {
     "data": {
      "text/plain": [
       "<AxesSubplot:xlabel='label', ylabel='count'>"
      ]
     },
     "execution_count": 17,
     "metadata": {},
     "output_type": "execute_result"
    },
    {
     "data": {
      "image/png": "[encoded data removed]",
      "text/plain": [
       "<Figure size 432x288 with 1 Axes>"
      ]
     },
     "metadata": {
      "needs_background": "light"
     },
     "output_type": "display_data"
    }
   ],
   "source": [
    "from seaborn import countplot\n",
    "countplot(df.label, hue=df.source, palette='Set3')"
   ]
  },
  {
   "cell_type": "code",
   "execution_count": 18,
   "metadata": {},
   "outputs": [
    {
     "data": {
      "text/html": [
       "<div>\n",
       "<style scoped>\n",
       "    .dataframe tbody tr th:only-of-type {\n",
       "        vertical-align: middle;\n",
       "    }\n",
       "\n",
       "    .dataframe tbody tr th {\n",
       "        vertical-align: top;\n",
       "    }\n",
       "\n",
       "    .dataframe thead th {\n",
       "        text-align: right;\n",
       "    }\n",
       "</style>\n",
       "<table border=\"1\" class=\"dataframe\">\n",
       "  <thead>\n",
       "    <tr style=\"text-align: right;\">\n",
       "      <th></th>\n",
       "      <th>sentences</th>\n",
       "      <th>label</th>\n",
       "      <th>source</th>\n",
       "      <th>clean_sentences</th>\n",
       "      <th>tokens</th>\n",
       "      <th>token_count</th>\n",
       "    </tr>\n",
       "  </thead>\n",
       "  <tbody>\n",
       "    <tr>\n",
       "      <th>0</th>\n",
       "      <td>So there is no way for me to plug it in here i...</td>\n",
       "      <td>0</td>\n",
       "      <td>amazon_cells_labelled</td>\n",
       "      <td>So there is no way for me to plug it in here i...</td>\n",
       "      <td>[so, there, is, no, way, for, me, to, plug, it...</td>\n",
       "      <td>21</td>\n",
       "    </tr>\n",
       "    <tr>\n",
       "      <th>1</th>\n",
       "      <td>Good case, Excellent value.</td>\n",
       "      <td>1</td>\n",
       "      <td>amazon_cells_labelled</td>\n",
       "      <td>Good case Excellent value</td>\n",
       "      <td>[good, case, excellent, value]</td>\n",
       "      <td>4</td>\n",
       "    </tr>\n",
       "    <tr>\n",
       "      <th>2</th>\n",
       "      <td>Great for the jawbone.</td>\n",
       "      <td>1</td>\n",
       "      <td>amazon_cells_labelled</td>\n",
       "      <td>Great for the jawbone</td>\n",
       "      <td>[great, for, the, jawbone]</td>\n",
       "      <td>4</td>\n",
       "    </tr>\n",
       "    <tr>\n",
       "      <th>3</th>\n",
       "      <td>Tied to charger for conversations lasting more...</td>\n",
       "      <td>0</td>\n",
       "      <td>amazon_cells_labelled</td>\n",
       "      <td>Tied to charger for conversations lasting more...</td>\n",
       "      <td>[tied, to, charger, for, conversations, lastin...</td>\n",
       "      <td>12</td>\n",
       "    </tr>\n",
       "    <tr>\n",
       "      <th>4</th>\n",
       "      <td>The mic is great.</td>\n",
       "      <td>1</td>\n",
       "      <td>amazon_cells_labelled</td>\n",
       "      <td>The mic is great</td>\n",
       "      <td>[the, mic, is, great]</td>\n",
       "      <td>4</td>\n",
       "    </tr>\n",
       "    <tr>\n",
       "      <th>...</th>\n",
       "      <td>...</td>\n",
       "      <td>...</td>\n",
       "      <td>...</td>\n",
       "      <td>...</td>\n",
       "      <td>...</td>\n",
       "      <td>...</td>\n",
       "    </tr>\n",
       "    <tr>\n",
       "      <th>2995</th>\n",
       "      <td>I think food should have flavor and texture an...</td>\n",
       "      <td>0</td>\n",
       "      <td>yelp_labelled</td>\n",
       "      <td>I think food should have flavor and texture an...</td>\n",
       "      <td>[i, think, food, should, have, flavor, and, te...</td>\n",
       "      <td>12</td>\n",
       "    </tr>\n",
       "    <tr>\n",
       "      <th>2996</th>\n",
       "      <td>Appetite instantly gone.</td>\n",
       "      <td>0</td>\n",
       "      <td>yelp_labelled</td>\n",
       "      <td>Appetite instantly gone</td>\n",
       "      <td>[appetite, instantly, gone]</td>\n",
       "      <td>3</td>\n",
       "    </tr>\n",
       "    <tr>\n",
       "      <th>2997</th>\n",
       "      <td>Overall I was not impressed and would not go b...</td>\n",
       "      <td>0</td>\n",
       "      <td>yelp_labelled</td>\n",
       "      <td>Overall I was not impressed and would not go back</td>\n",
       "      <td>[overall, i, was, not, impressed, and, would, ...</td>\n",
       "      <td>10</td>\n",
       "    </tr>\n",
       "    <tr>\n",
       "      <th>2998</th>\n",
       "      <td>The whole experience was underwhelming, and I ...</td>\n",
       "      <td>0</td>\n",
       "      <td>yelp_labelled</td>\n",
       "      <td>The whole experience was underwhelming and I t...</td>\n",
       "      <td>[the, whole, experience, was, underwhelming, a...</td>\n",
       "      <td>17</td>\n",
       "    </tr>\n",
       "    <tr>\n",
       "      <th>2999</th>\n",
       "      <td>Then, as if I hadn't wasted enough of my life ...</td>\n",
       "      <td>0</td>\n",
       "      <td>yelp_labelled</td>\n",
       "      <td>Then as if I hadnt wasted enough of my life th...</td>\n",
       "      <td>[then, as, if, i, hadn, t, wasted, enough, of,...</td>\n",
       "      <td>29</td>\n",
       "    </tr>\n",
       "  </tbody>\n",
       "</table>\n",
       "<p>2988 rows × 6 columns</p>\n",
       "</div>"
      ],
      "text/plain": [
       "                                              sentences  label  \\\n",
       "0     So there is no way for me to plug it in here i...      0   \n",
       "1                           Good case, Excellent value.      1   \n",
       "2                                Great for the jawbone.      1   \n",
       "3     Tied to charger for conversations lasting more...      0   \n",
       "4                                     The mic is great.      1   \n",
       "...                                                 ...    ...   \n",
       "2995  I think food should have flavor and texture an...      0   \n",
       "2996                           Appetite instantly gone.      0   \n",
       "2997  Overall I was not impressed and would not go b...      0   \n",
       "2998  The whole experience was underwhelming, and I ...      0   \n",
       "2999  Then, as if I hadn't wasted enough of my life ...      0   \n",
       "\n",
       "                     source  \\\n",
       "0     amazon_cells_labelled   \n",
       "1     amazon_cells_labelled   \n",
       "2     amazon_cells_labelled   \n",
       "3     amazon_cells_labelled   \n",
       "4     amazon_cells_labelled   \n",
       "...                     ...   \n",
       "2995          yelp_labelled   \n",
       "2996          yelp_labelled   \n",
       "2997          yelp_labelled   \n",
       "2998          yelp_labelled   \n",
       "2999          yelp_labelled   \n",
       "\n",
       "                                        clean_sentences  \\\n",
       "0     So there is no way for me to plug it in here i...   \n",
       "1                             Good case Excellent value   \n",
       "2                                 Great for the jawbone   \n",
       "3     Tied to charger for conversations lasting more...   \n",
       "4                                      The mic is great   \n",
       "...                                                 ...   \n",
       "2995  I think food should have flavor and texture an...   \n",
       "2996                            Appetite instantly gone   \n",
       "2997  Overall I was not impressed and would not go back   \n",
       "2998  The whole experience was underwhelming and I t...   \n",
       "2999  Then as if I hadnt wasted enough of my life th...   \n",
       "\n",
       "                                                 tokens  token_count  \n",
       "0     [so, there, is, no, way, for, me, to, plug, it...           21  \n",
       "1                        [good, case, excellent, value]            4  \n",
       "2                            [great, for, the, jawbone]            4  \n",
       "3     [tied, to, charger, for, conversations, lastin...           12  \n",
       "4                                 [the, mic, is, great]            4  \n",
       "...                                                 ...          ...  \n",
       "2995  [i, think, food, should, have, flavor, and, te...           12  \n",
       "2996                        [appetite, instantly, gone]            3  \n",
       "2997  [overall, i, was, not, impressed, and, would, ...           10  \n",
       "2998  [the, whole, experience, was, underwhelming, a...           17  \n",
       "2999  [then, as, if, i, hadn, t, wasted, enough, of,...           29  \n",
       "\n",
       "[2988 rows x 6 columns]"
      ]
     },
     "execution_count": 18,
     "metadata": {},
     "output_type": "execute_result"
    }
   ],
   "source": [
    "from keras.preprocessing.text import text_to_word_sequence\n",
    "from string import punctuation\n",
    "\n",
    "has_punctuation = df.sentences.map(lambda v: any(char in v for char in punctuation) )\n",
    "\n",
    "punct = punctuation.replace('|', '')\n",
    "transtab = str.maketrans(dict.fromkeys(punct, ''))\n",
    "df['clean_sentences'] = '|'.join(df.sentences.tolist()).translate(transtab).split('|')\n",
    "\n",
    "# tokenize and remove punctuation\n",
    "df[\"tokens\"] = df.apply(lambda row: text_to_word_sequence(row['sentences'], filters=punctuation), axis=1)\n",
    "df['token_count'] = df.apply(lambda row: len(row['tokens']), axis=1)\n",
    "\n",
    "df[has_punctuation]\n"
   ]
  },
  {
   "cell_type": "code",
   "execution_count": 19,
   "metadata": {},
   "outputs": [
    {
     "name": "stdout",
     "output_type": "stream",
     "text": [
      "Training set size:  (2100,)\n",
      "Testing set size:  (450,)\n",
      "Validation set size:  (450,)\n"
     ]
    }
   ],
   "source": [
    "# split 80% test and 20% train\n",
    "from sklearn.model_selection import train_test_split\n",
    "from pandas import DataFrame\n",
    "\n",
    "X = df.clean_sentences.values\n",
    "y = df.label.values\n",
    "\n",
    "X_train, X_test, y_train, y_test = train_test_split(X, y, test_size=0.3, random_state=100)\n",
    "X_test, X_valid, y_test, y_valid = train_test_split(X_test, y_test, test_size=0.5, random_state=100)\n",
    "\n",
    "DataFrame(X_train).to_csv('X_train.csv')\n",
    "DataFrame(y_train).to_csv('y_train.csv')\n",
    "DataFrame(X_test).to_csv('X_test.csv')\n",
    "DataFrame(y_test).to_csv('y_test.csv')\n",
    "DataFrame(X_valid).to_csv('X_valid.csv')\n",
    "DataFrame(y_valid).to_csv('y_valid.csv')\n",
    "\n",
    "print(\"Training set size: \", X_train.shape)\n",
    "print(\"Testing set size: \", X_test.shape)\n",
    "print(\"Validation set size: \", X_valid.shape)"
   ]
  },
  {
   "attachments": {},
   "cell_type": "markdown",
   "metadata": {},
   "source": [
    "B2. Tokenization"
   ]
  },
  {
   "attachments": {},
   "cell_type": "markdown",
   "metadata": {},
   "source": [
    "The goals of the tokenzation step are:\n",
    "\n",
    "-Splitting sentences or paragraphs into smaller into understandable parts (words) (Burchfiel, 2022).\n",
    "\n",
    "-Replaces abnormal characters and standardize text\n",
    "\n",
    "-Prepares the sequences to a max sequence length by padding.\n",
    "\n",
    "To tokenize the dataset, we will use the package Tokenizer from keras.preprocessing.text.\n",
    "\n",
    "We will create a tokenizer object and fit it with the training set. Fit.on_texts produces the one hot-encoding for the words in every review.\n",
    "\n",
    "Then, we use the word_index dictionary to map the words to their rank or index within the sequence."
   ]
  },
  {
   "cell_type": "code",
   "execution_count": 20,
   "metadata": {},
   "outputs": [
    {
     "name": "stdout",
     "output_type": "stream",
     "text": [
      "Requirement already satisfied: Keras in c:\\users\\paowm\\appdata\\local\\programs\\python\\python310\\lib\\site-packages (2.10.0)\n",
      "Note: you may need to restart the kernel to use updated packages.\n"
     ]
    }
   ],
   "source": [
    "%pip install Keras"
   ]
  },
  {
   "cell_type": "code",
   "execution_count": 21,
   "metadata": {},
   "outputs": [
    {
     "name": "stdout",
     "output_type": "stream",
     "text": [
      "The vocabulary size of the dataset is 4377, some examples include [('the', 1), ('and', 2), ('i', 3)] ...\n"
     ]
    }
   ],
   "source": [
    "from keras.preprocessing.text import Tokenizer\n",
    "\n",
    "tokenizer = Tokenizer()\n",
    "tokenizer.fit_on_texts(X_train)\n",
    "vocabulary_size = len(tokenizer.word_index) + 1\n",
    "word_index = tokenizer.word_index # {\"this\":765}\n",
    "word_index_inv = {v: k for k, v in tokenizer.word_index.items()} # {765:\"this\"}\n",
    "\n",
    "print(\n",
    "    f\"The vocabulary size of the dataset is {vocabulary_size}, some examples include {list(tokenizer.word_index.items())[:3]} ...\"\n",
    ")"
   ]
  },
  {
   "attachments": {},
   "cell_type": "markdown",
   "metadata": {},
   "source": [
    "B3. Padding process"
   ]
  },
  {
   "attachments": {},
   "cell_type": "markdown",
   "metadata": {},
   "source": [
    "Padding is used to improve performance by setting the same maxlen for the training, testing and validation set. Since every review has a different length, we need to apply padding to make them all of the same size.\n",
    "\n",
    "We will use the pad_sequences package from the tensorflow.keras.preprocessing.sequence. We perform pad_sequences on every dataset by taking the tokenizer and applying the metho tex_to_sequences. The maxlen is the max_token_count to ensure we are taking the whole reviews and not cutting them in the middle as described in B1.\n",
    "\n",
    "The padding occurs after the text sequence since we need to count the tokens in each review before calculating how many 0 we need after the sequence.\n",
    "\n",
    "The following code contains an example of a padded sequence:"
   ]
  },
  {
   "cell_type": "code",
   "execution_count": 22,
   "metadata": {},
   "outputs": [
    {
     "data": {
      "text/plain": [
       "8"
      ]
     },
     "execution_count": 22,
     "metadata": {},
     "output_type": "execute_result"
    }
   ],
   "source": [
    "from math import sqrt\n",
    "from numpy import median, set_printoptions, asarray\n",
    "\n",
    "max_embedding = int(round(sqrt(sqrt(vocabulary_size))))\n",
    "max_token_count = max(df.token_count)\n",
    "min_token_count = min(df.token_count)\n",
    "med_token_count = int(median(df.token_count))\n",
    "max_embedding"
   ]
  },
  {
   "cell_type": "code",
   "execution_count": 23,
   "metadata": {},
   "outputs": [
    {
     "name": "stdout",
     "output_type": "stream",
     "text": [
      "The first sequence of post-padded tokens is:\n",
      "[ 99 214 162 238 544   0   0   0   0   0   0   0   0   0   0   0   0   0\n",
      "   0   0   0   0   0   0   0   0   0   0   0   0   0   0   0   0   0   0\n",
      "   0   0   0   0   0   0   0   0   0   0   0   0   0   0   0   0   0   0\n",
      "   0   0   0   0   0   0   0   0   0   0   0   0   0   0   0   0   0   0\n",
      "   0   0]\n",
      "Here is how it appears contextually:\n",
      "['excellent' 'cast' 'story' 'line' 'performances' '' '' '' '' '' '' '' ''\n",
      " '' '' '' '' '' '' '' '' '' '' '' '' '' '' '' '' '' '' '' '' '' '' '' ''\n",
      " '' '' '' '' '' '' '' '' '' '' '' '' '' '' '' '' '' '' '' '' '' '' '' ''\n",
      " '' '' '' '' '' '' '' '' '' '' '' '' '']\n"
     ]
    }
   ],
   "source": [
    "from keras.utils import pad_sequences\n",
    "from sys import maxsize\n",
    "\n",
    "train_padded = pad_sequences(\n",
    "    tokenizer.texts_to_sequences(X_train),\n",
    "    maxlen=max_token_count,\n",
    "    padding=\"post\",\n",
    "    truncating=\"pre\",\n",
    ")\n",
    "test_padded = pad_sequences(\n",
    "    tokenizer.texts_to_sequences(X_test),\n",
    "    maxlen=max_token_count,\n",
    "    padding=\"post\",\n",
    "    truncating=\"pre\",\n",
    ")\n",
    "valid_padded = pad_sequences(\n",
    "    tokenizer.texts_to_sequences(X_valid),\n",
    "    maxlen=max_token_count,\n",
    "    padding=\"post\",\n",
    "    truncating=\"pre\",\n",
    ")\n",
    "\n",
    "set_printoptions(threshold=maxsize)\n",
    "\n",
    "print(f\"The first sequence of post-padded tokens is:\")\n",
    "print(train_padded[2])\n",
    "print(f\"Here is how it appears contextually:\")\n",
    "\n",
    "print(\n",
    "    asarray([\"\" if i == 0 else word_index_inv[i] for i in train_padded[2]], dtype=str)\n",
    ")"
   ]
  },
  {
   "attachments": {},
   "cell_type": "markdown",
   "metadata": {},
   "source": [
    "B4. Categories of sentiment"
   ]
  },
  {
   "attachments": {},
   "cell_type": "markdown",
   "metadata": {},
   "source": [
    "We are using 2 categories of sentiment for the analysis: 1 as a positive sentiment and 0 as a negative sentiment."
   ]
  },
  {
   "attachments": {},
   "cell_type": "markdown",
   "metadata": {},
   "source": [
    "B5. Steps to prepare the data"
   ]
  },
  {
   "attachments": {},
   "cell_type": "markdown",
   "metadata": {},
   "source": [
    "1. Add the data from all 3 datasets into a single dataframe\n",
    "2. Check for abnormal characters (different than words) or punctuation not important for sentiment\n",
    "3. Remove those characters from the reviews\n",
    "4. Apply EDA to the dataset\n",
    "5. Split data set into training, testing and validation sets. The training test is 70% of the data while the testing and validation sets are both 25%\n",
    "6. Apply tokenizer using the fit_on_texts method\n",
    "7. Use word_index on training set to map words to their rank within each line\n",
    "8. Perform post-padding step to every line \n",
    "9. Fit model with corresponding parameters\n"
   ]
  },
  {
   "attachments": {},
   "cell_type": "markdown",
   "metadata": {},
   "source": [
    "C1. Model summary"
   ]
  },
  {
   "attachments": {},
   "cell_type": "markdown",
   "metadata": {},
   "source": [
    "The code used for the model summary can be seen as follows. "
   ]
  },
  {
   "cell_type": "code",
   "execution_count": 24,
   "metadata": {},
   "outputs": [
    {
     "name": "stdout",
     "output_type": "stream",
     "text": [
      "Model: \"sequential_1\"\n",
      "_________________________________________________________________\n",
      " Layer (type)                Output Shape              Param #   \n",
      "=================================================================\n",
      " embedding_1 (Embedding)     (None, 74, 8)             35016     \n",
      "                                                                 \n",
      " flatten_1 (Flatten)         (None, 592)               0         \n",
      "                                                                 \n",
      " dense_3 (Dense)             (None, 64)                37952     \n",
      "                                                                 \n",
      " dense_4 (Dense)             (None, 32)                2080      \n",
      "                                                                 \n",
      " dense_5 (Dense)             (None, 1)                 33        \n",
      "                                                                 \n",
      "=================================================================\n",
      "Total params: 75,081\n",
      "Trainable params: 75,081\n",
      "Non-trainable params: 0\n",
      "_________________________________________________________________\n",
      "Epoch 1/20\n",
      "210/210 [==============================] - 1s 3ms/step - loss: 0.6922 - accuracy: 0.5190 - val_loss: 0.6822 - val_accuracy: 0.5733\n",
      "Epoch 2/20\n",
      "210/210 [==============================] - 0s 2ms/step - loss: 0.4618 - accuracy: 0.8119 - val_loss: 0.4489 - val_accuracy: 0.7933\n",
      "Epoch 3/20\n",
      "210/210 [==============================] - 1s 3ms/step - loss: 0.1323 - accuracy: 0.9586 - val_loss: 0.4720 - val_accuracy: 0.8067\n",
      "Epoch 4/20\n",
      "210/210 [==============================] - 1s 3ms/step - loss: 0.0425 - accuracy: 0.9905 - val_loss: 0.5514 - val_accuracy: 0.7978\n",
      "Epoch 5/20\n",
      "210/210 [==============================] - 0s 2ms/step - loss: 0.0143 - accuracy: 0.9981 - val_loss: 0.6230 - val_accuracy: 0.7911\n",
      "Epoch 6/20\n",
      "210/210 [==============================] - 0s 2ms/step - loss: 0.0065 - accuracy: 0.9990 - val_loss: 0.6951 - val_accuracy: 0.7756\n"
     ]
    }
   ],
   "source": [
    "from keras.callbacks import EarlyStopping\n",
    "from keras.models import Sequential\n",
    "from keras.layers import Embedding, GlobalAveragePooling1D, Dense, Flatten\n",
    "\n",
    "activation = \"relu\"  # \"sigmoid\"#\"softmax\"\n",
    "loss = \"binary_crossentropy\"  # \"categorical_crossentropy\"\n",
    "optimizer = \"adam\"\n",
    "\n",
    "num_epochs = 20\n",
    "\n",
    "model = Sequential()\n",
    "model.add(\n",
    "    Embedding(\n",
    "        input_dim=vocabulary_size,\n",
    "        output_dim=max_embedding,\n",
    "        input_length=max_token_count,\n",
    "    )\n",
    ")\n",
    "model.add(Flatten())\n",
    "model.add(Dense(64, activation=\"relu\"))\n",
    "model.add(Dense(32, activation=\"relu\"))\n",
    "model.add(Dense(1, activation=\"sigmoid\"))\n",
    "\n",
    "model.compile(loss=loss, optimizer=optimizer, metrics=[\"accuracy\"])\n",
    "model.summary()\n",
    "\n",
    "history = model.fit(\n",
    "    train_padded,\n",
    "    y_train,\n",
    "    batch_size=10,\n",
    "    epochs=num_epochs,\n",
    "    validation_data=(valid_padded, y_valid),\n",
    "    callbacks=[EarlyStopping(monitor=\"val_accuracy\", patience=3)],\n",
    "    verbose=True,\n",
    ")\n",
    "\n",
    "# model.evaluate(test_padded, y_test, verbose=0)\n"
   ]
  },
  {
   "attachments": {},
   "cell_type": "markdown",
   "metadata": {},
   "source": [
    "C2. Network architecture"
   ]
  },
  {
   "attachments": {},
   "cell_type": "markdown",
   "metadata": {},
   "source": [
    "The number of layer identified on the summary is 5. These are 1 embedding, 1 flatten, and 3 dense types. The trainable parameters for the neural network are 75081 as shown in the summary above."
   ]
  },
  {
   "attachments": {},
   "cell_type": "markdown",
   "metadata": {},
   "source": [
    "C3. Hyperparameters"
   ]
  },
  {
   "attachments": {},
   "cell_type": "markdown",
   "metadata": {},
   "source": [
    "We are choosing the following hyperparameters:\n",
    "\n",
    "- activation_function:\n",
    "\n",
    "For the hidden layers, we use the relu function which is the most commonlyused for this type of layers.\n",
    "\n",
    "For the hidden layer with 1 row, we will use the sigmoid function since this is the layer that includes the binary outcome, either 0 or 1.\n",
    "\n",
    "- number of nodes per layer:\n",
    "\n",
    "The number of nodes per layer chosen will be 20. We  will look at the model accuracy to chech if this number of nodes per layer is correct.\n",
    "\n",
    "- loss function:\n",
    "\n",
    "We are using the binary_creossnetropy value since this is a classification analysis with binary outcomes.\n",
    "\n",
    "- optimizer:\n",
    "\n",
    "The option used as optimizer is \"adam\" since it is easy to implement and efficient (Brownlee, 2021). \n",
    "\n",
    "- early stopping:\n",
    "\n",
    "To avoid model overfitting, we will use the early stopping parameter and set the patience as 3 which corresponds to the number of epochs the model can go without improving.\n",
    "\n",
    "- evaluation metric:\n",
    "\n",
    "We are evaluating the model with the evaluate method using the test_padded and y_test parameters. This will give us the accuracy of the model.\n",
    "The test accuracy is 81%."
   ]
  },
  {
   "attachments": {},
   "cell_type": "markdown",
   "metadata": {},
   "source": [
    "D1. Stopping criteria"
   ]
  },
  {
   "attachments": {},
   "cell_type": "markdown",
   "metadata": {},
   "source": [
    "When we use stopping criteria, we avoid the model using too few epochs hence not reaching the best accuracy score. The stopping criteria will define the number of epochs needed to train the model to ensure the best accuracy score."
   ]
  },
  {
   "attachments": {},
   "cell_type": "markdown",
   "metadata": {},
   "source": [
    "D2. Training process"
   ]
  },
  {
   "attachments": {},
   "cell_type": "markdown",
   "metadata": {},
   "source": [
    "The visualizations of the training process include the test accuracy and the test loss plots."
   ]
  },
  {
   "cell_type": "code",
   "execution_count": 25,
   "metadata": {},
   "outputs": [
    {
     "name": "stdout",
     "output_type": "stream",
     "text": [
      "Test loss 0.6224699020385742 / Test accuracy 0.8222222328186035\n"
     ]
    },
    {
     "data": {
      "image/png": "[encoded data removed]",
      "text/plain": [
       "<Figure size 432x288 with 1 Axes>"
      ]
     },
     "metadata": {
      "needs_background": "light"
     },
     "output_type": "display_data"
    },
    {
     "data": {
      "image/png": "[encoded data removed]",
      "text/plain": [
       "<Figure size 432x288 with 1 Axes>"
      ]
     },
     "metadata": {
      "needs_background": "light"
     },
     "output_type": "display_data"
    }
   ],
   "source": [
    "import matplotlib.pyplot as plt\n",
    "score = model.evaluate(test_padded, y_test, verbose=0)\n",
    "print(f'Test loss {score[0]} / Test accuracy {score[1]}')\n",
    "\n",
    "\n",
    "plt.plot(history.history['accuracy'], label= \"Accuracy (training)\")\n",
    "plt.plot(history.history['val_accuracy'], label= \"Accuracy (validation)\")\n",
    "plt.xlabel(\"Number of Epochs\")\n",
    "plt.ylabel(\"Accuracy of Model\")\n",
    "plt.legend()\n",
    "plt.title(\"Accuracy of Training Model Across Epochs\")\n",
    "plt.show()\n",
    "\n",
    "plt.plot(history.history['loss'], label= \"Loss (training)\")\n",
    "plt.plot(history.history['val_loss'], label= \"Loss (validation)\")\n",
    "plt.xlabel(\"Number of Epochs\")\n",
    "plt.ylabel(\"Loss of Model\")\n",
    "plt.legend()\n",
    "plt.title(\"Loss of Training Model Across Epochs\")\n",
    "plt.show()"
   ]
  },
  {
   "attachments": {},
   "cell_type": "markdown",
   "metadata": {},
   "source": [
    "D3. Fit"
   ]
  },
  {
   "attachments": {},
   "cell_type": "markdown",
   "metadata": {},
   "source": [
    "Overfitting occurs when a model knows the data too well hence it will not perform as expectedwhen using the testing set(Brownlee, 2018).\n",
    "\n",
    "There are 2 ways of avoiding overfitting in a neural network:\n",
    "1. Change network complexity by changing the network structure (number of weights)\n",
    "2. Change network complexity by changing the network parameters (values of weights)\n",
    "\n",
    "In this case, we are starting with a smaller network and then we will increase the capacity by adding more nodes to the layers. \n",
    "\n",
    "To avoid overfitting of the model, we are using a training, testing and validation sets. The validation set is needed when we are using hyperparameters in our model (Pramoditha, 2022).\n",
    "\n",
    "The validation set will be used to evaluate the model accuracy by comparing the accuracy scores and the model can be improved by adding more data for training which will optimize the network."
   ]
  },
  {
   "attachments": {},
   "cell_type": "markdown",
   "metadata": {},
   "source": [
    "D4. Predictive accuracy"
   ]
  },
  {
   "attachments": {},
   "cell_type": "markdown",
   "metadata": {},
   "source": [
    "The accuracy of the model is at 80% which is a very good prediction rate. This means that 80% of the time, our model will be accurate at predicting whether the review is positive or negative.\n",
    " \n",
    "The prediction loss compares the target and predict outcomes. It is a measure of how well the training data fits the model (Yatish, 2022). The lowest the prediction loss, the better the model. As we see in the Loss plot, the loss is the lowest when the number of epochs is 1 or 2."
   ]
  },
  {
   "cell_type": "code",
   "execution_count": 26,
   "metadata": {},
   "outputs": [
    {
     "name": "stdout",
     "output_type": "stream",
     "text": [
      "15/15 [==============================] - 0s 2ms/step\n",
      "Predicted review test\n",
      "It worked very well\n",
      "Predicted: Positive review (1.00)\n",
      "Actual: Positive review (1)\n"
     ]
    }
   ],
   "source": [
    "prediction = model.predict(test_padded)\n",
    "# print(prediction)\n",
    "\n",
    "i = 9\n",
    "print(\"Predicted review test\")\n",
    "print(X_test[i])\n",
    "print(\n",
    "    f\"Predicted: {'Positive' if prediction[i][0] >= 0.5 else 'Negative'} review ({'{0:.2f}'.format(prediction[i][0])})\"\n",
    ")\n",
    "print(f\"Actual: {'Positive' if y_test[i] >= 0.5 else 'Negative'} review ({y_test[i]})\")\n"
   ]
  },
  {
   "attachments": {},
   "cell_type": "markdown",
   "metadata": {},
   "source": [
    "E. Code"
   ]
  },
  {
   "attachments": {},
   "cell_type": "markdown",
   "metadata": {},
   "source": [
    "The code used for every step is provided in the Jupyter Notebook."
   ]
  },
  {
   "attachments": {},
   "cell_type": "markdown",
   "metadata": {},
   "source": [
    "F. Functionality"
   ]
  },
  {
   "attachments": {},
   "cell_type": "markdown",
   "metadata": {},
   "source": [
    "The model used 2100 customer reviews to train which is the 70% of the total reviews. We use NLP to analyze the sentiments of the reviews. The reviews are classified as positive or negative.\n",
    "\n",
    "The network architecture allows our model to make sentiment predictions accurately."
   ]
  },
  {
   "attachments": {},
   "cell_type": "markdown",
   "metadata": {},
   "source": [
    "G. Recommendations"
   ]
  },
  {
   "attachments": {},
   "cell_type": "markdown",
   "metadata": {},
   "source": [
    "Based on the results, we could use our model to predict customers' sentiment with a 80% accuracy. This would help us know categorize product reviews into either positive or negative. Once we have a label to each of the reviews we can do further research and analysis as to how many positive reviews vs negative reviews, which are the products that get more negative reviews and which are the ones that have more positive reviews. After identifying which products have more negative reviews, the organizations can make decisions as to whether or not remove the product from their offered products."
   ]
  },
  {
   "attachments": {},
   "cell_type": "markdown",
   "metadata": {},
   "source": [
    "H. Reporting"
   ]
  },
  {
   "attachments": {},
   "cell_type": "markdown",
   "metadata": {},
   "source": [
    "The html of the report is provided as part of the submission."
   ]
  },
  {
   "attachments": {},
   "cell_type": "markdown",
   "metadata": {},
   "source": [
    "I. Sources for third-party code"
   ]
  },
  {
   "attachments": {},
   "cell_type": "markdown",
   "metadata": {},
   "source": [
    "TensorFlow. (n.d.). Retrieved from Text Classification with Movie Reviews: https://www.tensorflow.org/hub/tutorials/tf2_text_classification\n",
    "\n",
    "Notebook, C. (n.d.). Kaggle. Retrieved from https://www.kaggle.com/code/satishgunjal/tokenization-in-nlp"
   ]
  },
  {
   "attachments": {},
   "cell_type": "markdown",
   "metadata": {},
   "source": [
    "J. Sources"
   ]
  },
  {
   "attachments": {},
   "cell_type": "markdown",
   "metadata": {},
   "source": [
    "Brownlee, J. (2019). A Gentle Introduction to Padding and Stride for Convolutional Neural Networks. Retrieved from https://machinelearningmastery.com/padding-and-stride-for-convolutional-neural-networks/\n",
    "\n",
    "Brownlee, J. (2019). How to Configure the Number of Layers and Nodes in a Neural Network. Retrieved from https://machinelearningmastery.com/how-to-configure-the-number-of-layers-and-nodes-in-a-neural-network/\n",
    "\n",
    "Burchfiel, A. (2022). What is NLP (Natural Language Processing) Tokenization? Retrieved from https://www.tokenex.com/blog/ab-what-is-nlp-natural-language-processing-tokenization/#:~:text=Tokenization%20is%20used%20in%20natural,into%20understandable%20parts%20(words)\n",
    "\n",
    "Pramoditha, R. (2022, April 11). Why Do We Need a Validation Set in Addition to Training and Test Sets? Retrieved from https://towardsdatascience.com/why-do-we-need-a-validation-set-in-addition-to-training-and-test-sets-5cf4a65550e0#:~:text=training%20(learning%20parameters)-,The%20validation%20set%20is%20used%20for%20hyperparameter%20tuning.,going%20to%20perform%20hyperp\n",
    "\n",
    "Tokenization in Natural Language Processing. (2022). Retrieved from https://wisdomml.in/tokenization-in-natural-language-processing/\n",
    "\n",
    "Yathish, V. (2022). Loss Functions and Their Use In Neural Networks. Retrieved from Medium: https://towardsdatascience.com/loss-functions-and-their-use-in-neural-networks-a470e703f1e9\n",
    "\n"
   ]
  }
 ],
 "metadata": {
  "kernelspec": {
   "display_name": "Python 3",
   "language": "python",
   "name": "python3"
  },
  "language_info": {
   "codemirror_mode": {
    "name": "ipython",
    "version": 3
   },
   "file_extension": ".py",
   "mimetype": "text/x-python",
   "name": "python",
   "nbconvert_exporter": "python",
   "pygments_lexer": "ipython3",
   "version": "3.10.1"
  },
  "orig_nbformat": 4
 },
 "nbformat": 4,
 "nbformat_minor": 2
}
