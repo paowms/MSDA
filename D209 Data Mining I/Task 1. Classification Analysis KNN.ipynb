{
 "cells": [
  {
   "attachments": {},
   "cell_type": "markdown",
   "metadata": {},
   "source": [
    "WESTERN GOVERNOR'S UNIVERSITY \n",
    "COLLEGE OF IT\n",
    "D-209 DATA MINING I\n",
    "TASK 1: CLASSIFICATION ANALYSIS"
   ]
  },
  {
   "attachments": {},
   "cell_type": "markdown",
   "metadata": {},
   "source": [
    "BY PAOLA WILLIAMS"
   ]
  },
  {
   "attachments": {},
   "cell_type": "markdown",
   "metadata": {},
   "source": [
    "Table of Contents"
   ]
  },
  {
   "attachments": {},
   "cell_type": "markdown",
   "metadata": {},
   "source": [
    "A1. Proposal of question\n",
    "\n",
    "A2. Defined goal\n",
    "\n",
    "B1. Explanation of classification method\n",
    "\n",
    "B2. Summary of method assumption\n",
    "\n",
    "B3. Packages or libraries list\n",
    "\n",
    "C1. Data preprocessing\n",
    "\n",
    "C2. Data set variables\n",
    "\n",
    "C3. Steps for analysis\n",
    "\n",
    "C4. Cleaned data set\n",
    "\n",
    "D1. Splitting the data \n",
    "\n",
    "D2. Output and intermediate calculations\n",
    "\n",
    "D3. Code execution\n",
    "\n",
    "E1. Accuracy and AUC\n",
    "\n",
    "E2. Results and implications\n",
    "\n",
    "E3. Limitation\n",
    "\n",
    "E4. Course of action\n",
    "\n",
    "F. Panopto recording\n",
    "\n",
    "G. Sources for third-party code\n",
    "\n",
    "H. Sources \n",
    "\n",
    "I. Professional Communication"
   ]
  },
  {
   "attachments": {},
   "cell_type": "markdown",
   "metadata": {},
   "source": [
    "A1. Proposal of question"
   ]
  },
  {
   "attachments": {},
   "cell_type": "markdown",
   "metadata": {},
   "source": [
    "Predict whether or not customers will discontinue services at the company."
   ]
  },
  {
   "attachments": {},
   "cell_type": "markdown",
   "metadata": {},
   "source": [
    "A2. Defined goal"
   ]
  },
  {
   "attachments": {},
   "cell_type": "markdown",
   "metadata": {},
   "source": [
    "-Predict customers' churning outcome, either Yes or No, in a binary format."
   ]
  },
  {
   "attachments": {},
   "cell_type": "markdown",
   "metadata": {},
   "source": [
    "B1. Explanation of classification method"
   ]
  },
  {
   "attachments": {},
   "cell_type": "markdown",
   "metadata": {},
   "source": [
    "The classification method chosen is K Nearest Neighbors (KNN). It is used as a predictive model where the data points are categorized into groups depending on the distance between them. It is an supervised machine learning model, i.e., it relies on labeled data to learn a function that predicts the outcome of unlabeled data (Harrison, 2018).\n",
    "\n",
    "In this case, the algorithm will take the churn data and will predict if a customer will churn or not in terms of 1 or 0.\n"
   ]
  },
  {
   "attachments": {},
   "cell_type": "markdown",
   "metadata": {},
   "source": [
    "B2. Summary of method assumption"
   ]
  },
  {
   "attachments": {},
   "cell_type": "markdown",
   "metadata": {},
   "source": [
    "KNN is a non-parametric learning algorithm which means there is no assumption for underlying data distribution. This usually means that the population does not have a normal distribution since the data consist of continuous data rather than discrete v(Non-Parametric Model)."
   ]
  },
  {
   "attachments": {},
   "cell_type": "markdown",
   "metadata": {},
   "source": [
    "B3. Packages or libraries list"
   ]
  },
  {
   "attachments": {},
   "cell_type": "markdown",
   "metadata": {},
   "source": [
    "The following packages are used to create the model area:\n",
    "\n",
    "- Pandas. We will use get_dummies function to convert the categorical variables into dummy variables.\n",
    "\n",
    "- From sklearn, we will use:\n",
    "  - Standard scaler from preprocessing to standardize the numerical variables.\n",
    "  - Train_test_split from modek_selection to split the dataset into training and testing sets.\n",
    "  - Confusion_matrix and accuracy score from metrics to create the confusion matrix and calculate the accuracy score.\n",
    "  - KNeighborsClassifier from neighbors to create the KNN model with the dataset."
   ]
  },
  {
   "attachments": {},
   "cell_type": "markdown",
   "metadata": {},
   "source": [
    "C1. Data preprocessing"
   ]
  },
  {
   "attachments": {},
   "cell_type": "markdown",
   "metadata": {},
   "source": [
    "Converting categorical variables into dummy variables is one of the most relevant data preprocessing goals. This model only takes in categorical variables in binary type. We will use the get_dummies package from the Pandas library.\n"
   ]
  },
  {
   "attachments": {},
   "cell_type": "markdown",
   "metadata": {},
   "source": [
    "C2. Data set variables"
   ]
  },
  {
   "attachments": {},
   "cell_type": "markdown",
   "metadata": {},
   "source": [
    "In this study, the response variable is Churn. We will use the most relevant predictor variables and remove those that are not significant to predicting customers' churning. The continuous predictor variables chosen are:\n",
    "'Population','Children','Age','Income','Outage_sec_perweek','Email','Contacts','Yearly_equip_failure','Tenure','MonthlyCharge','Bandwidth_GB_Year'.\n",
    "\n",
    "The categorical predictor variables are:\n",
    "'State','Churn','Area','Marital','Gender','Techie','Contract','Port_modem','Tablet','InternetService','Phone', 'Multiple','OnlineSecurity','OnlineBackup','DeviceProtection','TechSupport', 'StreamingTV','StreamingMovies','PaperlessBilling','PaymentMethod'."
   ]
  },
  {
   "cell_type": "code",
   "execution_count": 95,
   "metadata": {},
   "outputs": [
    {
     "name": "stdout",
     "output_type": "stream",
     "text": [
      "Requirement already satisfied: pip in c:\\users\\paowm\\appdata\\local\\programs\\python\\python310\\lib\\site-packages (23.0.1)Note: you may need to restart the kernel to use updated packages.\n",
      "\n"
     ]
    }
   ],
   "source": [
    "%pip install --upgrade pip"
   ]
  },
  {
   "cell_type": "code",
   "execution_count": 96,
   "metadata": {},
   "outputs": [],
   "source": [
    "import pandas as pd\n",
    "import matplotlib.pyplot as plt\n",
    "from scipy import stats\n",
    "import numpy as np\n",
    "import seaborn as sns\n",
    "import statsmodels.formula.api as smf\n",
    "from sklearn.preprocessing import StandardScaler\n",
    "from sklearn.model_selection import train_test_split\n",
    "from sklearn.metrics import confusion_matrix, accuracy_score, classification_report\n",
    "from sklearn.metrics import roc_curve\n",
    "from sklearn.metrics import roc_auc_score\n",
    "import statsmodels.api as sm\n",
    "from sklearn.neighbors import KNeighborsClassifier"
   ]
  },
  {
   "cell_type": "code",
   "execution_count": 97,
   "metadata": {},
   "outputs": [],
   "source": [
    "df = pd.read_csv(r\"C:\\Users\\paowm\\Downloads\\churn_clean.csv\")"
   ]
  },
  {
   "cell_type": "code",
   "execution_count": 98,
   "metadata": {},
   "outputs": [
    {
     "data": {
      "text/plain": [
       "Index(['CaseOrder', 'Customer_id', 'Interaction', 'UID', 'City', 'State',\n",
       "       'County', 'Zip', 'Lat', 'Lng', 'Population', 'Area', 'TimeZone', 'Job',\n",
       "       'Children', 'Age', 'Income', 'Marital', 'Gender', 'Churn',\n",
       "       'Outage_sec_perweek', 'Email', 'Contacts', 'Yearly_equip_failure',\n",
       "       'Techie', 'Contract', 'Port_modem', 'Tablet', 'InternetService',\n",
       "       'Phone', 'Multiple', 'OnlineSecurity', 'OnlineBackup',\n",
       "       'DeviceProtection', 'TechSupport', 'StreamingTV', 'StreamingMovies',\n",
       "       'PaperlessBilling', 'PaymentMethod', 'Tenure', 'MonthlyCharge',\n",
       "       'Bandwidth_GB_Year', 'Item1', 'Item2', 'Item3', 'Item4', 'Item5',\n",
       "       'Item6', 'Item7', 'Item8'],\n",
       "      dtype='object')"
      ]
     },
     "execution_count": 98,
     "metadata": {},
     "output_type": "execute_result"
    }
   ],
   "source": [
    "df.columns"
   ]
  },
  {
   "cell_type": "code",
   "execution_count": 99,
   "metadata": {},
   "outputs": [],
   "source": [
    "df = df[['Population','State', 'Area','Children', 'Age', 'Income', 'Marital', 'Gender', 'Churn',\n",
    "       'Outage_sec_perweek', 'Email', 'Contacts', 'Yearly_equip_failure',\n",
    "       'Techie', 'Contract', 'Port_modem', 'Tablet', 'InternetService',\n",
    "       'Phone', 'Multiple', 'OnlineSecurity', 'OnlineBackup',\n",
    "       'DeviceProtection', 'TechSupport', 'StreamingTV', 'StreamingMovies',\n",
    "       'PaperlessBilling', 'PaymentMethod', 'Tenure', 'MonthlyCharge',\n",
    "       'Bandwidth_GB_Year']]"
   ]
  },
  {
   "attachments": {},
   "cell_type": "markdown",
   "metadata": {},
   "source": [
    "We can see below the summary statistics of the numerical variables in the dataset. "
   ]
  },
  {
   "cell_type": "code",
   "execution_count": 100,
   "metadata": {},
   "outputs": [
    {
     "data": {
      "text/html": [
       "<div>\n",
       "<style scoped>\n",
       "    .dataframe tbody tr th:only-of-type {\n",
       "        vertical-align: middle;\n",
       "    }\n",
       "\n",
       "    .dataframe tbody tr th {\n",
       "        vertical-align: top;\n",
       "    }\n",
       "\n",
       "    .dataframe thead th {\n",
       "        text-align: right;\n",
       "    }\n",
       "</style>\n",
       "<table border=\"1\" class=\"dataframe\">\n",
       "  <thead>\n",
       "    <tr style=\"text-align: right;\">\n",
       "      <th></th>\n",
       "      <th>Population</th>\n",
       "      <th>Children</th>\n",
       "      <th>Age</th>\n",
       "      <th>Income</th>\n",
       "      <th>Outage_sec_perweek</th>\n",
       "      <th>Email</th>\n",
       "      <th>Contacts</th>\n",
       "      <th>Yearly_equip_failure</th>\n",
       "      <th>Tenure</th>\n",
       "      <th>MonthlyCharge</th>\n",
       "      <th>Bandwidth_GB_Year</th>\n",
       "    </tr>\n",
       "  </thead>\n",
       "  <tbody>\n",
       "    <tr>\n",
       "      <th>count</th>\n",
       "      <td>10000.000000</td>\n",
       "      <td>10000.0000</td>\n",
       "      <td>10000.000000</td>\n",
       "      <td>10000.000000</td>\n",
       "      <td>10000.000000</td>\n",
       "      <td>10000.000000</td>\n",
       "      <td>10000.000000</td>\n",
       "      <td>10000.000000</td>\n",
       "      <td>10000.000000</td>\n",
       "      <td>10000.000000</td>\n",
       "      <td>10000.000000</td>\n",
       "    </tr>\n",
       "    <tr>\n",
       "      <th>mean</th>\n",
       "      <td>9756.562400</td>\n",
       "      <td>2.0877</td>\n",
       "      <td>53.078400</td>\n",
       "      <td>39806.926771</td>\n",
       "      <td>10.001848</td>\n",
       "      <td>12.016000</td>\n",
       "      <td>0.994200</td>\n",
       "      <td>0.398000</td>\n",
       "      <td>34.526188</td>\n",
       "      <td>172.624816</td>\n",
       "      <td>3392.341550</td>\n",
       "    </tr>\n",
       "    <tr>\n",
       "      <th>std</th>\n",
       "      <td>14432.698671</td>\n",
       "      <td>2.1472</td>\n",
       "      <td>20.698882</td>\n",
       "      <td>28199.916702</td>\n",
       "      <td>2.976019</td>\n",
       "      <td>3.025898</td>\n",
       "      <td>0.988466</td>\n",
       "      <td>0.635953</td>\n",
       "      <td>26.443063</td>\n",
       "      <td>42.943094</td>\n",
       "      <td>2185.294852</td>\n",
       "    </tr>\n",
       "    <tr>\n",
       "      <th>min</th>\n",
       "      <td>0.000000</td>\n",
       "      <td>0.0000</td>\n",
       "      <td>18.000000</td>\n",
       "      <td>348.670000</td>\n",
       "      <td>0.099747</td>\n",
       "      <td>1.000000</td>\n",
       "      <td>0.000000</td>\n",
       "      <td>0.000000</td>\n",
       "      <td>1.000259</td>\n",
       "      <td>79.978860</td>\n",
       "      <td>155.506715</td>\n",
       "    </tr>\n",
       "    <tr>\n",
       "      <th>25%</th>\n",
       "      <td>738.000000</td>\n",
       "      <td>0.0000</td>\n",
       "      <td>35.000000</td>\n",
       "      <td>19224.717500</td>\n",
       "      <td>8.018214</td>\n",
       "      <td>10.000000</td>\n",
       "      <td>0.000000</td>\n",
       "      <td>0.000000</td>\n",
       "      <td>7.917694</td>\n",
       "      <td>139.979239</td>\n",
       "      <td>1236.470827</td>\n",
       "    </tr>\n",
       "    <tr>\n",
       "      <th>50%</th>\n",
       "      <td>2910.500000</td>\n",
       "      <td>1.0000</td>\n",
       "      <td>53.000000</td>\n",
       "      <td>33170.605000</td>\n",
       "      <td>10.018560</td>\n",
       "      <td>12.000000</td>\n",
       "      <td>1.000000</td>\n",
       "      <td>0.000000</td>\n",
       "      <td>35.430507</td>\n",
       "      <td>167.484700</td>\n",
       "      <td>3279.536903</td>\n",
       "    </tr>\n",
       "    <tr>\n",
       "      <th>75%</th>\n",
       "      <td>13168.000000</td>\n",
       "      <td>3.0000</td>\n",
       "      <td>71.000000</td>\n",
       "      <td>53246.170000</td>\n",
       "      <td>11.969485</td>\n",
       "      <td>14.000000</td>\n",
       "      <td>2.000000</td>\n",
       "      <td>1.000000</td>\n",
       "      <td>61.479795</td>\n",
       "      <td>200.734725</td>\n",
       "      <td>5586.141370</td>\n",
       "    </tr>\n",
       "    <tr>\n",
       "      <th>max</th>\n",
       "      <td>111850.000000</td>\n",
       "      <td>10.0000</td>\n",
       "      <td>89.000000</td>\n",
       "      <td>258900.700000</td>\n",
       "      <td>21.207230</td>\n",
       "      <td>23.000000</td>\n",
       "      <td>7.000000</td>\n",
       "      <td>6.000000</td>\n",
       "      <td>71.999280</td>\n",
       "      <td>290.160419</td>\n",
       "      <td>7158.981530</td>\n",
       "    </tr>\n",
       "  </tbody>\n",
       "</table>\n",
       "</div>"
      ],
      "text/plain": [
       "          Population    Children           Age         Income  \\\n",
       "count   10000.000000  10000.0000  10000.000000   10000.000000   \n",
       "mean     9756.562400      2.0877     53.078400   39806.926771   \n",
       "std     14432.698671      2.1472     20.698882   28199.916702   \n",
       "min         0.000000      0.0000     18.000000     348.670000   \n",
       "25%       738.000000      0.0000     35.000000   19224.717500   \n",
       "50%      2910.500000      1.0000     53.000000   33170.605000   \n",
       "75%     13168.000000      3.0000     71.000000   53246.170000   \n",
       "max    111850.000000     10.0000     89.000000  258900.700000   \n",
       "\n",
       "       Outage_sec_perweek         Email      Contacts  Yearly_equip_failure  \\\n",
       "count        10000.000000  10000.000000  10000.000000          10000.000000   \n",
       "mean            10.001848     12.016000      0.994200              0.398000   \n",
       "std              2.976019      3.025898      0.988466              0.635953   \n",
       "min              0.099747      1.000000      0.000000              0.000000   \n",
       "25%              8.018214     10.000000      0.000000              0.000000   \n",
       "50%             10.018560     12.000000      1.000000              0.000000   \n",
       "75%             11.969485     14.000000      2.000000              1.000000   \n",
       "max             21.207230     23.000000      7.000000              6.000000   \n",
       "\n",
       "             Tenure  MonthlyCharge  Bandwidth_GB_Year  \n",
       "count  10000.000000   10000.000000       10000.000000  \n",
       "mean      34.526188     172.624816        3392.341550  \n",
       "std       26.443063      42.943094        2185.294852  \n",
       "min        1.000259      79.978860         155.506715  \n",
       "25%        7.917694     139.979239        1236.470827  \n",
       "50%       35.430507     167.484700        3279.536903  \n",
       "75%       61.479795     200.734725        5586.141370  \n",
       "max       71.999280     290.160419        7158.981530  "
      ]
     },
     "execution_count": 100,
     "metadata": {},
     "output_type": "execute_result"
    }
   ],
   "source": [
    "df.describe()"
   ]
  },
  {
   "attachments": {},
   "cell_type": "markdown",
   "metadata": {},
   "source": [
    "C3. Steps to prepare data"
   ]
  },
  {
   "attachments": {},
   "cell_type": "markdown",
   "metadata": {},
   "source": [
    "1. Data cleaning: Detecting and cleaning Nulls"
   ]
  },
  {
   "cell_type": "code",
   "execution_count": 101,
   "metadata": {},
   "outputs": [
    {
     "data": {
      "text/plain": [
       "Population              0\n",
       "State                   0\n",
       "Area                    0\n",
       "Children                0\n",
       "Age                     0\n",
       "Income                  0\n",
       "Marital                 0\n",
       "Gender                  0\n",
       "Churn                   0\n",
       "Outage_sec_perweek      0\n",
       "Email                   0\n",
       "Contacts                0\n",
       "Yearly_equip_failure    0\n",
       "Techie                  0\n",
       "Contract                0\n",
       "Port_modem              0\n",
       "Tablet                  0\n",
       "InternetService         0\n",
       "Phone                   0\n",
       "Multiple                0\n",
       "OnlineSecurity          0\n",
       "OnlineBackup            0\n",
       "DeviceProtection        0\n",
       "TechSupport             0\n",
       "StreamingTV             0\n",
       "StreamingMovies         0\n",
       "PaperlessBilling        0\n",
       "PaymentMethod           0\n",
       "Tenure                  0\n",
       "MonthlyCharge           0\n",
       "Bandwidth_GB_Year       0\n",
       "dtype: int64"
      ]
     },
     "execution_count": 101,
     "metadata": {},
     "output_type": "execute_result"
    }
   ],
   "source": [
    "df.isnull().sum()"
   ]
  },
  {
   "attachments": {},
   "cell_type": "markdown",
   "metadata": {},
   "source": [
    "2. Detecting and treating outliers"
   ]
  },
  {
   "cell_type": "code",
   "execution_count": 102,
   "metadata": {},
   "outputs": [
    {
     "data": {
      "text/plain": [
       "191"
      ]
     },
     "execution_count": 102,
     "metadata": {},
     "output_type": "execute_result"
    }
   ],
   "source": [
    "df['Z_Score_Children']=stats.zscore(df['Children'])\n",
    "sum(df.Z_Score_Children > 3)"
   ]
  },
  {
   "cell_type": "code",
   "execution_count": 103,
   "metadata": {},
   "outputs": [
    {
     "data": {
      "image/png": "[encoded data removed]",
      "text/plain": [
       "<Figure size 432x288 with 1 Axes>"
      ]
     },
     "metadata": {
      "needs_background": "light"
     },
     "output_type": "display_data"
    }
   ],
   "source": [
    "c =sns.boxplot(x='Children', data=df)"
   ]
  },
  {
   "cell_type": "code",
   "execution_count": 104,
   "metadata": {},
   "outputs": [],
   "source": [
    "df['Children'] = np.where(df['Z_Score_Children'] > 3, df['Children'].median(), df['Children'])\n",
    "df['Z_Score_Children']=stats.zscore(df['Children'])"
   ]
  },
  {
   "cell_type": "code",
   "execution_count": 105,
   "metadata": {},
   "outputs": [
    {
     "data": {
      "text/plain": [
       "0"
      ]
     },
     "execution_count": 105,
     "metadata": {},
     "output_type": "execute_result"
    }
   ],
   "source": [
    "df['Z_Score_Age']=stats.zscore(df['Age'])\n",
    "sum((df.Z_Score_Age < -3) | (df.Z_Score_Age > 3))"
   ]
  },
  {
   "cell_type": "code",
   "execution_count": 106,
   "metadata": {},
   "outputs": [
    {
     "data": {
      "text/plain": [
       "145"
      ]
     },
     "execution_count": 106,
     "metadata": {},
     "output_type": "execute_result"
    }
   ],
   "source": [
    "df['Z_Score_Income']=stats.zscore(df['Income'])\n",
    "sum((df.Z_Score_Income < -3) | (df.Z_Score_Income > 3))"
   ]
  },
  {
   "cell_type": "code",
   "execution_count": 107,
   "metadata": {},
   "outputs": [
    {
     "data": {
      "image/png": "[encoded data removed]",
      "text/plain": [
       "<Figure size 432x288 with 1 Axes>"
      ]
     },
     "metadata": {
      "needs_background": "light"
     },
     "output_type": "display_data"
    }
   ],
   "source": [
    "c =sns.boxplot(x='Income', data=df)"
   ]
  },
  {
   "cell_type": "code",
   "execution_count": 108,
   "metadata": {},
   "outputs": [],
   "source": [
    "df['Income'] = np.where(df['Z_Score_Income'] > 3, df['Income'].median(), df['Income'])\n",
    "df['Z_Score_Income']=stats.zscore(df['Income'])"
   ]
  },
  {
   "cell_type": "code",
   "execution_count": 109,
   "metadata": {},
   "outputs": [
    {
     "data": {
      "text/plain": [
       "28"
      ]
     },
     "execution_count": 109,
     "metadata": {},
     "output_type": "execute_result"
    }
   ],
   "source": [
    "df['Z_Score_Outage_sec_perweek']=stats.zscore(df['Outage_sec_perweek'])\n",
    "sum((df.Z_Score_Outage_sec_perweek< -3) | (df.Z_Score_Outage_sec_perweek > 3))"
   ]
  },
  {
   "cell_type": "code",
   "execution_count": 110,
   "metadata": {},
   "outputs": [
    {
     "data": {
      "image/png": "[encoded data removed]",
      "text/plain": [
       "<Figure size 432x288 with 1 Axes>"
      ]
     },
     "metadata": {
      "needs_background": "light"
     },
     "output_type": "display_data"
    }
   ],
   "source": [
    "c =sns.boxplot(x='Outage_sec_perweek', data=df)"
   ]
  },
  {
   "cell_type": "code",
   "execution_count": 111,
   "metadata": {},
   "outputs": [
    {
     "data": {
      "text/plain": [
       "15"
      ]
     },
     "execution_count": 111,
     "metadata": {},
     "output_type": "execute_result"
    }
   ],
   "source": [
    "sum(df.Z_Score_Outage_sec_perweek > 3)"
   ]
  },
  {
   "cell_type": "code",
   "execution_count": 112,
   "metadata": {},
   "outputs": [],
   "source": [
    "df['Outage_sec_perweek'] = np.where(df['Z_Score_Outage_sec_perweek'] > 3, df['Outage_sec_perweek'].median(), df['Outage_sec_perweek'])\n",
    "df['Z_Score_Outage_sec_perweek']=stats.zscore(df['Outage_sec_perweek'])"
   ]
  },
  {
   "cell_type": "code",
   "execution_count": 113,
   "metadata": {},
   "outputs": [
    {
     "data": {
      "text/plain": [
       "13"
      ]
     },
     "execution_count": 113,
     "metadata": {},
     "output_type": "execute_result"
    }
   ],
   "source": [
    "sum(df.Z_Score_Outage_sec_perweek < -3)"
   ]
  },
  {
   "cell_type": "code",
   "execution_count": 114,
   "metadata": {},
   "outputs": [],
   "source": [
    "df['Outage_sec_perweek'] = np.where(df['Z_Score_Outage_sec_perweek'] < -3, df['Outage_sec_perweek'].median(), df['Outage_sec_perweek'])\n",
    "df['Z_Score_Outage_sec_perweek']=stats.zscore(df['Outage_sec_perweek'])"
   ]
  },
  {
   "cell_type": "code",
   "execution_count": 115,
   "metadata": {},
   "outputs": [
    {
     "data": {
      "text/plain": [
       "12"
      ]
     },
     "execution_count": 115,
     "metadata": {},
     "output_type": "execute_result"
    }
   ],
   "source": [
    "df['Z_Score_Email']=stats.zscore(df['Email'])\n",
    "sum((df.Z_Score_Email < -3) | (df.Z_Score_Email > 3))"
   ]
  },
  {
   "cell_type": "code",
   "execution_count": 116,
   "metadata": {},
   "outputs": [
    {
     "data": {
      "image/png": "[encoded data removed]",
      "text/plain": [
       "<Figure size 432x288 with 1 Axes>"
      ]
     },
     "metadata": {
      "needs_background": "light"
     },
     "output_type": "display_data"
    }
   ],
   "source": [
    "c =sns.boxplot(x='Email', data=df)"
   ]
  },
  {
   "cell_type": "code",
   "execution_count": 117,
   "metadata": {},
   "outputs": [
    {
     "data": {
      "text/plain": [
       "9"
      ]
     },
     "execution_count": 117,
     "metadata": {},
     "output_type": "execute_result"
    }
   ],
   "source": [
    "sum(df.Z_Score_Email < -3)"
   ]
  },
  {
   "cell_type": "code",
   "execution_count": 118,
   "metadata": {},
   "outputs": [],
   "source": [
    "df['Email'] = np.where(df['Z_Score_Email'] < -3, df['Email'].median(), df['Email'])\n",
    "df['Z_Score_Email']=stats.zscore(df['Email'])"
   ]
  },
  {
   "cell_type": "code",
   "execution_count": 119,
   "metadata": {},
   "outputs": [
    {
     "data": {
      "text/plain": [
       "3"
      ]
     },
     "execution_count": 119,
     "metadata": {},
     "output_type": "execute_result"
    }
   ],
   "source": [
    "sum(df.Z_Score_Email > 3)"
   ]
  },
  {
   "cell_type": "code",
   "execution_count": 120,
   "metadata": {},
   "outputs": [],
   "source": [
    "df['Email'] = np.where(df['Z_Score_Email'] > 3, df['Email'].median(), df['Email'])\n",
    "df['Z_Score_Email']=stats.zscore(df['Email'])"
   ]
  },
  {
   "cell_type": "code",
   "execution_count": 121,
   "metadata": {},
   "outputs": [
    {
     "data": {
      "text/plain": [
       "165"
      ]
     },
     "execution_count": 121,
     "metadata": {},
     "output_type": "execute_result"
    }
   ],
   "source": [
    "df['Z_Score_Contacts']=stats.zscore(df['Contacts'])\n",
    "sum(df.Z_Score_Contacts > 3)"
   ]
  },
  {
   "cell_type": "code",
   "execution_count": 122,
   "metadata": {},
   "outputs": [
    {
     "data": {
      "image/png": "[encoded data removed]",
      "text/plain": [
       "<Figure size 432x288 with 1 Axes>"
      ]
     },
     "metadata": {
      "needs_background": "light"
     },
     "output_type": "display_data"
    }
   ],
   "source": [
    "c =sns.boxplot(x='Contacts', data=df)"
   ]
  },
  {
   "cell_type": "code",
   "execution_count": 123,
   "metadata": {},
   "outputs": [],
   "source": [
    "df['Contacts'] = np.where(df['Z_Score_Contacts'] > 3, df['Contacts'].median(), df['Contacts'])\n",
    "df['Z_Score_Contacts']=stats.zscore(df['Contacts'])"
   ]
  },
  {
   "cell_type": "code",
   "execution_count": 124,
   "metadata": {},
   "outputs": [
    {
     "data": {
      "text/plain": [
       "94"
      ]
     },
     "execution_count": 124,
     "metadata": {},
     "output_type": "execute_result"
    }
   ],
   "source": [
    "df['Z_Score_Yearly_equip_failure']=stats.zscore(df['Yearly_equip_failure'])\n",
    "sum((df.Z_Score_Yearly_equip_failure < -3) | (df.Z_Score_Yearly_equip_failure > 3))"
   ]
  },
  {
   "cell_type": "code",
   "execution_count": 125,
   "metadata": {},
   "outputs": [
    {
     "data": {
      "image/png": "[encoded data removed]",
      "text/plain": [
       "<Figure size 432x288 with 1 Axes>"
      ]
     },
     "metadata": {
      "needs_background": "light"
     },
     "output_type": "display_data"
    }
   ],
   "source": [
    "c =sns.boxplot(x='Yearly_equip_failure', data=df)"
   ]
  },
  {
   "cell_type": "code",
   "execution_count": 126,
   "metadata": {},
   "outputs": [],
   "source": [
    "df['Yearly_equip_failure'] = np.where(df['Z_Score_Yearly_equip_failure'] > 3, df['Yearly_equip_failure'].median(), df['Yearly_equip_failure'])\n",
    "df['Z_Score_Yearly_equip_failure']=stats.zscore(df['Yearly_equip_failure'])"
   ]
  },
  {
   "cell_type": "code",
   "execution_count": 127,
   "metadata": {},
   "outputs": [
    {
     "data": {
      "text/plain": [
       "0"
      ]
     },
     "execution_count": 127,
     "metadata": {},
     "output_type": "execute_result"
    }
   ],
   "source": [
    "df['Z_Score_Tenure']=stats.zscore(df['Tenure'])\n",
    "sum((df.Z_Score_Tenure < -3) | (df.Z_Score_Tenure > 3))"
   ]
  },
  {
   "cell_type": "code",
   "execution_count": 128,
   "metadata": {},
   "outputs": [
    {
     "data": {
      "text/plain": [
       "0"
      ]
     },
     "execution_count": 128,
     "metadata": {},
     "output_type": "execute_result"
    }
   ],
   "source": [
    "df['Z_Score_Monthly_Charge']=stats.zscore(df['MonthlyCharge'])\n",
    "sum((df.Z_Score_Monthly_Charge < -3) | (df.Z_Score_Monthly_Charge> 3))"
   ]
  },
  {
   "cell_type": "code",
   "execution_count": 129,
   "metadata": {},
   "outputs": [
    {
     "data": {
      "text/plain": [
       "0"
      ]
     },
     "execution_count": 129,
     "metadata": {},
     "output_type": "execute_result"
    }
   ],
   "source": [
    "df['Z_Score_Bandwidth_GB_Year']=stats.zscore(df['Bandwidth_GB_Year'])\n",
    "sum((df.Z_Score_Bandwidth_GB_Year< -3) | (df.Z_Score_Bandwidth_GB_Year> 3))"
   ]
  },
  {
   "cell_type": "code",
   "execution_count": 130,
   "metadata": {},
   "outputs": [
    {
     "data": {
      "text/plain": [
       "No     7350\n",
       "Yes    2650\n",
       "Name: Churn, dtype: int64"
      ]
     },
     "execution_count": 130,
     "metadata": {},
     "output_type": "execute_result"
    }
   ],
   "source": [
    "df['Churn'].value_counts()"
   ]
  },
  {
   "attachments": {},
   "cell_type": "markdown",
   "metadata": {},
   "source": [
    "3. Replace Churn outomes into 0 and 1"
   ]
  },
  {
   "cell_type": "code",
   "execution_count": 131,
   "metadata": {},
   "outputs": [
    {
     "data": {
      "text/plain": [
       "0    7350\n",
       "1    2650\n",
       "Name: Churn, dtype: int64"
      ]
     },
     "execution_count": 131,
     "metadata": {},
     "output_type": "execute_result"
    }
   ],
   "source": [
    "df['Churn'] = df['Churn'].replace({'No': 0, 'Yes': 1})\n",
    "df['Churn'].value_counts()"
   ]
  },
  {
   "cell_type": "code",
   "execution_count": 132,
   "metadata": {},
   "outputs": [],
   "source": [
    "df = df.drop(columns=['Z_Score_Children','Z_Score_Age','Z_Score_Income','Z_Score_Outage_sec_perweek','Z_Score_Email', 'Z_Score_Contacts', 'Z_Score_Yearly_equip_failure', 'Z_Score_Tenure','Z_Score_Monthly_Charge', 'Z_Score_Monthly_Charge','Z_Score_Bandwidth_GB_Year'])"
   ]
  },
  {
   "cell_type": "code",
   "execution_count": 133,
   "metadata": {},
   "outputs": [
    {
     "data": {
      "text/html": [
       "<div>\n",
       "<style scoped>\n",
       "    .dataframe tbody tr th:only-of-type {\n",
       "        vertical-align: middle;\n",
       "    }\n",
       "\n",
       "    .dataframe tbody tr th {\n",
       "        vertical-align: top;\n",
       "    }\n",
       "\n",
       "    .dataframe thead th {\n",
       "        text-align: right;\n",
       "    }\n",
       "</style>\n",
       "<table border=\"1\" class=\"dataframe\">\n",
       "  <thead>\n",
       "    <tr style=\"text-align: right;\">\n",
       "      <th></th>\n",
       "      <th>Population</th>\n",
       "      <th>Children</th>\n",
       "      <th>Age</th>\n",
       "      <th>Income</th>\n",
       "      <th>Churn</th>\n",
       "      <th>Outage_sec_perweek</th>\n",
       "      <th>Email</th>\n",
       "      <th>Contacts</th>\n",
       "      <th>Yearly_equip_failure</th>\n",
       "      <th>Tenure</th>\n",
       "      <th>MonthlyCharge</th>\n",
       "      <th>Bandwidth_GB_Year</th>\n",
       "    </tr>\n",
       "  </thead>\n",
       "  <tbody>\n",
       "    <tr>\n",
       "      <th>count</th>\n",
       "      <td>10000.000000</td>\n",
       "      <td>10000.000000</td>\n",
       "      <td>10000.000000</td>\n",
       "      <td>10000.000000</td>\n",
       "      <td>10000.000000</td>\n",
       "      <td>10000.000000</td>\n",
       "      <td>10000.000000</td>\n",
       "      <td>10000.000000</td>\n",
       "      <td>10000.000000</td>\n",
       "      <td>10000.000000</td>\n",
       "      <td>10000.000000</td>\n",
       "      <td>10000.000000</td>\n",
       "    </tr>\n",
       "    <tr>\n",
       "      <th>mean</th>\n",
       "      <td>9756.562400</td>\n",
       "      <td>1.925000</td>\n",
       "      <td>53.078400</td>\n",
       "      <td>38151.157582</td>\n",
       "      <td>0.265000</td>\n",
       "      <td>9.999841</td>\n",
       "      <td>12.022200</td>\n",
       "      <td>0.940800</td>\n",
       "      <td>0.368800</td>\n",
       "      <td>34.526188</td>\n",
       "      <td>172.624816</td>\n",
       "      <td>3392.341550</td>\n",
       "    </tr>\n",
       "    <tr>\n",
       "      <th>std</th>\n",
       "      <td>14432.698671</td>\n",
       "      <td>1.883383</td>\n",
       "      <td>20.698882</td>\n",
       "      <td>24850.801431</td>\n",
       "      <td>0.441355</td>\n",
       "      <td>2.933317</td>\n",
       "      <td>3.004565</td>\n",
       "      <td>0.891614</td>\n",
       "      <td>0.578464</td>\n",
       "      <td>26.443063</td>\n",
       "      <td>42.943094</td>\n",
       "      <td>2185.294852</td>\n",
       "    </tr>\n",
       "    <tr>\n",
       "      <th>min</th>\n",
       "      <td>0.000000</td>\n",
       "      <td>0.000000</td>\n",
       "      <td>18.000000</td>\n",
       "      <td>348.670000</td>\n",
       "      <td>0.000000</td>\n",
       "      <td>1.144796</td>\n",
       "      <td>3.000000</td>\n",
       "      <td>0.000000</td>\n",
       "      <td>0.000000</td>\n",
       "      <td>1.000259</td>\n",
       "      <td>79.978860</td>\n",
       "      <td>155.506715</td>\n",
       "    </tr>\n",
       "    <tr>\n",
       "      <th>25%</th>\n",
       "      <td>738.000000</td>\n",
       "      <td>0.000000</td>\n",
       "      <td>35.000000</td>\n",
       "      <td>19224.717500</td>\n",
       "      <td>0.000000</td>\n",
       "      <td>8.033911</td>\n",
       "      <td>10.000000</td>\n",
       "      <td>0.000000</td>\n",
       "      <td>0.000000</td>\n",
       "      <td>7.917694</td>\n",
       "      <td>139.979239</td>\n",
       "      <td>1236.470827</td>\n",
       "    </tr>\n",
       "    <tr>\n",
       "      <th>50%</th>\n",
       "      <td>2910.500000</td>\n",
       "      <td>1.000000</td>\n",
       "      <td>53.000000</td>\n",
       "      <td>33169.742500</td>\n",
       "      <td>0.000000</td>\n",
       "      <td>10.018270</td>\n",
       "      <td>12.000000</td>\n",
       "      <td>1.000000</td>\n",
       "      <td>0.000000</td>\n",
       "      <td>35.430507</td>\n",
       "      <td>167.484700</td>\n",
       "      <td>3279.536903</td>\n",
       "    </tr>\n",
       "    <tr>\n",
       "      <th>75%</th>\n",
       "      <td>13168.000000</td>\n",
       "      <td>3.000000</td>\n",
       "      <td>71.000000</td>\n",
       "      <td>51669.637500</td>\n",
       "      <td>1.000000</td>\n",
       "      <td>11.955480</td>\n",
       "      <td>14.000000</td>\n",
       "      <td>1.000000</td>\n",
       "      <td>1.000000</td>\n",
       "      <td>61.479795</td>\n",
       "      <td>200.734725</td>\n",
       "      <td>5586.141370</td>\n",
       "    </tr>\n",
       "    <tr>\n",
       "      <th>max</th>\n",
       "      <td>111850.000000</td>\n",
       "      <td>8.000000</td>\n",
       "      <td>89.000000</td>\n",
       "      <td>124025.100000</td>\n",
       "      <td>1.000000</td>\n",
       "      <td>18.851730</td>\n",
       "      <td>21.000000</td>\n",
       "      <td>3.000000</td>\n",
       "      <td>2.000000</td>\n",
       "      <td>71.999280</td>\n",
       "      <td>290.160419</td>\n",
       "      <td>7158.981530</td>\n",
       "    </tr>\n",
       "  </tbody>\n",
       "</table>\n",
       "</div>"
      ],
      "text/plain": [
       "          Population      Children           Age         Income         Churn  \\\n",
       "count   10000.000000  10000.000000  10000.000000   10000.000000  10000.000000   \n",
       "mean     9756.562400      1.925000     53.078400   38151.157582      0.265000   \n",
       "std     14432.698671      1.883383     20.698882   24850.801431      0.441355   \n",
       "min         0.000000      0.000000     18.000000     348.670000      0.000000   \n",
       "25%       738.000000      0.000000     35.000000   19224.717500      0.000000   \n",
       "50%      2910.500000      1.000000     53.000000   33169.742500      0.000000   \n",
       "75%     13168.000000      3.000000     71.000000   51669.637500      1.000000   \n",
       "max    111850.000000      8.000000     89.000000  124025.100000      1.000000   \n",
       "\n",
       "       Outage_sec_perweek         Email      Contacts  Yearly_equip_failure  \\\n",
       "count        10000.000000  10000.000000  10000.000000          10000.000000   \n",
       "mean             9.999841     12.022200      0.940800              0.368800   \n",
       "std              2.933317      3.004565      0.891614              0.578464   \n",
       "min              1.144796      3.000000      0.000000              0.000000   \n",
       "25%              8.033911     10.000000      0.000000              0.000000   \n",
       "50%             10.018270     12.000000      1.000000              0.000000   \n",
       "75%             11.955480     14.000000      1.000000              1.000000   \n",
       "max             18.851730     21.000000      3.000000              2.000000   \n",
       "\n",
       "             Tenure  MonthlyCharge  Bandwidth_GB_Year  \n",
       "count  10000.000000   10000.000000       10000.000000  \n",
       "mean      34.526188     172.624816        3392.341550  \n",
       "std       26.443063      42.943094        2185.294852  \n",
       "min        1.000259      79.978860         155.506715  \n",
       "25%        7.917694     139.979239        1236.470827  \n",
       "50%       35.430507     167.484700        3279.536903  \n",
       "75%       61.479795     200.734725        5586.141370  \n",
       "max       71.999280     290.160419        7158.981530  "
      ]
     },
     "execution_count": 133,
     "metadata": {},
     "output_type": "execute_result"
    }
   ],
   "source": [
    "df.describe()"
   ]
  },
  {
   "cell_type": "code",
   "execution_count": 134,
   "metadata": {},
   "outputs": [],
   "source": [
    "df.to_csv(r'C:\\Users\\paowm\\Desktop\\churn_clean.csv')"
   ]
  },
  {
   "cell_type": "code",
   "execution_count": 135,
   "metadata": {},
   "outputs": [
    {
     "data": {
      "text/plain": [
       "Population                int64\n",
       "State                    object\n",
       "Area                     object\n",
       "Children                float64\n",
       "Age                       int64\n",
       "Income                  float64\n",
       "Marital                  object\n",
       "Gender                   object\n",
       "Churn                     int64\n",
       "Outage_sec_perweek      float64\n",
       "Email                   float64\n",
       "Contacts                float64\n",
       "Yearly_equip_failure    float64\n",
       "Techie                   object\n",
       "Contract                 object\n",
       "Port_modem               object\n",
       "Tablet                   object\n",
       "InternetService          object\n",
       "Phone                    object\n",
       "Multiple                 object\n",
       "OnlineSecurity           object\n",
       "OnlineBackup             object\n",
       "DeviceProtection         object\n",
       "TechSupport              object\n",
       "StreamingTV              object\n",
       "StreamingMovies          object\n",
       "PaperlessBilling         object\n",
       "PaymentMethod            object\n",
       "Tenure                  float64\n",
       "MonthlyCharge           float64\n",
       "Bandwidth_GB_Year       float64\n",
       "dtype: object"
      ]
     },
     "execution_count": 135,
     "metadata": {},
     "output_type": "execute_result"
    }
   ],
   "source": [
    "df.dtypes"
   ]
  },
  {
   "cell_type": "markdown",
   "metadata": {},
   "source": [
    "4. Convert categorical variables into dummy variables"
   ]
  },
  {
   "cell_type": "code",
   "execution_count": 136,
   "metadata": {},
   "outputs": [],
   "source": [
    "dummy_variables = ['State','Churn','Area','Marital','Gender','Techie','Contract','Port_modem','Tablet','InternetService','Phone', 'Multiple','OnlineSecurity','OnlineBackup','DeviceProtection','TechSupport', 'StreamingTV','StreamingMovies','PaperlessBilling','PaymentMethod']\n",
    "\n",
    "dummy_data = pd.get_dummies(df, prefix=dummy_variables, columns=dummy_variables, drop_first= True)\n",
    "y = dummy_data['Churn_1']\n",
    "dummy_data.drop(columns=['Churn_1'], inplace=True)\n"
   ]
  },
  {
   "attachments": {},
   "cell_type": "markdown",
   "metadata": {},
   "source": [
    "5. Standardized numerical variables"
   ]
  },
  {
   "cell_type": "code",
   "execution_count": 137,
   "metadata": {},
   "outputs": [],
   "source": [
    "sc = StandardScaler()\n",
    "to_transform = ['Population','Children','Age','Income','Outage_sec_perweek','Email','Contacts','Yearly_equip_failure','Tenure','MonthlyCharge','Bandwidth_GB_Year']\n",
    "\n",
    "dummy_data.loc[:,to_transform] = sc.fit_transform(dummy_data.loc[:,to_transform])"
   ]
  },
  {
   "attachments": {},
   "cell_type": "markdown",
   "metadata": {},
   "source": [
    "C4. Cleaned datast"
   ]
  },
  {
   "cell_type": "code",
   "execution_count": 138,
   "metadata": {},
   "outputs": [],
   "source": [
    "df.to_csv(r'C:\\Users\\paowm\\clean_churn_data.csv', index = None, header=True)"
   ]
  },
  {
   "attachments": {},
   "cell_type": "markdown",
   "metadata": {},
   "source": [
    "D1. Splitting the data"
   ]
  },
  {
   "attachments": {},
   "cell_type": "markdown",
   "metadata": {},
   "source": [
    "We will split the dataset into training and testing sets, where 70% of the data will be assigned for training and 30% for testing."
   ]
  },
  {
   "cell_type": "code",
   "execution_count": 139,
   "metadata": {},
   "outputs": [],
   "source": [
    "X_train, X_test, y_train, y_test = train_test_split(dummy_data,y,test_size=.3, random_state=0)"
   ]
  },
  {
   "cell_type": "code",
   "execution_count": 146,
   "metadata": {},
   "outputs": [],
   "source": [
    "pd.DataFrame(X_train, y_train).to_csv(r'C:\\Users\\paowm\\training_set.csv')\n",
    "pd.DataFrame(X_train, y_train).to_csv(r'C:\\Users\\paowm\\testing_set.csv')"
   ]
  },
  {
   "attachments": {},
   "cell_type": "markdown",
   "metadata": {},
   "source": [
    "D2. Output and intermediate calculations"
   ]
  },
  {
   "attachments": {},
   "cell_type": "markdown",
   "metadata": {},
   "source": [
    "After splitting the dataset, we will do the following:\n",
    "\n",
    "-Create a model with the KNeighborsClassifier() function. We will use n_jobs=1 as a parameter\n",
    "\n",
    "-Fit the model to our training dataset with the fit() function\n",
    "\n",
    "-Predict outcomes using the predict() function using the testing dataset\n",
    "\n",
    "-Print the confusion matrix \n",
    "\n",
    "-Calculate the accuracy score"
   ]
  },
  {
   "cell_type": "markdown",
   "metadata": {},
   "source": [
    "D3. Code execution"
   ]
  },
  {
   "cell_type": "code",
   "execution_count": 140,
   "metadata": {},
   "outputs": [
    {
     "name": "stdout",
     "output_type": "stream",
     "text": [
      "{'algorithm': 'auto', 'leaf_size': 30, 'metric': 'minkowski', 'metric_params': None, 'n_jobs': 1, 'n_neighbors': 5, 'p': 2, 'weights': 'uniform'}\n",
      "Confusion Matrix \n",
      " [[1982  219]\n",
      " [ 304  495]]\n",
      "Accuracy Score:  0.8256666666666667\n"
     ]
    },
    {
     "name": "stderr",
     "output_type": "stream",
     "text": [
      "C:\\Users\\paowm\\AppData\\Local\\Temp/ipykernel_24696/1655599372.py:14: MatplotlibDeprecationWarning: The 'b' parameter of grid() has been renamed 'visible' since Matplotlib 3.5; support for the old name will be dropped two minor releases later.\n",
      "  plt.grid(b=None)\n"
     ]
    },
    {
     "data": {
      "image/png": "[encoded data removed]",
      "text/plain": [
       "<Figure size 288x288 with 2 Axes>"
      ]
     },
     "metadata": {
      "needs_background": "light"
     },
     "output_type": "display_data"
    }
   ],
   "source": [
    "model = KNeighborsClassifier(n_jobs = 1)\n",
    "model.fit(X_train, y_train)\n",
    "print(model.get_params())\n",
    "y_pred = list(map(round, model.predict(X_test)))\n",
    "\n",
    "print('Confusion Matrix \\n', confusion_matrix(y_test,y_pred))\n",
    "print('Accuracy Score: ', accuracy_score(y_test, y_pred))\n",
    "\n",
    "plt.matshow(confusion_matrix(y_test, y_pred))\n",
    "plt.title('Confusion matrix')\n",
    "plt.colorbar()\n",
    "plt.ylabel('True label')\n",
    "plt.xlabel('Prdicted label')\n",
    "plt.grid(b=None)\n",
    "plt.show()\n"
   ]
  },
  {
   "attachments": {},
   "cell_type": "markdown",
   "metadata": {},
   "source": [
    "E1. Accuracy and AUC"
   ]
  },
  {
   "cell_type": "code",
   "execution_count": 141,
   "metadata": {},
   "outputs": [
    {
     "data": {
      "image/png": "[encoded data removed]",
      "text/plain": [
       "<Figure size 432x288 with 1 Axes>"
      ]
     },
     "metadata": {
      "needs_background": "light"
     },
     "output_type": "display_data"
    },
    {
     "name": "stdout",
     "output_type": "stream",
     "text": [
      "AUC: 0.861\n"
     ]
    }
   ],
   "source": [
    "probs = model.predict_proba(X_test)\n",
    "fpr, tpr, _ = roc_curve(y_test, probs[:,1])\n",
    "plt.plot(fpr, tpr, marker='.')\n",
    "plt.xlabel('False Positive Rate')\n",
    "plt.ylabel('True Positive Rate')\n",
    "plt.show()\n",
    "print('AUC: %.3f' % roc_auc_score(y_test, probs[:,1]))"
   ]
  },
  {
   "attachments": {},
   "cell_type": "markdown",
   "metadata": {},
   "source": [
    "A model with an accuracy close to 100% is considered a good model (Singh, 2022). Our model has an 83% accuracy in predicting customer churn hence we can conclude our model is good at predicting true values. \n",
    "\n",
    "On the other hand, the AUC measures the model's sensitivity and specificity. Sensitivy measures the TPR, i.e., true positive rate while specificity evaluates the proportion of false negative values that were predicted or FPR. These two metrics are used to pot the ROC curve and AUC is the area under the ROC curve. In this case, our model's AUC is 86% which is considered good.\n"
   ]
  },
  {
   "attachments": {},
   "cell_type": "markdown",
   "metadata": {},
   "source": [
    "E2. Results and implications"
   ]
  },
  {
   "attachments": {},
   "cell_type": "markdown",
   "metadata": {},
   "source": [
    "The n_neighbors are 5 which means the model is looking for the 5 closest data points for every unclassified data point.\n",
    "\n",
    "The confusion matrix shows us our model is good at predicting true negative values or \"churn\" outcomes (1982) and less good at predicting true positive values or \"not churn\" outcomes (495). Here, we can say that the model has a high Specificity () and low Sensitivity\n",
    "\n",
    "Moreover, we can say the model is working for us since it is correctly predicting \"churn\" (our response variable) at a higher rate than \"not churn\".\n",
    "\n",
    "When k=1, the model complexity is high (high variance or overfitting)and when k=50, the model complexity decreases (low variance or underfitting)(Sanjay.M, 2018). Our model is k=5 which is a good number to avoid both overfitting or underfitting."
   ]
  },
  {
   "attachments": {},
   "cell_type": "markdown",
   "metadata": {},
   "source": [
    "E3. Limitation"
   ]
  },
  {
   "attachments": {},
   "cell_type": "markdown",
   "metadata": {},
   "source": [
    "KNN modeling does not work well with high dimensionality since this will complicate the distance calculation for each dimension (Soni, 2020)."
   ]
  },
  {
   "attachments": {},
   "cell_type": "markdown",
   "metadata": {},
   "source": [
    "E4. Course of action"
   ]
  },
  {
   "attachments": {},
   "cell_type": "markdown",
   "metadata": {},
   "source": [
    "With our model, we can classify whether a new customer will churn or not churn depending on how close it is (similarity) with other customers. \n",
    "\n",
    "When we get new customers, we could use our model to identify how many customers are more likely to churn. For those customers, we must create strategies to make sure they are happy with the company and its services. If for example, customers that have Phone services are more likely to churn then we should ensure this service improves. "
   ]
  },
  {
   "attachments": {},
   "cell_type": "markdown",
   "metadata": {},
   "source": [
    "F. Panopto video"
   ]
  },
  {
   "attachments": {},
   "cell_type": "markdown",
   "metadata": {},
   "source": [
    "H. Sources of third-party code"
   ]
  },
  {
   "attachments": {},
   "cell_type": "markdown",
   "metadata": {},
   "source": [
    "DataSklr. (2020, February 26). Retrieved from K-Nearest Neighbors: https://www.datasklr.com/select-classification-methods/k-nearest-neighbors\n",
    "\n",
    "Sharma, A. (2021, May 3). Medium. Retrieved from K-Nearest Neighbors (KNN) : https://medium.com/data-science-on-customer-churn-data/k-nearest-neighbors-knn-on-customer-churn-data-40e9b2bb9266\n"
   ]
  },
  {
   "attachments": {},
   "cell_type": "markdown",
   "metadata": {},
   "source": [
    "I. Sources"
   ]
  },
  {
   "attachments": {},
   "cell_type": "markdown",
   "metadata": {},
   "source": [
    "Kumar, A. (2022, April 21). Retrieved from Machine Learning – Sensitivity vs Specificity Difference: https://vitalflux.com/ml-metrics-sensitivity-vs-specificity-difference/\n",
    "\n",
    "M, S. (2018, October 26). MachineLearning — KNN using scikit-learn. Retrieved from Towards Data Science: https://towardsdatascience.com/knn-using-scikit-learn-c6bed765be75#:~:text=The%20parameter%20'n_neighbors'%20is%20the,on%20testing%20data%20(X_test).\n",
    "\n",
    "Singh, V. (2022, October 31). ROC-AUC vs Accuracy: Which Metric Is More Important? Retrieved from Naukuri Learning: https://www.naukri.com/learning/articles/roc-auc-vs-accuracy/\n"
   ]
  }
 ],
 "metadata": {
  "kernelspec": {
   "display_name": "Python 3",
   "language": "python",
   "name": "python3"
  },
  "language_info": {
   "codemirror_mode": {
    "name": "ipython",
    "version": 3
   },
   "file_extension": ".py",
   "mimetype": "text/x-python",
   "name": "python",
   "nbconvert_exporter": "python",
   "pygments_lexer": "ipython3",
   "version": "3.10.1"
  },
  "orig_nbformat": 4,
  "vscode": {
   "interpreter": {
    "hash": "19197ad6af7e5e60210ef2d6ff919bb07f17ef71de3389a09a6cce15c848db45"
   }
  }
 },
 "nbformat": 4,
 "nbformat_minor": 2
}
