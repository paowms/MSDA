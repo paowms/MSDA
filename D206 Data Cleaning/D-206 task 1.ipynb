{
 "cells": [
  {
   "cell_type": "markdown",
   "id": "043fb15b",
   "metadata": {},
   "source": [
    "# D-206 Performance Assesment"
   ]
  },
  {
   "cell_type": "markdown",
   "id": "d42bb9ad",
   "metadata": {},
   "source": [
    "## by Paola Williams"
   ]
  },
  {
   "cell_type": "markdown",
   "id": "d0829ea7",
   "metadata": {},
   "source": [
    "#### Import the required packages"
   ]
  },
  {
   "cell_type": "code",
   "execution_count": 1,
   "id": "7f1928f8-19ac-4d9e-9039-4c81b4b8e62d",
   "metadata": {},
   "outputs": [],
   "source": [
    "import pandas as pd\n",
    "import missingno as msno\n",
    "import missingno as msno\n",
    "import matplotlib.pyplot as plt\n",
    "import scipy.stats as stats\n",
    "import seaborn as sns\n",
    "import numpy as np\n",
    "from sklearn.decomposition import PCA"
   ]
  },
  {
   "cell_type": "code",
   "execution_count": 2,
   "id": "2c4aceb5-bb18-409d-a282-0337af7b6799",
   "metadata": {},
   "outputs": [],
   "source": [
    "df = pd.read_csv('Downloads/hfy4k43ojf892f0dy7sd (1)/churn_raw_data.csv')"
   ]
  },
  {
   "cell_type": "code",
   "execution_count": 3,
   "id": "9efe8e58-3e0e-4090-b397-dbd17684c3b4",
   "metadata": {},
   "outputs": [
    {
     "data": {
      "text/html": [
       "<div>\n",
       "<style scoped>\n",
       "    .dataframe tbody tr th:only-of-type {\n",
       "        vertical-align: middle;\n",
       "    }\n",
       "\n",
       "    .dataframe tbody tr th {\n",
       "        vertical-align: top;\n",
       "    }\n",
       "\n",
       "    .dataframe thead th {\n",
       "        text-align: right;\n",
       "    }\n",
       "</style>\n",
       "<table border=\"1\" class=\"dataframe\">\n",
       "  <thead>\n",
       "    <tr style=\"text-align: right;\">\n",
       "      <th></th>\n",
       "      <th>Unnamed: 0</th>\n",
       "      <th>CaseOrder</th>\n",
       "      <th>Customer_id</th>\n",
       "      <th>Interaction</th>\n",
       "      <th>City</th>\n",
       "      <th>State</th>\n",
       "      <th>County</th>\n",
       "      <th>Zip</th>\n",
       "      <th>Lat</th>\n",
       "      <th>Lng</th>\n",
       "      <th>...</th>\n",
       "      <th>MonthlyCharge</th>\n",
       "      <th>Bandwidth_GB_Year</th>\n",
       "      <th>item1</th>\n",
       "      <th>item2</th>\n",
       "      <th>item3</th>\n",
       "      <th>item4</th>\n",
       "      <th>item5</th>\n",
       "      <th>item6</th>\n",
       "      <th>item7</th>\n",
       "      <th>item8</th>\n",
       "    </tr>\n",
       "  </thead>\n",
       "  <tbody>\n",
       "    <tr>\n",
       "      <th>0</th>\n",
       "      <td>1</td>\n",
       "      <td>1</td>\n",
       "      <td>K409198</td>\n",
       "      <td>aa90260b-4141-4a24-8e36-b04ce1f4f77b</td>\n",
       "      <td>Point Baker</td>\n",
       "      <td>AK</td>\n",
       "      <td>Prince of Wales-Hyder</td>\n",
       "      <td>99927</td>\n",
       "      <td>56.25100</td>\n",
       "      <td>-133.37571</td>\n",
       "      <td>...</td>\n",
       "      <td>171.449762</td>\n",
       "      <td>904.536110</td>\n",
       "      <td>5</td>\n",
       "      <td>5</td>\n",
       "      <td>5</td>\n",
       "      <td>3</td>\n",
       "      <td>4</td>\n",
       "      <td>4</td>\n",
       "      <td>3</td>\n",
       "      <td>4</td>\n",
       "    </tr>\n",
       "    <tr>\n",
       "      <th>1</th>\n",
       "      <td>2</td>\n",
       "      <td>2</td>\n",
       "      <td>S120509</td>\n",
       "      <td>fb76459f-c047-4a9d-8af9-e0f7d4ac2524</td>\n",
       "      <td>West Branch</td>\n",
       "      <td>MI</td>\n",
       "      <td>Ogemaw</td>\n",
       "      <td>48661</td>\n",
       "      <td>44.32893</td>\n",
       "      <td>-84.24080</td>\n",
       "      <td>...</td>\n",
       "      <td>242.948015</td>\n",
       "      <td>800.982766</td>\n",
       "      <td>3</td>\n",
       "      <td>4</td>\n",
       "      <td>3</td>\n",
       "      <td>3</td>\n",
       "      <td>4</td>\n",
       "      <td>3</td>\n",
       "      <td>4</td>\n",
       "      <td>4</td>\n",
       "    </tr>\n",
       "    <tr>\n",
       "      <th>2</th>\n",
       "      <td>3</td>\n",
       "      <td>3</td>\n",
       "      <td>K191035</td>\n",
       "      <td>344d114c-3736-4be5-98f7-c72c281e2d35</td>\n",
       "      <td>Yamhill</td>\n",
       "      <td>OR</td>\n",
       "      <td>Yamhill</td>\n",
       "      <td>97148</td>\n",
       "      <td>45.35589</td>\n",
       "      <td>-123.24657</td>\n",
       "      <td>...</td>\n",
       "      <td>159.440398</td>\n",
       "      <td>2054.706961</td>\n",
       "      <td>4</td>\n",
       "      <td>4</td>\n",
       "      <td>2</td>\n",
       "      <td>4</td>\n",
       "      <td>4</td>\n",
       "      <td>3</td>\n",
       "      <td>3</td>\n",
       "      <td>3</td>\n",
       "    </tr>\n",
       "    <tr>\n",
       "      <th>3</th>\n",
       "      <td>4</td>\n",
       "      <td>4</td>\n",
       "      <td>D90850</td>\n",
       "      <td>abfa2b40-2d43-4994-b15a-989b8c79e311</td>\n",
       "      <td>Del Mar</td>\n",
       "      <td>CA</td>\n",
       "      <td>San Diego</td>\n",
       "      <td>92014</td>\n",
       "      <td>32.96687</td>\n",
       "      <td>-117.24798</td>\n",
       "      <td>...</td>\n",
       "      <td>120.249493</td>\n",
       "      <td>2164.579412</td>\n",
       "      <td>4</td>\n",
       "      <td>4</td>\n",
       "      <td>4</td>\n",
       "      <td>2</td>\n",
       "      <td>5</td>\n",
       "      <td>4</td>\n",
       "      <td>3</td>\n",
       "      <td>3</td>\n",
       "    </tr>\n",
       "    <tr>\n",
       "      <th>4</th>\n",
       "      <td>5</td>\n",
       "      <td>5</td>\n",
       "      <td>K662701</td>\n",
       "      <td>68a861fd-0d20-4e51-a587-8a90407ee574</td>\n",
       "      <td>Needville</td>\n",
       "      <td>TX</td>\n",
       "      <td>Fort Bend</td>\n",
       "      <td>77461</td>\n",
       "      <td>29.38012</td>\n",
       "      <td>-95.80673</td>\n",
       "      <td>...</td>\n",
       "      <td>150.761216</td>\n",
       "      <td>271.493436</td>\n",
       "      <td>4</td>\n",
       "      <td>4</td>\n",
       "      <td>4</td>\n",
       "      <td>3</td>\n",
       "      <td>4</td>\n",
       "      <td>4</td>\n",
       "      <td>4</td>\n",
       "      <td>5</td>\n",
       "    </tr>\n",
       "    <tr>\n",
       "      <th>5</th>\n",
       "      <td>6</td>\n",
       "      <td>6</td>\n",
       "      <td>W303516</td>\n",
       "      <td>2b451d12-6c2b-4cea-a295-ba1d6bced078</td>\n",
       "      <td>Fort Valley</td>\n",
       "      <td>GA</td>\n",
       "      <td>Peach</td>\n",
       "      <td>31030</td>\n",
       "      <td>32.57032</td>\n",
       "      <td>-83.89040</td>\n",
       "      <td>...</td>\n",
       "      <td>184.401558</td>\n",
       "      <td>1039.357983</td>\n",
       "      <td>3</td>\n",
       "      <td>3</td>\n",
       "      <td>3</td>\n",
       "      <td>2</td>\n",
       "      <td>4</td>\n",
       "      <td>3</td>\n",
       "      <td>3</td>\n",
       "      <td>3</td>\n",
       "    </tr>\n",
       "    <tr>\n",
       "      <th>6</th>\n",
       "      <td>7</td>\n",
       "      <td>7</td>\n",
       "      <td>U335188</td>\n",
       "      <td>6630d501-838c-4be4-a59c-6f58c814ed6a</td>\n",
       "      <td>Pioneer</td>\n",
       "      <td>TN</td>\n",
       "      <td>Scott</td>\n",
       "      <td>37847</td>\n",
       "      <td>36.43420</td>\n",
       "      <td>-84.27892</td>\n",
       "      <td>...</td>\n",
       "      <td>200.064886</td>\n",
       "      <td>1907.242972</td>\n",
       "      <td>6</td>\n",
       "      <td>5</td>\n",
       "      <td>6</td>\n",
       "      <td>4</td>\n",
       "      <td>1</td>\n",
       "      <td>5</td>\n",
       "      <td>5</td>\n",
       "      <td>5</td>\n",
       "    </tr>\n",
       "    <tr>\n",
       "      <th>7</th>\n",
       "      <td>8</td>\n",
       "      <td>8</td>\n",
       "      <td>V538685</td>\n",
       "      <td>70ddaa89-b726-49dc-9022-2d655e4c7936</td>\n",
       "      <td>Oklahoma City</td>\n",
       "      <td>OK</td>\n",
       "      <td>Oklahoma</td>\n",
       "      <td>73109</td>\n",
       "      <td>35.43313</td>\n",
       "      <td>-97.52463</td>\n",
       "      <td>...</td>\n",
       "      <td>114.754111</td>\n",
       "      <td>979.612708</td>\n",
       "      <td>2</td>\n",
       "      <td>2</td>\n",
       "      <td>2</td>\n",
       "      <td>5</td>\n",
       "      <td>2</td>\n",
       "      <td>3</td>\n",
       "      <td>4</td>\n",
       "      <td>5</td>\n",
       "    </tr>\n",
       "    <tr>\n",
       "      <th>8</th>\n",
       "      <td>9</td>\n",
       "      <td>9</td>\n",
       "      <td>M716771</td>\n",
       "      <td>05a49ee3-8fd5-453a-a5f3-82b6cd986856</td>\n",
       "      <td>Saint Cloud</td>\n",
       "      <td>FL</td>\n",
       "      <td>Osceola</td>\n",
       "      <td>34771</td>\n",
       "      <td>28.27646</td>\n",
       "      <td>-81.16273</td>\n",
       "      <td>...</td>\n",
       "      <td>118.366844</td>\n",
       "      <td>1312.874964</td>\n",
       "      <td>5</td>\n",
       "      <td>4</td>\n",
       "      <td>4</td>\n",
       "      <td>3</td>\n",
       "      <td>4</td>\n",
       "      <td>3</td>\n",
       "      <td>4</td>\n",
       "      <td>4</td>\n",
       "    </tr>\n",
       "    <tr>\n",
       "      <th>9</th>\n",
       "      <td>10</td>\n",
       "      <td>10</td>\n",
       "      <td>I676080</td>\n",
       "      <td>86f17e4d-2c24-4b70-a6ec-dddf0609dbaa</td>\n",
       "      <td>Cincinnati</td>\n",
       "      <td>OH</td>\n",
       "      <td>Hamilton</td>\n",
       "      <td>45237</td>\n",
       "      <td>39.19296</td>\n",
       "      <td>-84.45230</td>\n",
       "      <td>...</td>\n",
       "      <td>163.005280</td>\n",
       "      <td>508.763791</td>\n",
       "      <td>2</td>\n",
       "      <td>2</td>\n",
       "      <td>2</td>\n",
       "      <td>2</td>\n",
       "      <td>5</td>\n",
       "      <td>2</td>\n",
       "      <td>3</td>\n",
       "      <td>3</td>\n",
       "    </tr>\n",
       "  </tbody>\n",
       "</table>\n",
       "<p>10 rows × 52 columns</p>\n",
       "</div>"
      ],
      "text/plain": [
       "   Unnamed: 0  CaseOrder Customer_id                           Interaction  \\\n",
       "0           1          1     K409198  aa90260b-4141-4a24-8e36-b04ce1f4f77b   \n",
       "1           2          2     S120509  fb76459f-c047-4a9d-8af9-e0f7d4ac2524   \n",
       "2           3          3     K191035  344d114c-3736-4be5-98f7-c72c281e2d35   \n",
       "3           4          4      D90850  abfa2b40-2d43-4994-b15a-989b8c79e311   \n",
       "4           5          5     K662701  68a861fd-0d20-4e51-a587-8a90407ee574   \n",
       "5           6          6     W303516  2b451d12-6c2b-4cea-a295-ba1d6bced078   \n",
       "6           7          7     U335188  6630d501-838c-4be4-a59c-6f58c814ed6a   \n",
       "7           8          8     V538685  70ddaa89-b726-49dc-9022-2d655e4c7936   \n",
       "8           9          9     M716771  05a49ee3-8fd5-453a-a5f3-82b6cd986856   \n",
       "9          10         10     I676080  86f17e4d-2c24-4b70-a6ec-dddf0609dbaa   \n",
       "\n",
       "            City State                 County    Zip       Lat        Lng  \\\n",
       "0    Point Baker    AK  Prince of Wales-Hyder  99927  56.25100 -133.37571   \n",
       "1    West Branch    MI                 Ogemaw  48661  44.32893  -84.24080   \n",
       "2        Yamhill    OR                Yamhill  97148  45.35589 -123.24657   \n",
       "3        Del Mar    CA              San Diego  92014  32.96687 -117.24798   \n",
       "4      Needville    TX              Fort Bend  77461  29.38012  -95.80673   \n",
       "5    Fort Valley    GA                  Peach  31030  32.57032  -83.89040   \n",
       "6        Pioneer    TN                  Scott  37847  36.43420  -84.27892   \n",
       "7  Oklahoma City    OK               Oklahoma  73109  35.43313  -97.52463   \n",
       "8    Saint Cloud    FL                Osceola  34771  28.27646  -81.16273   \n",
       "9     Cincinnati    OH               Hamilton  45237  39.19296  -84.45230   \n",
       "\n",
       "   ...  MonthlyCharge Bandwidth_GB_Year item1 item2  item3  item4 item5 item6  \\\n",
       "0  ...     171.449762        904.536110     5     5      5      3     4     4   \n",
       "1  ...     242.948015        800.982766     3     4      3      3     4     3   \n",
       "2  ...     159.440398       2054.706961     4     4      2      4     4     3   \n",
       "3  ...     120.249493       2164.579412     4     4      4      2     5     4   \n",
       "4  ...     150.761216        271.493436     4     4      4      3     4     4   \n",
       "5  ...     184.401558       1039.357983     3     3      3      2     4     3   \n",
       "6  ...     200.064886       1907.242972     6     5      6      4     1     5   \n",
       "7  ...     114.754111        979.612708     2     2      2      5     2     3   \n",
       "8  ...     118.366844       1312.874964     5     4      4      3     4     3   \n",
       "9  ...     163.005280        508.763791     2     2      2      2     5     2   \n",
       "\n",
       "   item7 item8  \n",
       "0      3     4  \n",
       "1      4     4  \n",
       "2      3     3  \n",
       "3      3     3  \n",
       "4      4     5  \n",
       "5      3     3  \n",
       "6      5     5  \n",
       "7      4     5  \n",
       "8      4     4  \n",
       "9      3     3  \n",
       "\n",
       "[10 rows x 52 columns]"
      ]
     },
     "execution_count": 3,
     "metadata": {},
     "output_type": "execute_result"
    }
   ],
   "source": [
    "df.head(10)"
   ]
  },
  {
   "cell_type": "code",
   "execution_count": 4,
   "id": "986d286a-64c3-4843-a009-c2a6d8b6e08e",
   "metadata": {},
   "outputs": [
    {
     "data": {
      "text/plain": [
       "(10000, 52)"
      ]
     },
     "execution_count": 4,
     "metadata": {},
     "output_type": "execute_result"
    }
   ],
   "source": [
    "df.shape"
   ]
  },
  {
   "cell_type": "code",
   "execution_count": 5,
   "id": "12a726bc-8c13-49f6-b208-fd327c45a5fd",
   "metadata": {},
   "outputs": [
    {
     "data": {
      "text/plain": [
       "Index(['Unnamed: 0', 'CaseOrder', 'Customer_id', 'Interaction', 'City',\n",
       "       'State', 'County', 'Zip', 'Lat', 'Lng', 'Population', 'Area',\n",
       "       'Timezone', 'Job', 'Children', 'Age', 'Education', 'Employment',\n",
       "       'Income', 'Marital', 'Gender', 'Churn', 'Outage_sec_perweek', 'Email',\n",
       "       'Contacts', 'Yearly_equip_failure', 'Techie', 'Contract', 'Port_modem',\n",
       "       'Tablet', 'InternetService', 'Phone', 'Multiple', 'OnlineSecurity',\n",
       "       'OnlineBackup', 'DeviceProtection', 'TechSupport', 'StreamingTV',\n",
       "       'StreamingMovies', 'PaperlessBilling', 'PaymentMethod', 'Tenure',\n",
       "       'MonthlyCharge', 'Bandwidth_GB_Year', 'item1', 'item2', 'item3',\n",
       "       'item4', 'item5', 'item6', 'item7', 'item8'],\n",
       "      dtype='object')"
      ]
     },
     "execution_count": 5,
     "metadata": {},
     "output_type": "execute_result"
    }
   ],
   "source": [
    "df.columns"
   ]
  },
  {
   "cell_type": "code",
   "execution_count": 6,
   "id": "05217098",
   "metadata": {},
   "outputs": [
    {
     "data": {
      "text/plain": [
       "Unnamed: 0                int64\n",
       "CaseOrder                 int64\n",
       "Customer_id              object\n",
       "Interaction              object\n",
       "City                     object\n",
       "State                    object\n",
       "County                   object\n",
       "Zip                       int64\n",
       "Lat                     float64\n",
       "Lng                     float64\n",
       "Population                int64\n",
       "Area                     object\n",
       "Timezone                 object\n",
       "Job                      object\n",
       "Children                float64\n",
       "Age                     float64\n",
       "Education                object\n",
       "Employment               object\n",
       "Income                  float64\n",
       "Marital                  object\n",
       "Gender                   object\n",
       "Churn                    object\n",
       "Outage_sec_perweek      float64\n",
       "Email                     int64\n",
       "Contacts                  int64\n",
       "Yearly_equip_failure      int64\n",
       "Techie                   object\n",
       "Contract                 object\n",
       "Port_modem               object\n",
       "Tablet                   object\n",
       "InternetService          object\n",
       "Phone                    object\n",
       "Multiple                 object\n",
       "OnlineSecurity           object\n",
       "OnlineBackup             object\n",
       "DeviceProtection         object\n",
       "TechSupport              object\n",
       "StreamingTV              object\n",
       "StreamingMovies          object\n",
       "PaperlessBilling         object\n",
       "PaymentMethod            object\n",
       "Tenure                  float64\n",
       "MonthlyCharge           float64\n",
       "Bandwidth_GB_Year       float64\n",
       "item1                     int64\n",
       "item2                     int64\n",
       "item3                     int64\n",
       "item4                     int64\n",
       "item5                     int64\n",
       "item6                     int64\n",
       "item7                     int64\n",
       "item8                     int64\n",
       "dtype: object"
      ]
     },
     "execution_count": 6,
     "metadata": {},
     "output_type": "execute_result"
    }
   ],
   "source": [
    "df.dtypes"
   ]
  },
  {
   "cell_type": "code",
   "execution_count": 7,
   "id": "a2f4093b",
   "metadata": {},
   "outputs": [
    {
     "data": {
      "text/html": [
       "<div>\n",
       "<style scoped>\n",
       "    .dataframe tbody tr th:only-of-type {\n",
       "        vertical-align: middle;\n",
       "    }\n",
       "\n",
       "    .dataframe tbody tr th {\n",
       "        vertical-align: top;\n",
       "    }\n",
       "\n",
       "    .dataframe thead th {\n",
       "        text-align: right;\n",
       "    }\n",
       "</style>\n",
       "<table border=\"1\" class=\"dataframe\">\n",
       "  <thead>\n",
       "    <tr style=\"text-align: right;\">\n",
       "      <th></th>\n",
       "      <th>Unnamed: 0</th>\n",
       "      <th>CaseOrder</th>\n",
       "      <th>Customer_id</th>\n",
       "      <th>Interaction</th>\n",
       "      <th>City</th>\n",
       "      <th>State</th>\n",
       "      <th>County</th>\n",
       "      <th>Zip</th>\n",
       "      <th>Lat</th>\n",
       "      <th>Lng</th>\n",
       "      <th>Population</th>\n",
       "      <th>Area</th>\n",
       "      <th>Timezone</th>\n",
       "      <th>Job</th>\n",
       "      <th>Children</th>\n",
       "      <th>Age</th>\n",
       "      <th>Education</th>\n",
       "      <th>Employment</th>\n",
       "      <th>Income</th>\n",
       "      <th>Marital</th>\n",
       "      <th>Gender</th>\n",
       "      <th>Churn</th>\n",
       "      <th>Outage_sec_perweek</th>\n",
       "      <th>Email</th>\n",
       "      <th>Contacts</th>\n",
       "      <th>Yearly_equip_failure</th>\n",
       "      <th>Techie</th>\n",
       "      <th>Contract</th>\n",
       "      <th>Port_modem</th>\n",
       "      <th>Tablet</th>\n",
       "      <th>InternetService</th>\n",
       "      <th>Phone</th>\n",
       "      <th>Multiple</th>\n",
       "      <th>OnlineSecurity</th>\n",
       "      <th>OnlineBackup</th>\n",
       "      <th>DeviceProtection</th>\n",
       "      <th>TechSupport</th>\n",
       "      <th>StreamingTV</th>\n",
       "      <th>StreamingMovies</th>\n",
       "      <th>PaperlessBilling</th>\n",
       "      <th>PaymentMethod</th>\n",
       "      <th>Tenure</th>\n",
       "      <th>MonthlyCharge</th>\n",
       "      <th>Bandwidth_GB_Year</th>\n",
       "      <th>item1</th>\n",
       "      <th>item2</th>\n",
       "      <th>item3</th>\n",
       "      <th>item4</th>\n",
       "      <th>item5</th>\n",
       "      <th>item6</th>\n",
       "      <th>item7</th>\n",
       "      <th>item8</th>\n",
       "    </tr>\n",
       "  </thead>\n",
       "  <tbody>\n",
       "    <tr>\n",
       "      <th>0</th>\n",
       "      <td>1</td>\n",
       "      <td>1</td>\n",
       "      <td>K409198</td>\n",
       "      <td>aa90260b-4141-4a24-8e36-b04ce1f4f77b</td>\n",
       "      <td>Point Baker</td>\n",
       "      <td>AK</td>\n",
       "      <td>Prince of Wales-Hyder</td>\n",
       "      <td>99927</td>\n",
       "      <td>56.25100</td>\n",
       "      <td>-133.37571</td>\n",
       "      <td>38</td>\n",
       "      <td>Urban</td>\n",
       "      <td>America/Sitka</td>\n",
       "      <td>Environmental health practitioner</td>\n",
       "      <td>NaN</td>\n",
       "      <td>68.0</td>\n",
       "      <td>Master's Degree</td>\n",
       "      <td>Part Time</td>\n",
       "      <td>28561.99</td>\n",
       "      <td>Widowed</td>\n",
       "      <td>Male</td>\n",
       "      <td>No</td>\n",
       "      <td>6.972566</td>\n",
       "      <td>10</td>\n",
       "      <td>0</td>\n",
       "      <td>1</td>\n",
       "      <td>No</td>\n",
       "      <td>One year</td>\n",
       "      <td>Yes</td>\n",
       "      <td>Yes</td>\n",
       "      <td>Fiber Optic</td>\n",
       "      <td>Yes</td>\n",
       "      <td>No</td>\n",
       "      <td>Yes</td>\n",
       "      <td>Yes</td>\n",
       "      <td>No</td>\n",
       "      <td>No</td>\n",
       "      <td>No</td>\n",
       "      <td>Yes</td>\n",
       "      <td>Yes</td>\n",
       "      <td>Credit Card (automatic)</td>\n",
       "      <td>6.795513</td>\n",
       "      <td>171.449762</td>\n",
       "      <td>904.536110</td>\n",
       "      <td>5</td>\n",
       "      <td>5</td>\n",
       "      <td>5</td>\n",
       "      <td>3</td>\n",
       "      <td>4</td>\n",
       "      <td>4</td>\n",
       "      <td>3</td>\n",
       "      <td>4</td>\n",
       "    </tr>\n",
       "    <tr>\n",
       "      <th>1</th>\n",
       "      <td>2</td>\n",
       "      <td>2</td>\n",
       "      <td>S120509</td>\n",
       "      <td>fb76459f-c047-4a9d-8af9-e0f7d4ac2524</td>\n",
       "      <td>West Branch</td>\n",
       "      <td>MI</td>\n",
       "      <td>Ogemaw</td>\n",
       "      <td>48661</td>\n",
       "      <td>44.32893</td>\n",
       "      <td>-84.24080</td>\n",
       "      <td>10446</td>\n",
       "      <td>Urban</td>\n",
       "      <td>America/Detroit</td>\n",
       "      <td>Programmer, multimedia</td>\n",
       "      <td>1.0</td>\n",
       "      <td>27.0</td>\n",
       "      <td>Regular High School Diploma</td>\n",
       "      <td>Retired</td>\n",
       "      <td>21704.77</td>\n",
       "      <td>Married</td>\n",
       "      <td>Female</td>\n",
       "      <td>Yes</td>\n",
       "      <td>12.014541</td>\n",
       "      <td>12</td>\n",
       "      <td>0</td>\n",
       "      <td>1</td>\n",
       "      <td>Yes</td>\n",
       "      <td>Month-to-month</td>\n",
       "      <td>No</td>\n",
       "      <td>Yes</td>\n",
       "      <td>Fiber Optic</td>\n",
       "      <td>Yes</td>\n",
       "      <td>Yes</td>\n",
       "      <td>Yes</td>\n",
       "      <td>No</td>\n",
       "      <td>No</td>\n",
       "      <td>No</td>\n",
       "      <td>Yes</td>\n",
       "      <td>Yes</td>\n",
       "      <td>Yes</td>\n",
       "      <td>Bank Transfer(automatic)</td>\n",
       "      <td>1.156681</td>\n",
       "      <td>242.948015</td>\n",
       "      <td>800.982766</td>\n",
       "      <td>3</td>\n",
       "      <td>4</td>\n",
       "      <td>3</td>\n",
       "      <td>3</td>\n",
       "      <td>4</td>\n",
       "      <td>3</td>\n",
       "      <td>4</td>\n",
       "      <td>4</td>\n",
       "    </tr>\n",
       "    <tr>\n",
       "      <th>...</th>\n",
       "      <td>...</td>\n",
       "      <td>...</td>\n",
       "      <td>...</td>\n",
       "      <td>...</td>\n",
       "      <td>...</td>\n",
       "      <td>...</td>\n",
       "      <td>...</td>\n",
       "      <td>...</td>\n",
       "      <td>...</td>\n",
       "      <td>...</td>\n",
       "      <td>...</td>\n",
       "      <td>...</td>\n",
       "      <td>...</td>\n",
       "      <td>...</td>\n",
       "      <td>...</td>\n",
       "      <td>...</td>\n",
       "      <td>...</td>\n",
       "      <td>...</td>\n",
       "      <td>...</td>\n",
       "      <td>...</td>\n",
       "      <td>...</td>\n",
       "      <td>...</td>\n",
       "      <td>...</td>\n",
       "      <td>...</td>\n",
       "      <td>...</td>\n",
       "      <td>...</td>\n",
       "      <td>...</td>\n",
       "      <td>...</td>\n",
       "      <td>...</td>\n",
       "      <td>...</td>\n",
       "      <td>...</td>\n",
       "      <td>...</td>\n",
       "      <td>...</td>\n",
       "      <td>...</td>\n",
       "      <td>...</td>\n",
       "      <td>...</td>\n",
       "      <td>...</td>\n",
       "      <td>...</td>\n",
       "      <td>...</td>\n",
       "      <td>...</td>\n",
       "      <td>...</td>\n",
       "      <td>...</td>\n",
       "      <td>...</td>\n",
       "      <td>...</td>\n",
       "      <td>...</td>\n",
       "      <td>...</td>\n",
       "      <td>...</td>\n",
       "      <td>...</td>\n",
       "      <td>...</td>\n",
       "      <td>...</td>\n",
       "      <td>...</td>\n",
       "      <td>...</td>\n",
       "    </tr>\n",
       "    <tr>\n",
       "      <th>9998</th>\n",
       "      <td>9999</td>\n",
       "      <td>9999</td>\n",
       "      <td>I641617</td>\n",
       "      <td>3775ccfc-0052-4107-81ae-9657f81ecdf3</td>\n",
       "      <td>Carrollton</td>\n",
       "      <td>GA</td>\n",
       "      <td>Carroll</td>\n",
       "      <td>30117</td>\n",
       "      <td>33.58016</td>\n",
       "      <td>-85.13241</td>\n",
       "      <td>35575</td>\n",
       "      <td>Urban</td>\n",
       "      <td>America/New_York</td>\n",
       "      <td>Water engineer</td>\n",
       "      <td>1.0</td>\n",
       "      <td>39.0</td>\n",
       "      <td>Bachelor's Degree</td>\n",
       "      <td>Full Time</td>\n",
       "      <td>16667.58</td>\n",
       "      <td>Separated</td>\n",
       "      <td>Male</td>\n",
       "      <td>No</td>\n",
       "      <td>12.076460</td>\n",
       "      <td>14</td>\n",
       "      <td>1</td>\n",
       "      <td>0</td>\n",
       "      <td>No</td>\n",
       "      <td>Two Year</td>\n",
       "      <td>No</td>\n",
       "      <td>Yes</td>\n",
       "      <td>Fiber Optic</td>\n",
       "      <td>No</td>\n",
       "      <td>Yes</td>\n",
       "      <td>No</td>\n",
       "      <td>No</td>\n",
       "      <td>No</td>\n",
       "      <td>Yes</td>\n",
       "      <td>Yes</td>\n",
       "      <td>Yes</td>\n",
       "      <td>Yes</td>\n",
       "      <td>Credit Card (automatic)</td>\n",
       "      <td>71.095600</td>\n",
       "      <td>252.628600</td>\n",
       "      <td>6468.457000</td>\n",
       "      <td>4</td>\n",
       "      <td>4</td>\n",
       "      <td>6</td>\n",
       "      <td>4</td>\n",
       "      <td>3</td>\n",
       "      <td>3</td>\n",
       "      <td>5</td>\n",
       "      <td>4</td>\n",
       "    </tr>\n",
       "    <tr>\n",
       "      <th>9999</th>\n",
       "      <td>10000</td>\n",
       "      <td>10000</td>\n",
       "      <td>T38070</td>\n",
       "      <td>9de5fb6e-bd33-4995-aec8-f01d0172a499</td>\n",
       "      <td>Clarkesville</td>\n",
       "      <td>GA</td>\n",
       "      <td>Habersham</td>\n",
       "      <td>30523</td>\n",
       "      <td>34.70783</td>\n",
       "      <td>-83.53648</td>\n",
       "      <td>12230</td>\n",
       "      <td>Urban</td>\n",
       "      <td>America/New_York</td>\n",
       "      <td>Personal assistant</td>\n",
       "      <td>1.0</td>\n",
       "      <td>28.0</td>\n",
       "      <td>GED or Alternative Credential</td>\n",
       "      <td>Full Time</td>\n",
       "      <td>NaN</td>\n",
       "      <td>Never Married</td>\n",
       "      <td>Male</td>\n",
       "      <td>No</td>\n",
       "      <td>12.641760</td>\n",
       "      <td>17</td>\n",
       "      <td>1</td>\n",
       "      <td>0</td>\n",
       "      <td>NaN</td>\n",
       "      <td>Month-to-month</td>\n",
       "      <td>Yes</td>\n",
       "      <td>No</td>\n",
       "      <td>Fiber Optic</td>\n",
       "      <td>Yes</td>\n",
       "      <td>Yes</td>\n",
       "      <td>Yes</td>\n",
       "      <td>Yes</td>\n",
       "      <td>Yes</td>\n",
       "      <td>No</td>\n",
       "      <td>No</td>\n",
       "      <td>Yes</td>\n",
       "      <td>Yes</td>\n",
       "      <td>Electronic Check</td>\n",
       "      <td>63.350860</td>\n",
       "      <td>218.371000</td>\n",
       "      <td>5857.586000</td>\n",
       "      <td>2</td>\n",
       "      <td>2</td>\n",
       "      <td>3</td>\n",
       "      <td>3</td>\n",
       "      <td>3</td>\n",
       "      <td>3</td>\n",
       "      <td>4</td>\n",
       "      <td>1</td>\n",
       "    </tr>\n",
       "  </tbody>\n",
       "</table>\n",
       "<p>10000 rows × 52 columns</p>\n",
       "</div>"
      ],
      "text/plain": [
       "      Unnamed: 0  CaseOrder Customer_id                           Interaction  \\\n",
       "0              1          1     K409198  aa90260b-4141-4a24-8e36-b04ce1f4f77b   \n",
       "1              2          2     S120509  fb76459f-c047-4a9d-8af9-e0f7d4ac2524   \n",
       "...          ...        ...         ...                                   ...   \n",
       "9998        9999       9999     I641617  3775ccfc-0052-4107-81ae-9657f81ecdf3   \n",
       "9999       10000      10000      T38070  9de5fb6e-bd33-4995-aec8-f01d0172a499   \n",
       "\n",
       "              City State                 County    Zip       Lat        Lng  \\\n",
       "0      Point Baker    AK  Prince of Wales-Hyder  99927  56.25100 -133.37571   \n",
       "1      West Branch    MI                 Ogemaw  48661  44.32893  -84.24080   \n",
       "...            ...   ...                    ...    ...       ...        ...   \n",
       "9998    Carrollton    GA                Carroll  30117  33.58016  -85.13241   \n",
       "9999  Clarkesville    GA              Habersham  30523  34.70783  -83.53648   \n",
       "\n",
       "      Population   Area          Timezone                                Job  \\\n",
       "0             38  Urban     America/Sitka  Environmental health practitioner   \n",
       "1          10446  Urban   America/Detroit             Programmer, multimedia   \n",
       "...          ...    ...               ...                                ...   \n",
       "9998       35575  Urban  America/New_York                     Water engineer   \n",
       "9999       12230  Urban  America/New_York                 Personal assistant   \n",
       "\n",
       "      Children   Age                      Education Employment    Income  \\\n",
       "0          NaN  68.0                Master's Degree  Part Time  28561.99   \n",
       "1          1.0  27.0    Regular High School Diploma    Retired  21704.77   \n",
       "...        ...   ...                            ...        ...       ...   \n",
       "9998       1.0  39.0              Bachelor's Degree  Full Time  16667.58   \n",
       "9999       1.0  28.0  GED or Alternative Credential  Full Time       NaN   \n",
       "\n",
       "            Marital  Gender Churn  Outage_sec_perweek  Email  Contacts  \\\n",
       "0           Widowed    Male    No            6.972566     10         0   \n",
       "1           Married  Female   Yes           12.014541     12         0   \n",
       "...             ...     ...   ...                 ...    ...       ...   \n",
       "9998      Separated    Male    No           12.076460     14         1   \n",
       "9999  Never Married    Male    No           12.641760     17         1   \n",
       "\n",
       "      Yearly_equip_failure Techie        Contract Port_modem Tablet  \\\n",
       "0                        1     No        One year        Yes    Yes   \n",
       "1                        1    Yes  Month-to-month         No    Yes   \n",
       "...                    ...    ...             ...        ...    ...   \n",
       "9998                     0     No        Two Year         No    Yes   \n",
       "9999                     0    NaN  Month-to-month        Yes     No   \n",
       "\n",
       "     InternetService Phone Multiple OnlineSecurity OnlineBackup  \\\n",
       "0        Fiber Optic   Yes       No            Yes          Yes   \n",
       "1        Fiber Optic   Yes      Yes            Yes           No   \n",
       "...              ...   ...      ...            ...          ...   \n",
       "9998     Fiber Optic    No      Yes             No           No   \n",
       "9999     Fiber Optic   Yes      Yes            Yes          Yes   \n",
       "\n",
       "     DeviceProtection TechSupport StreamingTV StreamingMovies  \\\n",
       "0                  No          No          No             Yes   \n",
       "1                  No          No         Yes             Yes   \n",
       "...               ...         ...         ...             ...   \n",
       "9998               No         Yes         Yes             Yes   \n",
       "9999              Yes          No          No             Yes   \n",
       "\n",
       "     PaperlessBilling             PaymentMethod     Tenure  MonthlyCharge  \\\n",
       "0                 Yes   Credit Card (automatic)   6.795513     171.449762   \n",
       "1                 Yes  Bank Transfer(automatic)   1.156681     242.948015   \n",
       "...               ...                       ...        ...            ...   \n",
       "9998              Yes   Credit Card (automatic)  71.095600     252.628600   \n",
       "9999              Yes          Electronic Check  63.350860     218.371000   \n",
       "\n",
       "      Bandwidth_GB_Year  item1  item2  item3  item4  item5  item6  item7  \\\n",
       "0            904.536110      5      5      5      3      4      4      3   \n",
       "1            800.982766      3      4      3      3      4      3      4   \n",
       "...                 ...    ...    ...    ...    ...    ...    ...    ...   \n",
       "9998        6468.457000      4      4      6      4      3      3      5   \n",
       "9999        5857.586000      2      2      3      3      3      3      4   \n",
       "\n",
       "      item8  \n",
       "0         4  \n",
       "1         4  \n",
       "...     ...  \n",
       "9998      4  \n",
       "9999      1  \n",
       "\n",
       "[10000 rows x 52 columns]"
      ]
     },
     "metadata": {},
     "output_type": "display_data"
    }
   ],
   "source": [
    "#display all the columns of the dataset\n",
    "with pd.option_context('display.max_rows', 5, 'display.max_columns', None): \n",
    "    display(df)"
   ]
  },
  {
   "cell_type": "markdown",
   "id": "441c9f13",
   "metadata": {},
   "source": [
    "### Duplicates detection"
   ]
  },
  {
   "cell_type": "code",
   "execution_count": 8,
   "id": "9de447b2",
   "metadata": {
    "scrolled": true
   },
   "outputs": [
    {
     "data": {
      "text/plain": [
       "False    10000\n",
       "dtype: int64"
      ]
     },
     "execution_count": 8,
     "metadata": {},
     "output_type": "execute_result"
    }
   ],
   "source": [
    "#we will use 'Customer_id' to search for duplicates\n",
    "dup = df.duplicated(subset='Customer_id')\n",
    "dup.value_counts()"
   ]
  },
  {
   "cell_type": "markdown",
   "id": "4c1e66f4",
   "metadata": {},
   "source": [
    "### Missing values detection"
   ]
  },
  {
   "cell_type": "code",
   "execution_count": 9,
   "id": "365f2b91",
   "metadata": {},
   "outputs": [
    {
     "data": {
      "text/plain": [
       "Children             2495\n",
       "Income               2490\n",
       "Techie               2477\n",
       "Age                  2475\n",
       "Phone                1026\n",
       "Bandwidth_GB_Year    1021\n",
       "TechSupport           991\n",
       "Tenure                931\n",
       "dtype: int64"
      ]
     },
     "execution_count": 9,
     "metadata": {},
     "output_type": "execute_result"
    }
   ],
   "source": [
    "nulls = df.isnull().sum()\n",
    "#include only the columns with nulls\n",
    "nulls_count = nulls[nulls>0]\n",
    "nulls_count.sort_values(ascending=False)"
   ]
  },
  {
   "cell_type": "code",
   "execution_count": 10,
   "id": "721e2bf0",
   "metadata": {},
   "outputs": [
    {
     "data": {
      "text/html": [
       "<div>\n",
       "<style scoped>\n",
       "    .dataframe tbody tr th:only-of-type {\n",
       "        vertical-align: middle;\n",
       "    }\n",
       "\n",
       "    .dataframe tbody tr th {\n",
       "        vertical-align: top;\n",
       "    }\n",
       "\n",
       "    .dataframe thead th {\n",
       "        text-align: right;\n",
       "    }\n",
       "</style>\n",
       "<table border=\"1\" class=\"dataframe\">\n",
       "  <thead>\n",
       "    <tr style=\"text-align: right;\">\n",
       "      <th></th>\n",
       "      <th>Variable</th>\n",
       "      <th>Count</th>\n",
       "    </tr>\n",
       "  </thead>\n",
       "  <tbody>\n",
       "    <tr>\n",
       "      <th>0</th>\n",
       "      <td>Children</td>\n",
       "      <td>2495</td>\n",
       "    </tr>\n",
       "    <tr>\n",
       "      <th>2</th>\n",
       "      <td>Income</td>\n",
       "      <td>2490</td>\n",
       "    </tr>\n",
       "    <tr>\n",
       "      <th>3</th>\n",
       "      <td>Techie</td>\n",
       "      <td>2477</td>\n",
       "    </tr>\n",
       "    <tr>\n",
       "      <th>1</th>\n",
       "      <td>Age</td>\n",
       "      <td>2475</td>\n",
       "    </tr>\n",
       "    <tr>\n",
       "      <th>4</th>\n",
       "      <td>Phone</td>\n",
       "      <td>1026</td>\n",
       "    </tr>\n",
       "    <tr>\n",
       "      <th>7</th>\n",
       "      <td>Bandwidth_GB_Year</td>\n",
       "      <td>1021</td>\n",
       "    </tr>\n",
       "    <tr>\n",
       "      <th>5</th>\n",
       "      <td>TechSupport</td>\n",
       "      <td>991</td>\n",
       "    </tr>\n",
       "    <tr>\n",
       "      <th>6</th>\n",
       "      <td>Tenure</td>\n",
       "      <td>931</td>\n",
       "    </tr>\n",
       "  </tbody>\n",
       "</table>\n",
       "</div>"
      ],
      "text/plain": [
       "            Variable  Count\n",
       "0           Children   2495\n",
       "2             Income   2490\n",
       "3             Techie   2477\n",
       "1                Age   2475\n",
       "4              Phone   1026\n",
       "7  Bandwidth_GB_Year   1021\n",
       "5        TechSupport    991\n",
       "6             Tenure    931"
      ]
     },
     "execution_count": 10,
     "metadata": {},
     "output_type": "execute_result"
    }
   ],
   "source": [
    "#convert nulls_count to a dataframe\n",
    "df1 = pd.DataFrame(data=nulls_count.index, columns=['Variable'])\n",
    "df2 = pd.DataFrame(data=nulls_count.values, columns=['Count'])\n",
    "nulls_df = pd.merge(df1, df2, left_index=True, right_index=True)\n",
    "nulls_df.sort_values('Count', ascending=False)"
   ]
  },
  {
   "cell_type": "code",
   "execution_count": 11,
   "id": "49bd4ab7",
   "metadata": {},
   "outputs": [
    {
     "data": {
      "text/html": [
       "<div>\n",
       "<style scoped>\n",
       "    .dataframe tbody tr th:only-of-type {\n",
       "        vertical-align: middle;\n",
       "    }\n",
       "\n",
       "    .dataframe tbody tr th {\n",
       "        vertical-align: top;\n",
       "    }\n",
       "\n",
       "    .dataframe thead th {\n",
       "        text-align: right;\n",
       "    }\n",
       "</style>\n",
       "<table border=\"1\" class=\"dataframe\">\n",
       "  <thead>\n",
       "    <tr style=\"text-align: right;\">\n",
       "      <th></th>\n",
       "      <th>Variable</th>\n",
       "      <th>Count</th>\n",
       "      <th>Perc_nulls</th>\n",
       "    </tr>\n",
       "  </thead>\n",
       "  <tbody>\n",
       "    <tr>\n",
       "      <th>0</th>\n",
       "      <td>Children</td>\n",
       "      <td>2495</td>\n",
       "      <td>24.95</td>\n",
       "    </tr>\n",
       "    <tr>\n",
       "      <th>1</th>\n",
       "      <td>Age</td>\n",
       "      <td>2475</td>\n",
       "      <td>24.75</td>\n",
       "    </tr>\n",
       "    <tr>\n",
       "      <th>2</th>\n",
       "      <td>Income</td>\n",
       "      <td>2490</td>\n",
       "      <td>24.90</td>\n",
       "    </tr>\n",
       "    <tr>\n",
       "      <th>3</th>\n",
       "      <td>Techie</td>\n",
       "      <td>2477</td>\n",
       "      <td>24.77</td>\n",
       "    </tr>\n",
       "    <tr>\n",
       "      <th>4</th>\n",
       "      <td>Phone</td>\n",
       "      <td>1026</td>\n",
       "      <td>10.26</td>\n",
       "    </tr>\n",
       "    <tr>\n",
       "      <th>5</th>\n",
       "      <td>TechSupport</td>\n",
       "      <td>991</td>\n",
       "      <td>9.91</td>\n",
       "    </tr>\n",
       "    <tr>\n",
       "      <th>6</th>\n",
       "      <td>Tenure</td>\n",
       "      <td>931</td>\n",
       "      <td>9.31</td>\n",
       "    </tr>\n",
       "    <tr>\n",
       "      <th>7</th>\n",
       "      <td>Bandwidth_GB_Year</td>\n",
       "      <td>1021</td>\n",
       "      <td>10.21</td>\n",
       "    </tr>\n",
       "  </tbody>\n",
       "</table>\n",
       "</div>"
      ],
      "text/plain": [
       "            Variable  Count  Perc_nulls\n",
       "0           Children   2495       24.95\n",
       "1                Age   2475       24.75\n",
       "2             Income   2490       24.90\n",
       "3             Techie   2477       24.77\n",
       "4              Phone   1026       10.26\n",
       "5        TechSupport    991        9.91\n",
       "6             Tenure    931        9.31\n",
       "7  Bandwidth_GB_Year   1021       10.21"
      ]
     },
     "execution_count": 11,
     "metadata": {},
     "output_type": "execute_result"
    }
   ],
   "source": [
    "#calculate percentage of missing values\n",
    "Perc = nulls_df['Count']/10000*100\n",
    "nulls_df['Perc_nulls'] = Perc\n",
    "nulls_df"
   ]
  },
  {
   "cell_type": "code",
   "execution_count": 12,
   "id": "499fd67a",
   "metadata": {},
   "outputs": [
    {
     "data": {
      "image/png": "[encoded data removed]",
      "text/plain": [
       "<Figure size 1800x720 with 2 Axes>"
      ]
     },
     "metadata": {
      "needs_background": "light"
     },
     "output_type": "display_data"
    }
   ],
   "source": [
    "msno.matrix(df, fontsize=12, labels=True)\n",
    "plt.show()"
   ]
  },
  {
   "cell_type": "code",
   "execution_count": 13,
   "id": "0eec9a99",
   "metadata": {},
   "outputs": [
    {
     "data": {
      "text/plain": [
       "<AxesSubplot:>"
      ]
     },
     "execution_count": 13,
     "metadata": {},
     "output_type": "execute_result"
    },
    {
     "data": {
      "image/png": "[encoded data removed]",
      "text/plain": [
       "<Figure size 1440x864 with 2 Axes>"
      ]
     },
     "metadata": {
      "needs_background": "light"
     },
     "output_type": "display_data"
    }
   ],
   "source": [
    "msno.heatmap(df, cmap='rainbow')"
   ]
  },
  {
   "cell_type": "markdown",
   "id": "18166f9a",
   "metadata": {},
   "source": [
    "### Missing values treatment"
   ]
  },
  {
   "cell_type": "markdown",
   "id": "9bf256fa",
   "metadata": {},
   "source": [
    "#### Quantitative variables"
   ]
  },
  {
   "cell_type": "code",
   "execution_count": 14,
   "id": "6c5925f8",
   "metadata": {},
   "outputs": [
    {
     "data": {
      "image/png": "[encoded data removed]",
      "text/plain": [
       "<Figure size 432x288 with 1 Axes>"
      ]
     },
     "metadata": {
      "needs_background": "light"
     },
     "output_type": "display_data"
    }
   ],
   "source": [
    "plt.hist(df['Children'])\n",
    "plt.show()"
   ]
  },
  {
   "cell_type": "code",
   "execution_count": 15,
   "id": "1336bed7",
   "metadata": {},
   "outputs": [],
   "source": [
    "df['Children'].fillna(df['Children'].median(), inplace=True)"
   ]
  },
  {
   "cell_type": "code",
   "execution_count": 16,
   "id": "a265d46f",
   "metadata": {},
   "outputs": [
    {
     "data": {
      "image/png": "[encoded data removed]",
      "text/plain": [
       "<Figure size 432x288 with 1 Axes>"
      ]
     },
     "metadata": {
      "needs_background": "light"
     },
     "output_type": "display_data"
    }
   ],
   "source": [
    "plt.hist(df['Age'])\n",
    "plt.show()"
   ]
  },
  {
   "cell_type": "code",
   "execution_count": 17,
   "id": "cf5274d9",
   "metadata": {},
   "outputs": [],
   "source": [
    "df['Age'].fillna(df['Age'].mean(), inplace=True)"
   ]
  },
  {
   "cell_type": "code",
   "execution_count": 18,
   "id": "7771e547",
   "metadata": {},
   "outputs": [
    {
     "data": {
      "image/png": "[encoded data removed]",
      "text/plain": [
       "<Figure size 432x288 with 1 Axes>"
      ]
     },
     "metadata": {
      "needs_background": "light"
     },
     "output_type": "display_data"
    }
   ],
   "source": [
    "plt.hist(df['Income'])\n",
    "plt.show()"
   ]
  },
  {
   "cell_type": "code",
   "execution_count": 19,
   "id": "250de63f",
   "metadata": {},
   "outputs": [],
   "source": [
    "df['Income'].fillna(df['Income'].median(), inplace=True)"
   ]
  },
  {
   "cell_type": "code",
   "execution_count": 20,
   "id": "6467ba24",
   "metadata": {},
   "outputs": [
    {
     "data": {
      "image/png": "[encoded data removed]",
      "text/plain": [
       "<Figure size 432x288 with 1 Axes>"
      ]
     },
     "metadata": {
      "needs_background": "light"
     },
     "output_type": "display_data"
    }
   ],
   "source": [
    "plt.hist(df['Bandwidth_GB_Year'])\n",
    "plt.show()"
   ]
  },
  {
   "cell_type": "code",
   "execution_count": 21,
   "id": "242e9e0f",
   "metadata": {},
   "outputs": [],
   "source": [
    "df['Bandwidth_GB_Year'] = df['Bandwidth_GB_Year'].fillna(df['Bandwidth_GB_Year'].mode()[0])"
   ]
  },
  {
   "cell_type": "code",
   "execution_count": 22,
   "id": "5bf4d1ad",
   "metadata": {},
   "outputs": [
    {
     "data": {
      "image/png": "[encoded data removed]",
      "text/plain": [
       "<Figure size 432x288 with 1 Axes>"
      ]
     },
     "metadata": {
      "needs_background": "light"
     },
     "output_type": "display_data"
    }
   ],
   "source": [
    "plt.hist(df['Tenure'])\n",
    "plt.show()"
   ]
  },
  {
   "cell_type": "code",
   "execution_count": 23,
   "id": "bf38be02",
   "metadata": {},
   "outputs": [],
   "source": [
    "df['Tenure'] = df['Tenure'].fillna(df['Tenure'].mode()[0])"
   ]
  },
  {
   "cell_type": "markdown",
   "id": "98ff02b4",
   "metadata": {},
   "source": [
    "#### Qualitative variables"
   ]
  },
  {
   "cell_type": "code",
   "execution_count": 24,
   "id": "9b2b5a11",
   "metadata": {},
   "outputs": [],
   "source": [
    "df['Techie'] = df['Techie'].fillna(df['Techie'].mode()[0])"
   ]
  },
  {
   "cell_type": "code",
   "execution_count": 25,
   "id": "6cceecd9",
   "metadata": {},
   "outputs": [],
   "source": [
    "df['Phone'] = df['Phone'].fillna(df['Phone'].mode()[0])"
   ]
  },
  {
   "cell_type": "code",
   "execution_count": 26,
   "id": "772c3505",
   "metadata": {},
   "outputs": [],
   "source": [
    "df['TechSupport'] = df['TechSupport'].fillna(df['TechSupport'].mode()[0])"
   ]
  },
  {
   "cell_type": "markdown",
   "id": "d88924fb",
   "metadata": {},
   "source": [
    "### Verification of treatment"
   ]
  },
  {
   "cell_type": "markdown",
   "id": "cb6ddfb0",
   "metadata": {},
   "source": [
    "#### Check for missing values"
   ]
  },
  {
   "cell_type": "code",
   "execution_count": 27,
   "id": "e8e3a5a1",
   "metadata": {},
   "outputs": [
    {
     "data": {
      "text/plain": [
       "Unnamed: 0              0\n",
       "CaseOrder               0\n",
       "Customer_id             0\n",
       "Interaction             0\n",
       "City                    0\n",
       "State                   0\n",
       "County                  0\n",
       "Zip                     0\n",
       "Lat                     0\n",
       "Lng                     0\n",
       "Population              0\n",
       "Area                    0\n",
       "Timezone                0\n",
       "Job                     0\n",
       "Children                0\n",
       "Age                     0\n",
       "Education               0\n",
       "Employment              0\n",
       "Income                  0\n",
       "Marital                 0\n",
       "Gender                  0\n",
       "Churn                   0\n",
       "Outage_sec_perweek      0\n",
       "Email                   0\n",
       "Contacts                0\n",
       "Yearly_equip_failure    0\n",
       "Techie                  0\n",
       "Contract                0\n",
       "Port_modem              0\n",
       "Tablet                  0\n",
       "InternetService         0\n",
       "Phone                   0\n",
       "Multiple                0\n",
       "OnlineSecurity          0\n",
       "OnlineBackup            0\n",
       "DeviceProtection        0\n",
       "TechSupport             0\n",
       "StreamingTV             0\n",
       "StreamingMovies         0\n",
       "PaperlessBilling        0\n",
       "PaymentMethod           0\n",
       "Tenure                  0\n",
       "MonthlyCharge           0\n",
       "Bandwidth_GB_Year       0\n",
       "item1                   0\n",
       "item2                   0\n",
       "item3                   0\n",
       "item4                   0\n",
       "item5                   0\n",
       "item6                   0\n",
       "item7                   0\n",
       "item8                   0\n",
       "dtype: int64"
      ]
     },
     "execution_count": 27,
     "metadata": {},
     "output_type": "execute_result"
    }
   ],
   "source": [
    "nulls = df.isnull().sum()\n",
    "nulls"
   ]
  },
  {
   "cell_type": "markdown",
   "id": "129662e9",
   "metadata": {},
   "source": [
    "#### Check that distributions did not change drastically"
   ]
  },
  {
   "cell_type": "code",
   "execution_count": 28,
   "id": "655f1174",
   "metadata": {
    "scrolled": true
   },
   "outputs": [
    {
     "data": {
      "image/png": "[encoded data removed]",
      "text/plain": [
       "<Figure size 432x288 with 1 Axes>"
      ]
     },
     "metadata": {
      "needs_background": "light"
     },
     "output_type": "display_data"
    }
   ],
   "source": [
    "plt.hist(df['Children'])\n",
    "plt.show()"
   ]
  },
  {
   "cell_type": "code",
   "execution_count": 29,
   "id": "bf190d6f",
   "metadata": {},
   "outputs": [
    {
     "data": {
      "image/png": "[encoded data removed]",
      "text/plain": [
       "<Figure size 432x288 with 1 Axes>"
      ]
     },
     "metadata": {
      "needs_background": "light"
     },
     "output_type": "display_data"
    }
   ],
   "source": [
    "plt.hist(df['Age'])\n",
    "plt.show()"
   ]
  },
  {
   "cell_type": "code",
   "execution_count": 30,
   "id": "93f9931a",
   "metadata": {},
   "outputs": [
    {
     "data": {
      "image/png": "[encoded data removed]",
      "text/plain": [
       "<Figure size 432x288 with 1 Axes>"
      ]
     },
     "metadata": {
      "needs_background": "light"
     },
     "output_type": "display_data"
    }
   ],
   "source": [
    "plt.hist(df['Income'])\n",
    "plt.show()"
   ]
  },
  {
   "cell_type": "code",
   "execution_count": 31,
   "id": "5d23e300",
   "metadata": {},
   "outputs": [
    {
     "data": {
      "image/png": "[encoded data removed]",
      "text/plain": [
       "<Figure size 432x288 with 1 Axes>"
      ]
     },
     "metadata": {
      "needs_background": "light"
     },
     "output_type": "display_data"
    }
   ],
   "source": [
    "plt.hist(df['Bandwidth_GB_Year'])\n",
    "plt.show()"
   ]
  },
  {
   "cell_type": "code",
   "execution_count": 32,
   "id": "d59341ee",
   "metadata": {},
   "outputs": [
    {
     "data": {
      "image/png": "[encoded data removed]",
      "text/plain": [
       "<Figure size 432x288 with 1 Axes>"
      ]
     },
     "metadata": {
      "needs_background": "light"
     },
     "output_type": "display_data"
    }
   ],
   "source": [
    "plt.hist(df['Tenure'])\n",
    "plt.show()"
   ]
  },
  {
   "cell_type": "markdown",
   "id": "88ade16e",
   "metadata": {},
   "source": [
    "#### Use matrix to visualize there are no more missing values"
   ]
  },
  {
   "cell_type": "code",
   "execution_count": 33,
   "id": "c4bc7eca",
   "metadata": {},
   "outputs": [
    {
     "data": {
      "image/png": "[encoded data removed]",
      "text/plain": [
       "<Figure size 1800x720 with 2 Axes>"
      ]
     },
     "metadata": {
      "needs_background": "light"
     },
     "output_type": "display_data"
    }
   ],
   "source": [
    "msno.matrix(df, fontsize=12, labels=True)\n",
    "plt.show()"
   ]
  },
  {
   "cell_type": "markdown",
   "id": "6bc810f1",
   "metadata": {},
   "source": [
    "### Outliers detection"
   ]
  },
  {
   "cell_type": "code",
   "execution_count": 34,
   "id": "12d40f3d",
   "metadata": {},
   "outputs": [
    {
     "data": {
      "text/html": [
       "<div>\n",
       "<style scoped>\n",
       "    .dataframe tbody tr th:only-of-type {\n",
       "        vertical-align: middle;\n",
       "    }\n",
       "\n",
       "    .dataframe tbody tr th {\n",
       "        vertical-align: top;\n",
       "    }\n",
       "\n",
       "    .dataframe thead th {\n",
       "        text-align: right;\n",
       "    }\n",
       "</style>\n",
       "<table border=\"1\" class=\"dataframe\">\n",
       "  <thead>\n",
       "    <tr style=\"text-align: right;\">\n",
       "      <th></th>\n",
       "      <th>Children</th>\n",
       "      <th>Age</th>\n",
       "      <th>Income</th>\n",
       "      <th>Outage_sec_perweek</th>\n",
       "      <th>Email</th>\n",
       "      <th>Contacts</th>\n",
       "      <th>Yearly_equip_failure</th>\n",
       "      <th>Tenure</th>\n",
       "      <th>MonthlyCharge</th>\n",
       "      <th>Bandwidth_GB_Year</th>\n",
       "    </tr>\n",
       "  </thead>\n",
       "  <tbody>\n",
       "    <tr>\n",
       "      <th>count</th>\n",
       "      <td>10000.000000</td>\n",
       "      <td>10000.000000</td>\n",
       "      <td>10000.000000</td>\n",
       "      <td>10000.000000</td>\n",
       "      <td>10000.000000</td>\n",
       "      <td>10000.000000</td>\n",
       "      <td>10000.000000</td>\n",
       "      <td>10000.000000</td>\n",
       "      <td>10000.000000</td>\n",
       "      <td>10000.000000</td>\n",
       "    </tr>\n",
       "    <tr>\n",
       "      <th>mean</th>\n",
       "      <td>1.822500</td>\n",
       "      <td>53.275748</td>\n",
       "      <td>38256.017897</td>\n",
       "      <td>11.452955</td>\n",
       "      <td>12.016000</td>\n",
       "      <td>0.994200</td>\n",
       "      <td>0.398000</td>\n",
       "      <td>36.449401</td>\n",
       "      <td>174.076305</td>\n",
       "      <td>3585.637484</td>\n",
       "    </tr>\n",
       "    <tr>\n",
       "      <th>std</th>\n",
       "      <td>1.925971</td>\n",
       "      <td>18.003063</td>\n",
       "      <td>24747.872761</td>\n",
       "      <td>7.025921</td>\n",
       "      <td>3.025898</td>\n",
       "      <td>0.988466</td>\n",
       "      <td>0.635953</td>\n",
       "      <td>25.903587</td>\n",
       "      <td>43.335473</td>\n",
       "      <td>2145.465461</td>\n",
       "    </tr>\n",
       "    <tr>\n",
       "      <th>min</th>\n",
       "      <td>0.000000</td>\n",
       "      <td>18.000000</td>\n",
       "      <td>740.660000</td>\n",
       "      <td>-1.348571</td>\n",
       "      <td>1.000000</td>\n",
       "      <td>0.000000</td>\n",
       "      <td>0.000000</td>\n",
       "      <td>1.000259</td>\n",
       "      <td>77.505230</td>\n",
       "      <td>155.506715</td>\n",
       "    </tr>\n",
       "    <tr>\n",
       "      <th>25%</th>\n",
       "      <td>1.000000</td>\n",
       "      <td>41.000000</td>\n",
       "      <td>23660.790000</td>\n",
       "      <td>8.054362</td>\n",
       "      <td>10.000000</td>\n",
       "      <td>0.000000</td>\n",
       "      <td>0.000000</td>\n",
       "      <td>8.700329</td>\n",
       "      <td>141.071078</td>\n",
       "      <td>1312.130487</td>\n",
       "    </tr>\n",
       "    <tr>\n",
       "      <th>50%</th>\n",
       "      <td>1.000000</td>\n",
       "      <td>53.275748</td>\n",
       "      <td>33186.785000</td>\n",
       "      <td>10.202896</td>\n",
       "      <td>12.000000</td>\n",
       "      <td>1.000000</td>\n",
       "      <td>0.000000</td>\n",
       "      <td>47.444800</td>\n",
       "      <td>169.915400</td>\n",
       "      <td>4472.303000</td>\n",
       "    </tr>\n",
       "    <tr>\n",
       "      <th>75%</th>\n",
       "      <td>3.000000</td>\n",
       "      <td>65.000000</td>\n",
       "      <td>45504.192500</td>\n",
       "      <td>12.487644</td>\n",
       "      <td>14.000000</td>\n",
       "      <td>2.000000</td>\n",
       "      <td>1.000000</td>\n",
       "      <td>60.153487</td>\n",
       "      <td>203.777441</td>\n",
       "      <td>5466.284500</td>\n",
       "    </tr>\n",
       "    <tr>\n",
       "      <th>max</th>\n",
       "      <td>10.000000</td>\n",
       "      <td>89.000000</td>\n",
       "      <td>258900.700000</td>\n",
       "      <td>47.049280</td>\n",
       "      <td>23.000000</td>\n",
       "      <td>7.000000</td>\n",
       "      <td>6.000000</td>\n",
       "      <td>71.999280</td>\n",
       "      <td>315.878600</td>\n",
       "      <td>7158.982000</td>\n",
       "    </tr>\n",
       "  </tbody>\n",
       "</table>\n",
       "</div>"
      ],
      "text/plain": [
       "           Children           Age         Income  Outage_sec_perweek  \\\n",
       "count  10000.000000  10000.000000   10000.000000        10000.000000   \n",
       "mean       1.822500     53.275748   38256.017897           11.452955   \n",
       "std        1.925971     18.003063   24747.872761            7.025921   \n",
       "min        0.000000     18.000000     740.660000           -1.348571   \n",
       "25%        1.000000     41.000000   23660.790000            8.054362   \n",
       "50%        1.000000     53.275748   33186.785000           10.202896   \n",
       "75%        3.000000     65.000000   45504.192500           12.487644   \n",
       "max       10.000000     89.000000  258900.700000           47.049280   \n",
       "\n",
       "              Email      Contacts  Yearly_equip_failure        Tenure  \\\n",
       "count  10000.000000  10000.000000          10000.000000  10000.000000   \n",
       "mean      12.016000      0.994200              0.398000     36.449401   \n",
       "std        3.025898      0.988466              0.635953     25.903587   \n",
       "min        1.000000      0.000000              0.000000      1.000259   \n",
       "25%       10.000000      0.000000              0.000000      8.700329   \n",
       "50%       12.000000      1.000000              0.000000     47.444800   \n",
       "75%       14.000000      2.000000              1.000000     60.153487   \n",
       "max       23.000000      7.000000              6.000000     71.999280   \n",
       "\n",
       "       MonthlyCharge  Bandwidth_GB_Year  \n",
       "count   10000.000000       10000.000000  \n",
       "mean      174.076305        3585.637484  \n",
       "std        43.335473        2145.465461  \n",
       "min        77.505230         155.506715  \n",
       "25%       141.071078        1312.130487  \n",
       "50%       169.915400        4472.303000  \n",
       "75%       203.777441        5466.284500  \n",
       "max       315.878600        7158.982000  "
      ]
     },
     "execution_count": 34,
     "metadata": {},
     "output_type": "execute_result"
    }
   ],
   "source": [
    "df[['Children', 'Age', 'Income', 'Outage_sec_perweek', 'Email', 'Contacts', 'Yearly_equip_failure', 'Tenure', 'MonthlyCharge', 'Bandwidth_GB_Year']].describe()"
   ]
  },
  {
   "cell_type": "markdown",
   "id": "f751477e",
   "metadata": {},
   "source": [
    "#### Z-Score and Boxplot for Children"
   ]
  },
  {
   "cell_type": "code",
   "execution_count": 35,
   "id": "80ea1108",
   "metadata": {},
   "outputs": [
    {
     "data": {
      "text/plain": [
       "<bound method NDFrame.head of       Children  Z_Score_Children\n",
       "0          1.0         -0.427079\n",
       "1          1.0         -0.427079\n",
       "2          4.0          1.130655\n",
       "3          1.0         -0.427079\n",
       "4          0.0         -0.946323\n",
       "...        ...               ...\n",
       "9995       3.0          0.611410\n",
       "9996       4.0          1.130655\n",
       "9997       1.0         -0.427079\n",
       "9998       1.0         -0.427079\n",
       "9999       1.0         -0.427079\n",
       "\n",
       "[10000 rows x 2 columns]>"
      ]
     },
     "execution_count": 35,
     "metadata": {},
     "output_type": "execute_result"
    }
   ],
   "source": [
    "df['Z_Score_Children']=stats.zscore(df['Children'])\n",
    "df[['Children','Z_Score_Children']].head"
   ]
  },
  {
   "cell_type": "code",
   "execution_count": 36,
   "id": "782a2f1d",
   "metadata": {},
   "outputs": [
    {
     "data": {
      "text/plain": [
       "302"
      ]
     },
     "execution_count": 36,
     "metadata": {},
     "output_type": "execute_result"
    }
   ],
   "source": [
    "sum((df.Z_Score_Children < -3) | (df.Z_Score_Children > 3))"
   ]
  },
  {
   "cell_type": "code",
   "execution_count": 37,
   "id": "a9ebd581",
   "metadata": {},
   "outputs": [
    {
     "data": {
      "image/png": "[encoded data removed]",
      "text/plain": [
       "<Figure size 432x288 with 1 Axes>"
      ]
     },
     "metadata": {
      "needs_background": "light"
     },
     "output_type": "display_data"
    }
   ],
   "source": [
    "plt.hist(df['Z_Score_Children'])\n",
    "plt.show()"
   ]
  },
  {
   "cell_type": "code",
   "execution_count": 38,
   "id": "8b916717",
   "metadata": {},
   "outputs": [
    {
     "data": {
      "image/png": "[encoded data removed]",
      "text/plain": [
       "<Figure size 432x288 with 1 Axes>"
      ]
     },
     "metadata": {
      "needs_background": "light"
     },
     "output_type": "display_data"
    }
   ],
   "source": [
    "c =sns.boxplot(x='Children', data=df)"
   ]
  },
  {
   "cell_type": "markdown",
   "id": "f4675dc5",
   "metadata": {},
   "source": [
    "#### Z-Score and Boxplot for Age"
   ]
  },
  {
   "cell_type": "code",
   "execution_count": 39,
   "id": "7928f49a",
   "metadata": {},
   "outputs": [
    {
     "data": {
      "text/plain": [
       "<bound method NDFrame.head of             Age  Z_Score_Age\n",
       "0     68.000000     0.817916\n",
       "1     27.000000    -1.459588\n",
       "2     50.000000    -0.181964\n",
       "3     48.000000    -0.293062\n",
       "4     83.000000     1.651149\n",
       "...         ...          ...\n",
       "9995  53.275748     0.000000\n",
       "9996  48.000000    -0.293062\n",
       "9997  53.275748     0.000000\n",
       "9998  39.000000    -0.793002\n",
       "9999  28.000000    -1.404039\n",
       "\n",
       "[10000 rows x 2 columns]>"
      ]
     },
     "execution_count": 39,
     "metadata": {},
     "output_type": "execute_result"
    }
   ],
   "source": [
    "df['Z_Score_Age']=stats.zscore(df['Age'])\n",
    "df[['Age','Z_Score_Age']].head"
   ]
  },
  {
   "cell_type": "code",
   "execution_count": 40,
   "id": "34a1884e",
   "metadata": {},
   "outputs": [
    {
     "data": {
      "text/plain": [
       "0"
      ]
     },
     "execution_count": 40,
     "metadata": {},
     "output_type": "execute_result"
    }
   ],
   "source": [
    "sum((df.Z_Score_Age < -3) | (df.Z_Score_Age > 3))"
   ]
  },
  {
   "cell_type": "code",
   "execution_count": 41,
   "id": "c094f59c",
   "metadata": {},
   "outputs": [
    {
     "data": {
      "image/png": "[encoded data removed]",
      "text/plain": [
       "<Figure size 432x288 with 1 Axes>"
      ]
     },
     "metadata": {
      "needs_background": "light"
     },
     "output_type": "display_data"
    }
   ],
   "source": [
    "plt.hist(df['Z_Score_Age'])\n",
    "plt.show()"
   ]
  },
  {
   "cell_type": "code",
   "execution_count": 42,
   "id": "44d06aff",
   "metadata": {},
   "outputs": [
    {
     "data": {
      "image/png": "[encoded data removed]",
      "text/plain": [
       "<Figure size 432x288 with 1 Axes>"
      ]
     },
     "metadata": {
      "needs_background": "light"
     },
     "output_type": "display_data"
    }
   ],
   "source": [
    "c =sns.boxplot(x='Age', data=df)"
   ]
  },
  {
   "cell_type": "markdown",
   "id": "d6cbd3b9",
   "metadata": {},
   "source": [
    "#### Z-Score and Boxplot for Income"
   ]
  },
  {
   "cell_type": "code",
   "execution_count": 43,
   "id": "8726a6d9",
   "metadata": {},
   "outputs": [
    {
     "data": {
      "text/plain": [
       "<bound method NDFrame.head of          Income  Z_Score_Income\n",
       "0     28561.990       -0.391731\n",
       "1     21704.770       -0.668828\n",
       "2     33186.785       -0.204845\n",
       "3     18925.230       -0.781148\n",
       "4     40074.190        0.073471\n",
       "...         ...             ...\n",
       "9995  55723.740        0.705863\n",
       "9996  33186.785       -0.204845\n",
       "9997  33186.785       -0.204845\n",
       "9998  16667.580       -0.872379\n",
       "9999  33186.785       -0.204845\n",
       "\n",
       "[10000 rows x 2 columns]>"
      ]
     },
     "execution_count": 43,
     "metadata": {},
     "output_type": "execute_result"
    }
   ],
   "source": [
    "df['Z_Score_Income']=stats.zscore(df['Income'])\n",
    "df[['Income','Z_Score_Income']].head"
   ]
  },
  {
   "cell_type": "code",
   "execution_count": 44,
   "id": "b630b367",
   "metadata": {},
   "outputs": [
    {
     "data": {
      "text/plain": [
       "193"
      ]
     },
     "execution_count": 44,
     "metadata": {},
     "output_type": "execute_result"
    }
   ],
   "source": [
    "sum((df.Z_Score_Income < -3) | (df.Z_Score_Income > 3))"
   ]
  },
  {
   "cell_type": "code",
   "execution_count": 45,
   "id": "989b970c",
   "metadata": {},
   "outputs": [
    {
     "data": {
      "image/png": "[encoded data removed]",
      "text/plain": [
       "<Figure size 432x288 with 1 Axes>"
      ]
     },
     "metadata": {
      "needs_background": "light"
     },
     "output_type": "display_data"
    }
   ],
   "source": [
    "plt.hist(df['Z_Score_Income'])\n",
    "plt.show()"
   ]
  },
  {
   "cell_type": "code",
   "execution_count": 46,
   "id": "62c430f0",
   "metadata": {},
   "outputs": [
    {
     "data": {
      "image/png": "[encoded data removed]",
      "text/plain": [
       "<Figure size 432x288 with 1 Axes>"
      ]
     },
     "metadata": {
      "needs_background": "light"
     },
     "output_type": "display_data"
    }
   ],
   "source": [
    "c =sns.boxplot(x='Income', data=df)"
   ]
  },
  {
   "cell_type": "markdown",
   "id": "960e7e87",
   "metadata": {},
   "source": [
    "#### Z-Score and Boxplot for Outage_sec_perweek"
   ]
  },
  {
   "cell_type": "code",
   "execution_count": 47,
   "id": "dcf2fd8d",
   "metadata": {},
   "outputs": [
    {
     "data": {
      "text/plain": [
       "<bound method NDFrame.head of       Outage_sec_perweek  Z_Score_Outage_sec_perweek\n",
       "0               6.972566                   -0.637726\n",
       "1              12.014541                    0.079935\n",
       "2              10.245616                   -0.171849\n",
       "3              15.206193                    0.534225\n",
       "4               8.960316                   -0.354795\n",
       "...                  ...                         ...\n",
       "9995            9.265392                   -0.311372\n",
       "9996            8.115849                   -0.474994\n",
       "9997            4.837696                   -0.941598\n",
       "9998           12.076460                    0.088748\n",
       "9999           12.641760                    0.169211\n",
       "\n",
       "[10000 rows x 2 columns]>"
      ]
     },
     "execution_count": 47,
     "metadata": {},
     "output_type": "execute_result"
    }
   ],
   "source": [
    "df['Z_Score_Outage_sec_perweek']=stats.zscore(df['Outage_sec_perweek'])\n",
    "df[['Outage_sec_perweek','Z_Score_Outage_sec_perweek']].head"
   ]
  },
  {
   "cell_type": "code",
   "execution_count": 48,
   "id": "8ff11d4b",
   "metadata": {},
   "outputs": [
    {
     "data": {
      "text/plain": [
       "0"
      ]
     },
     "execution_count": 48,
     "metadata": {},
     "output_type": "execute_result"
    }
   ],
   "source": [
    "sum(df.Z_Score_Outage_sec_perweek < -3)"
   ]
  },
  {
   "cell_type": "code",
   "execution_count": 49,
   "id": "eb6d9792",
   "metadata": {},
   "outputs": [
    {
     "data": {
      "text/plain": [
       "491"
      ]
     },
     "execution_count": 49,
     "metadata": {},
     "output_type": "execute_result"
    }
   ],
   "source": [
    "sum(df.Z_Score_Outage_sec_perweek > 3)"
   ]
  },
  {
   "cell_type": "code",
   "execution_count": 50,
   "id": "20305c8f",
   "metadata": {},
   "outputs": [
    {
     "data": {
      "image/png": "[encoded data removed]",
      "text/plain": [
       "<Figure size 432x288 with 1 Axes>"
      ]
     },
     "metadata": {
      "needs_background": "light"
     },
     "output_type": "display_data"
    }
   ],
   "source": [
    "plt.hist(df['Z_Score_Outage_sec_perweek'])\n",
    "plt.show()"
   ]
  },
  {
   "cell_type": "code",
   "execution_count": 51,
   "id": "c13930fb",
   "metadata": {
    "scrolled": true
   },
   "outputs": [
    {
     "data": {
      "image/png": "[encoded data removed]",
      "text/plain": [
       "<Figure size 432x288 with 1 Axes>"
      ]
     },
     "metadata": {
      "needs_background": "light"
     },
     "output_type": "display_data"
    }
   ],
   "source": [
    "c =sns.boxplot(x='Outage_sec_perweek', data=df)"
   ]
  },
  {
   "cell_type": "markdown",
   "id": "8bbbfa8a",
   "metadata": {},
   "source": [
    "#### Z-Score and Boxplot for Email"
   ]
  },
  {
   "cell_type": "code",
   "execution_count": 52,
   "id": "09ed8364",
   "metadata": {},
   "outputs": [
    {
     "data": {
      "text/plain": [
       "<bound method NDFrame.head of       Email  Z_Score_Email\n",
       "0        10      -0.666282\n",
       "1        12      -0.005288\n",
       "2         9      -0.996779\n",
       "3        15       0.986203\n",
       "4        16       1.316700\n",
       "...     ...            ...\n",
       "9995     12      -0.005288\n",
       "9996     15       0.986203\n",
       "9997     10      -0.666282\n",
       "9998     14       0.655706\n",
       "9999     17       1.647197\n",
       "\n",
       "[10000 rows x 2 columns]>"
      ]
     },
     "execution_count": 52,
     "metadata": {},
     "output_type": "execute_result"
    }
   ],
   "source": [
    "df['Z_Score_Email']=stats.zscore(df['Email'])\n",
    "df[['Email','Z_Score_Email']].head"
   ]
  },
  {
   "cell_type": "code",
   "execution_count": 53,
   "id": "731c5898",
   "metadata": {},
   "outputs": [
    {
     "data": {
      "text/plain": [
       "12"
      ]
     },
     "execution_count": 53,
     "metadata": {},
     "output_type": "execute_result"
    }
   ],
   "source": [
    "sum((df.Z_Score_Email < -3) | (df.Z_Score_Email > 3))"
   ]
  },
  {
   "cell_type": "code",
   "execution_count": 54,
   "id": "2de67119",
   "metadata": {},
   "outputs": [
    {
     "data": {
      "text/plain": [
       "9"
      ]
     },
     "execution_count": 54,
     "metadata": {},
     "output_type": "execute_result"
    }
   ],
   "source": [
    "sum(df.Z_Score_Email < -3)"
   ]
  },
  {
   "cell_type": "code",
   "execution_count": 55,
   "id": "af105292",
   "metadata": {},
   "outputs": [
    {
     "data": {
      "text/plain": [
       "3"
      ]
     },
     "execution_count": 55,
     "metadata": {},
     "output_type": "execute_result"
    }
   ],
   "source": [
    "sum(df.Z_Score_Email > 3)"
   ]
  },
  {
   "cell_type": "code",
   "execution_count": 56,
   "id": "a570a235",
   "metadata": {},
   "outputs": [
    {
     "data": {
      "image/png": "[encoded data removed]",
      "text/plain": [
       "<Figure size 432x288 with 1 Axes>"
      ]
     },
     "metadata": {
      "needs_background": "light"
     },
     "output_type": "display_data"
    }
   ],
   "source": [
    "plt.hist(df['Z_Score_Email'])\n",
    "plt.show()"
   ]
  },
  {
   "cell_type": "code",
   "execution_count": 57,
   "id": "d48912d0",
   "metadata": {},
   "outputs": [
    {
     "data": {
      "image/png": "[encoded data removed]",
      "text/plain": [
       "<Figure size 432x288 with 1 Axes>"
      ]
     },
     "metadata": {
      "needs_background": "light"
     },
     "output_type": "display_data"
    }
   ],
   "source": [
    "c =sns.boxplot(x='Email', data=df)"
   ]
  },
  {
   "cell_type": "markdown",
   "id": "309e369b",
   "metadata": {},
   "source": [
    "#### Z-Score and Boxplot for Contacts"
   ]
  },
  {
   "cell_type": "code",
   "execution_count": 58,
   "id": "dbb93220",
   "metadata": {},
   "outputs": [
    {
     "data": {
      "text/plain": [
       "<bound method NDFrame.head of       Contacts  Z_Score_Contacts\n",
       "0            0         -1.005852\n",
       "1            0         -1.005852\n",
       "2            0         -1.005852\n",
       "3            2          1.017588\n",
       "4            2          1.017588\n",
       "...        ...               ...\n",
       "9995         2          1.017588\n",
       "9996         2          1.017588\n",
       "9997         0         -1.005852\n",
       "9998         1          0.005868\n",
       "9999         1          0.005868\n",
       "\n",
       "[10000 rows x 2 columns]>"
      ]
     },
     "execution_count": 58,
     "metadata": {},
     "output_type": "execute_result"
    }
   ],
   "source": [
    "df['Z_Score_Contacts']=stats.zscore(df['Contacts'])\n",
    "df[['Contacts','Z_Score_Contacts']].head"
   ]
  },
  {
   "cell_type": "code",
   "execution_count": 59,
   "id": "b3c04ee1",
   "metadata": {},
   "outputs": [
    {
     "data": {
      "text/plain": [
       "165"
      ]
     },
     "execution_count": 59,
     "metadata": {},
     "output_type": "execute_result"
    }
   ],
   "source": [
    "sum(df.Z_Score_Contacts > 3)"
   ]
  },
  {
   "cell_type": "code",
   "execution_count": 60,
   "id": "676dd349",
   "metadata": {},
   "outputs": [
    {
     "data": {
      "image/png": "[encoded data removed]",
      "text/plain": [
       "<Figure size 432x288 with 1 Axes>"
      ]
     },
     "metadata": {
      "needs_background": "light"
     },
     "output_type": "display_data"
    }
   ],
   "source": [
    "plt.hist(df['Z_Score_Contacts'])\n",
    "plt.show()"
   ]
  },
  {
   "cell_type": "code",
   "execution_count": 61,
   "id": "e96d35b4",
   "metadata": {},
   "outputs": [
    {
     "data": {
      "image/png": "[encoded data removed]",
      "text/plain": [
       "<Figure size 432x288 with 1 Axes>"
      ]
     },
     "metadata": {
      "needs_background": "light"
     },
     "output_type": "display_data"
    }
   ],
   "source": [
    "c =sns.boxplot(x='Contacts', data=df)"
   ]
  },
  {
   "cell_type": "markdown",
   "id": "d47b221d",
   "metadata": {},
   "source": [
    "#### Z-Score and Boxplot for Yearly_equip_failure"
   ]
  },
  {
   "cell_type": "code",
   "execution_count": 62,
   "id": "05108181",
   "metadata": {},
   "outputs": [
    {
     "data": {
      "text/plain": [
       "<bound method NDFrame.head of       Yearly_equip_failure  Z_Score_Yearly_equip_failure\n",
       "0                        1                      0.946658\n",
       "1                        1                      0.946658\n",
       "2                        1                      0.946658\n",
       "3                        0                     -0.625864\n",
       "4                        1                      0.946658\n",
       "...                    ...                           ...\n",
       "9995                     0                     -0.625864\n",
       "9996                     0                     -0.625864\n",
       "9997                     0                     -0.625864\n",
       "9998                     0                     -0.625864\n",
       "9999                     0                     -0.625864\n",
       "\n",
       "[10000 rows x 2 columns]>"
      ]
     },
     "execution_count": 62,
     "metadata": {},
     "output_type": "execute_result"
    }
   ],
   "source": [
    "df['Z_Score_Yearly_equip_failure']=stats.zscore(df['Yearly_equip_failure'])\n",
    "df[['Yearly_equip_failure','Z_Score_Yearly_equip_failure']].head"
   ]
  },
  {
   "cell_type": "code",
   "execution_count": 63,
   "id": "fdeba908",
   "metadata": {},
   "outputs": [
    {
     "data": {
      "text/plain": [
       "94"
      ]
     },
     "execution_count": 63,
     "metadata": {},
     "output_type": "execute_result"
    }
   ],
   "source": [
    "sum((df.Z_Score_Yearly_equip_failure < -3) | (df.Z_Score_Yearly_equip_failure > 3))"
   ]
  },
  {
   "cell_type": "code",
   "execution_count": 64,
   "id": "405afa33",
   "metadata": {},
   "outputs": [
    {
     "data": {
      "image/png": "[encoded data removed]",
      "text/plain": [
       "<Figure size 432x288 with 1 Axes>"
      ]
     },
     "metadata": {
      "needs_background": "light"
     },
     "output_type": "display_data"
    }
   ],
   "source": [
    "plt.hist(df['Z_Score_Yearly_equip_failure'])\n",
    "plt.show()"
   ]
  },
  {
   "cell_type": "code",
   "execution_count": 65,
   "id": "c2f76003",
   "metadata": {},
   "outputs": [
    {
     "data": {
      "image/png": "[encoded data removed]",
      "text/plain": [
       "<Figure size 432x288 with 1 Axes>"
      ]
     },
     "metadata": {
      "needs_background": "light"
     },
     "output_type": "display_data"
    }
   ],
   "source": [
    "c =sns.boxplot(x='Yearly_equip_failure', data=df)"
   ]
  },
  {
   "cell_type": "markdown",
   "id": "eabb7bf9",
   "metadata": {},
   "source": [
    "#### Z-Score and Boxplot for Tenure"
   ]
  },
  {
   "cell_type": "code",
   "execution_count": 66,
   "id": "9ad496e5",
   "metadata": {},
   "outputs": [
    {
     "data": {
      "text/plain": [
       "<bound method NDFrame.head of          Tenure  Z_Score_Tenure\n",
       "0      6.795513       -1.144836\n",
       "1      1.156681       -1.362533\n",
       "2     15.754144       -0.798974\n",
       "3     17.087227       -0.747508\n",
       "4      1.670972       -1.342678\n",
       "...         ...             ...\n",
       "9995  68.197130        1.225673\n",
       "9996  61.040370        0.949374\n",
       "9997  55.449910        0.733545\n",
       "9998  71.095600        1.337573\n",
       "9999  63.350860        1.038574\n",
       "\n",
       "[10000 rows x 2 columns]>"
      ]
     },
     "execution_count": 66,
     "metadata": {},
     "output_type": "execute_result"
    }
   ],
   "source": [
    "df['Z_Score_Tenure']=stats.zscore(df['Tenure'])\n",
    "df[['Tenure','Z_Score_Tenure']].head"
   ]
  },
  {
   "cell_type": "code",
   "execution_count": 67,
   "id": "a2dea6a6",
   "metadata": {},
   "outputs": [
    {
     "data": {
      "text/plain": [
       "0"
      ]
     },
     "execution_count": 67,
     "metadata": {},
     "output_type": "execute_result"
    }
   ],
   "source": [
    "sum((df.Z_Score_Tenure < -3) | (df.Z_Score_Tenure > 3))"
   ]
  },
  {
   "cell_type": "code",
   "execution_count": 68,
   "id": "f5cc9f57",
   "metadata": {},
   "outputs": [
    {
     "data": {
      "image/png": "[encoded data removed]",
      "text/plain": [
       "<Figure size 432x288 with 1 Axes>"
      ]
     },
     "metadata": {
      "needs_background": "light"
     },
     "output_type": "display_data"
    }
   ],
   "source": [
    "plt.hist(df['Z_Score_Tenure'])\n",
    "plt.show()"
   ]
  },
  {
   "cell_type": "code",
   "execution_count": 69,
   "id": "c1b5a7ef",
   "metadata": {},
   "outputs": [
    {
     "data": {
      "image/png": "[encoded data removed]",
      "text/plain": [
       "<Figure size 432x288 with 1 Axes>"
      ]
     },
     "metadata": {
      "needs_background": "light"
     },
     "output_type": "display_data"
    }
   ],
   "source": [
    "c =sns.boxplot(x='Tenure', data=df)"
   ]
  },
  {
   "cell_type": "markdown",
   "id": "b3a98e00",
   "metadata": {},
   "source": [
    "#### Z-Score and Boxplot for Bandwidth_GB_Yea"
   ]
  },
  {
   "cell_type": "code",
   "execution_count": 70,
   "id": "fb953c15",
   "metadata": {},
   "outputs": [
    {
     "data": {
      "text/plain": [
       "<bound method NDFrame.head of       Bandwidth_GB_Year  Z_Score_Bandwidth_GB_Year\n",
       "0            904.536110                  -1.249722\n",
       "1            800.982766                  -1.297991\n",
       "2           2054.706961                  -0.713601\n",
       "3           2164.579412                  -0.662387\n",
       "4            271.493436                  -1.544798\n",
       "...                 ...                        ...\n",
       "9995        6511.253000                   1.363696\n",
       "9996        5695.952000                   0.983665\n",
       "9997        4159.306000                   0.267400\n",
       "9998        6468.457000                   1.343747\n",
       "9999        5857.586000                   1.059007\n",
       "\n",
       "[10000 rows x 2 columns]>"
      ]
     },
     "execution_count": 70,
     "metadata": {},
     "output_type": "execute_result"
    }
   ],
   "source": [
    "df['Z_Score_Bandwidth_GB_Year']=stats.zscore(df['Bandwidth_GB_Year'])\n",
    "df[['Bandwidth_GB_Year','Z_Score_Bandwidth_GB_Year']].head"
   ]
  },
  {
   "cell_type": "code",
   "execution_count": 71,
   "id": "151ca028",
   "metadata": {},
   "outputs": [
    {
     "data": {
      "image/png": "[encoded data removed]",
      "text/plain": [
       "<Figure size 432x288 with 1 Axes>"
      ]
     },
     "metadata": {
      "needs_background": "light"
     },
     "output_type": "display_data"
    }
   ],
   "source": [
    "plt.hist(df['Z_Score_Bandwidth_GB_Year'])\n",
    "plt.show()"
   ]
  },
  {
   "cell_type": "code",
   "execution_count": 72,
   "id": "d96504dd",
   "metadata": {},
   "outputs": [
    {
     "data": {
      "image/png": "[encoded data removed]",
      "text/plain": [
       "<Figure size 432x288 with 1 Axes>"
      ]
     },
     "metadata": {
      "needs_background": "light"
     },
     "output_type": "display_data"
    }
   ],
   "source": [
    "c =sns.boxplot(x='Bandwidth_GB_Year', data=df)"
   ]
  },
  {
   "cell_type": "markdown",
   "id": "9d6e2c5c",
   "metadata": {},
   "source": [
    "### Outliers treatment"
   ]
  },
  {
   "cell_type": "markdown",
   "id": "22cadf2e",
   "metadata": {},
   "source": [
    "#### Exclude Outliers in Outage_sec_perweek "
   ]
  },
  {
   "cell_type": "code",
   "execution_count": 73,
   "id": "d29b7196",
   "metadata": {},
   "outputs": [
    {
     "data": {
      "text/html": [
       "<div>\n",
       "<style scoped>\n",
       "    .dataframe tbody tr th:only-of-type {\n",
       "        vertical-align: middle;\n",
       "    }\n",
       "\n",
       "    .dataframe tbody tr th {\n",
       "        vertical-align: top;\n",
       "    }\n",
       "\n",
       "    .dataframe thead th {\n",
       "        text-align: right;\n",
       "    }\n",
       "</style>\n",
       "<table border=\"1\" class=\"dataframe\">\n",
       "  <thead>\n",
       "    <tr style=\"text-align: right;\">\n",
       "      <th></th>\n",
       "      <th>Unnamed: 0</th>\n",
       "      <th>CaseOrder</th>\n",
       "      <th>Customer_id</th>\n",
       "      <th>Interaction</th>\n",
       "      <th>City</th>\n",
       "      <th>State</th>\n",
       "      <th>County</th>\n",
       "      <th>Zip</th>\n",
       "      <th>Lat</th>\n",
       "      <th>Lng</th>\n",
       "      <th>...</th>\n",
       "      <th>item8</th>\n",
       "      <th>Z_Score_Children</th>\n",
       "      <th>Z_Score_Age</th>\n",
       "      <th>Z_Score_Income</th>\n",
       "      <th>Z_Score_Outage_sec_perweek</th>\n",
       "      <th>Z_Score_Email</th>\n",
       "      <th>Z_Score_Contacts</th>\n",
       "      <th>Z_Score_Yearly_equip_failure</th>\n",
       "      <th>Z_Score_Tenure</th>\n",
       "      <th>Z_Score_Bandwidth_GB_Year</th>\n",
       "    </tr>\n",
       "  </thead>\n",
       "  <tbody>\n",
       "    <tr>\n",
       "      <th>1904</th>\n",
       "      <td>1905</td>\n",
       "      <td>1905</td>\n",
       "      <td>I997253</td>\n",
       "      <td>fafc3cb0-9eb8-4455-8968-e68f70dff7e2</td>\n",
       "      <td>Merrimac</td>\n",
       "      <td>WI</td>\n",
       "      <td>Sauk</td>\n",
       "      <td>53561</td>\n",
       "      <td>43.39963</td>\n",
       "      <td>-89.64159</td>\n",
       "      <td>...</td>\n",
       "      <td>3</td>\n",
       "      <td>1.130655</td>\n",
       "      <td>0.000000</td>\n",
       "      <td>-0.032349</td>\n",
       "      <td>-1.800336</td>\n",
       "      <td>-1.657773</td>\n",
       "      <td>1.017588</td>\n",
       "      <td>-0.625864</td>\n",
       "      <td>-1.035532</td>\n",
       "      <td>-0.936844</td>\n",
       "    </tr>\n",
       "    <tr>\n",
       "      <th>1997</th>\n",
       "      <td>1998</td>\n",
       "      <td>1998</td>\n",
       "      <td>E582623</td>\n",
       "      <td>212475b8-76c0-4f65-a527-2e9776adaef2</td>\n",
       "      <td>Rocksprings</td>\n",
       "      <td>TX</td>\n",
       "      <td>Edwards</td>\n",
       "      <td>78880</td>\n",
       "      <td>29.97978</td>\n",
       "      <td>-100.28849</td>\n",
       "      <td>...</td>\n",
       "      <td>2</td>\n",
       "      <td>0.092166</td>\n",
       "      <td>-1.237393</td>\n",
       "      <td>1.050086</td>\n",
       "      <td>-1.678464</td>\n",
       "      <td>0.655706</td>\n",
       "      <td>1.017588</td>\n",
       "      <td>0.946658</td>\n",
       "      <td>-1.166818</td>\n",
       "      <td>-1.025757</td>\n",
       "    </tr>\n",
       "    <tr>\n",
       "      <th>3069</th>\n",
       "      <td>3070</td>\n",
       "      <td>3070</td>\n",
       "      <td>V877610</td>\n",
       "      <td>075760ea-9c4d-4294-b581-a1d6053437a5</td>\n",
       "      <td>Commerce</td>\n",
       "      <td>GA</td>\n",
       "      <td>Jackson</td>\n",
       "      <td>30529</td>\n",
       "      <td>34.21824</td>\n",
       "      <td>-83.48022</td>\n",
       "      <td>...</td>\n",
       "      <td>4</td>\n",
       "      <td>-0.946323</td>\n",
       "      <td>0.000000</td>\n",
       "      <td>0.500018</td>\n",
       "      <td>-1.659524</td>\n",
       "      <td>0.325209</td>\n",
       "      <td>-1.005852</td>\n",
       "      <td>-0.625864</td>\n",
       "      <td>-0.788740</td>\n",
       "      <td>-0.946931</td>\n",
       "    </tr>\n",
       "    <tr>\n",
       "      <th>3629</th>\n",
       "      <td>3630</td>\n",
       "      <td>3630</td>\n",
       "      <td>B167906</td>\n",
       "      <td>3d6987c2-c3ac-4358-af6c-d7ed3dcdfc84</td>\n",
       "      <td>Yauco</td>\n",
       "      <td>PR</td>\n",
       "      <td>Yauco</td>\n",
       "      <td>698</td>\n",
       "      <td>18.06728</td>\n",
       "      <td>-66.85273</td>\n",
       "      <td>...</td>\n",
       "      <td>4</td>\n",
       "      <td>0.092166</td>\n",
       "      <td>-1.126295</td>\n",
       "      <td>-0.431423</td>\n",
       "      <td>-1.651937</td>\n",
       "      <td>-0.996779</td>\n",
       "      <td>-1.005852</td>\n",
       "      <td>-0.625864</td>\n",
       "      <td>-1.126101</td>\n",
       "      <td>0.765715</td>\n",
       "    </tr>\n",
       "    <tr>\n",
       "      <th>4167</th>\n",
       "      <td>4168</td>\n",
       "      <td>4168</td>\n",
       "      <td>T491190</td>\n",
       "      <td>daef8dcf-dbf7-4f42-958e-d0ccc2f70803</td>\n",
       "      <td>Dallas</td>\n",
       "      <td>TX</td>\n",
       "      <td>Dallas</td>\n",
       "      <td>75215</td>\n",
       "      <td>32.75075</td>\n",
       "      <td>-96.75806</td>\n",
       "      <td>...</td>\n",
       "      <td>2</td>\n",
       "      <td>-0.427079</td>\n",
       "      <td>-1.237393</td>\n",
       "      <td>2.049796</td>\n",
       "      <td>-1.822134</td>\n",
       "      <td>-0.666282</td>\n",
       "      <td>-1.005852</td>\n",
       "      <td>-0.625864</td>\n",
       "      <td>-0.686265</td>\n",
       "      <td>-0.752319</td>\n",
       "    </tr>\n",
       "    <tr>\n",
       "      <th>4184</th>\n",
       "      <td>4185</td>\n",
       "      <td>4185</td>\n",
       "      <td>X342195</td>\n",
       "      <td>999b0b5d-dc39-4b0b-94da-6397f8e27286</td>\n",
       "      <td>Joint Base Mdl</td>\n",
       "      <td>NJ</td>\n",
       "      <td>Burlington</td>\n",
       "      <td>8640</td>\n",
       "      <td>40.00350</td>\n",
       "      <td>-74.58933</td>\n",
       "      <td>...</td>\n",
       "      <td>3</td>\n",
       "      <td>0.611410</td>\n",
       "      <td>-0.515257</td>\n",
       "      <td>-0.204845</td>\n",
       "      <td>-1.680346</td>\n",
       "      <td>-0.005288</td>\n",
       "      <td>1.017588</td>\n",
       "      <td>-0.625864</td>\n",
       "      <td>-1.163528</td>\n",
       "      <td>-1.263681</td>\n",
       "    </tr>\n",
       "    <tr>\n",
       "      <th>4427</th>\n",
       "      <td>4428</td>\n",
       "      <td>4428</td>\n",
       "      <td>V627981</td>\n",
       "      <td>aa81bf63-bd14-47b6-8137-700796f84a6f</td>\n",
       "      <td>El Prado</td>\n",
       "      <td>NM</td>\n",
       "      <td>Taos</td>\n",
       "      <td>87529</td>\n",
       "      <td>36.47006</td>\n",
       "      <td>-105.62270</td>\n",
       "      <td>...</td>\n",
       "      <td>4</td>\n",
       "      <td>-0.427079</td>\n",
       "      <td>0.484622</td>\n",
       "      <td>-1.433884</td>\n",
       "      <td>-1.786743</td>\n",
       "      <td>-0.666282</td>\n",
       "      <td>1.017588</td>\n",
       "      <td>-0.625864</td>\n",
       "      <td>-1.119294</td>\n",
       "      <td>-1.154099</td>\n",
       "    </tr>\n",
       "    <tr>\n",
       "      <th>6093</th>\n",
       "      <td>6094</td>\n",
       "      <td>6094</td>\n",
       "      <td>D115503</td>\n",
       "      <td>8db8e8dc-8afa-4ee1-b66d-03a09aa8356d</td>\n",
       "      <td>Putnam</td>\n",
       "      <td>OK</td>\n",
       "      <td>Dewey</td>\n",
       "      <td>73659</td>\n",
       "      <td>35.86958</td>\n",
       "      <td>-98.92300</td>\n",
       "      <td>...</td>\n",
       "      <td>5</td>\n",
       "      <td>1.130655</td>\n",
       "      <td>1.540051</td>\n",
       "      <td>-0.901972</td>\n",
       "      <td>-1.742217</td>\n",
       "      <td>-0.005288</td>\n",
       "      <td>0.005868</td>\n",
       "      <td>0.946658</td>\n",
       "      <td>0.504197</td>\n",
       "      <td>0.498311</td>\n",
       "    </tr>\n",
       "    <tr>\n",
       "      <th>6463</th>\n",
       "      <td>6464</td>\n",
       "      <td>6464</td>\n",
       "      <td>F943189</td>\n",
       "      <td>0ef28be3-fb5d-4d5b-84f8-9df9e6053345</td>\n",
       "      <td>Winger</td>\n",
       "      <td>MN</td>\n",
       "      <td>Polk</td>\n",
       "      <td>56592</td>\n",
       "      <td>47.53634</td>\n",
       "      <td>-96.00755</td>\n",
       "      <td>...</td>\n",
       "      <td>2</td>\n",
       "      <td>0.611410</td>\n",
       "      <td>1.928893</td>\n",
       "      <td>2.588901</td>\n",
       "      <td>-1.650770</td>\n",
       "      <td>2.308190</td>\n",
       "      <td>1.017588</td>\n",
       "      <td>-0.625864</td>\n",
       "      <td>0.557578</td>\n",
       "      <td>0.503491</td>\n",
       "    </tr>\n",
       "    <tr>\n",
       "      <th>6577</th>\n",
       "      <td>6578</td>\n",
       "      <td>6578</td>\n",
       "      <td>N725824</td>\n",
       "      <td>1ebe696b-a5e1-417e-877f-f1d37e5dedfe</td>\n",
       "      <td>Minneapolis</td>\n",
       "      <td>KS</td>\n",
       "      <td>Ottawa</td>\n",
       "      <td>67467</td>\n",
       "      <td>39.14259</td>\n",
       "      <td>-97.69275</td>\n",
       "      <td>...</td>\n",
       "      <td>2</td>\n",
       "      <td>0.092166</td>\n",
       "      <td>-0.570806</td>\n",
       "      <td>-0.944207</td>\n",
       "      <td>-1.705250</td>\n",
       "      <td>-0.666282</td>\n",
       "      <td>-1.005852</td>\n",
       "      <td>-0.625864</td>\n",
       "      <td>0.960261</td>\n",
       "      <td>0.889878</td>\n",
       "    </tr>\n",
       "    <tr>\n",
       "      <th>8194</th>\n",
       "      <td>8195</td>\n",
       "      <td>8195</td>\n",
       "      <td>H44622</td>\n",
       "      <td>599dca1d-f9ec-4d35-9160-39b1e45a5b9b</td>\n",
       "      <td>Sylvester</td>\n",
       "      <td>WV</td>\n",
       "      <td>Boone</td>\n",
       "      <td>25193</td>\n",
       "      <td>38.03466</td>\n",
       "      <td>-81.51738</td>\n",
       "      <td>...</td>\n",
       "      <td>3</td>\n",
       "      <td>1.649900</td>\n",
       "      <td>0.000000</td>\n",
       "      <td>-0.204845</td>\n",
       "      <td>-1.660689</td>\n",
       "      <td>-0.335785</td>\n",
       "      <td>0.005868</td>\n",
       "      <td>0.946658</td>\n",
       "      <td>1.094179</td>\n",
       "      <td>1.235700</td>\n",
       "    </tr>\n",
       "  </tbody>\n",
       "</table>\n",
       "<p>11 rows × 61 columns</p>\n",
       "</div>"
      ],
      "text/plain": [
       "      Unnamed: 0  CaseOrder Customer_id                           Interaction  \\\n",
       "1904        1905       1905     I997253  fafc3cb0-9eb8-4455-8968-e68f70dff7e2   \n",
       "1997        1998       1998     E582623  212475b8-76c0-4f65-a527-2e9776adaef2   \n",
       "3069        3070       3070     V877610  075760ea-9c4d-4294-b581-a1d6053437a5   \n",
       "3629        3630       3630     B167906  3d6987c2-c3ac-4358-af6c-d7ed3dcdfc84   \n",
       "4167        4168       4168     T491190  daef8dcf-dbf7-4f42-958e-d0ccc2f70803   \n",
       "4184        4185       4185     X342195  999b0b5d-dc39-4b0b-94da-6397f8e27286   \n",
       "4427        4428       4428     V627981  aa81bf63-bd14-47b6-8137-700796f84a6f   \n",
       "6093        6094       6094     D115503  8db8e8dc-8afa-4ee1-b66d-03a09aa8356d   \n",
       "6463        6464       6464     F943189  0ef28be3-fb5d-4d5b-84f8-9df9e6053345   \n",
       "6577        6578       6578     N725824  1ebe696b-a5e1-417e-877f-f1d37e5dedfe   \n",
       "8194        8195       8195      H44622  599dca1d-f9ec-4d35-9160-39b1e45a5b9b   \n",
       "\n",
       "                City State      County    Zip       Lat        Lng  ...  \\\n",
       "1904        Merrimac    WI        Sauk  53561  43.39963  -89.64159  ...   \n",
       "1997     Rocksprings    TX     Edwards  78880  29.97978 -100.28849  ...   \n",
       "3069        Commerce    GA     Jackson  30529  34.21824  -83.48022  ...   \n",
       "3629           Yauco    PR       Yauco    698  18.06728  -66.85273  ...   \n",
       "4167          Dallas    TX      Dallas  75215  32.75075  -96.75806  ...   \n",
       "4184  Joint Base Mdl    NJ  Burlington   8640  40.00350  -74.58933  ...   \n",
       "4427        El Prado    NM        Taos  87529  36.47006 -105.62270  ...   \n",
       "6093          Putnam    OK       Dewey  73659  35.86958  -98.92300  ...   \n",
       "6463          Winger    MN        Polk  56592  47.53634  -96.00755  ...   \n",
       "6577     Minneapolis    KS      Ottawa  67467  39.14259  -97.69275  ...   \n",
       "8194       Sylvester    WV       Boone  25193  38.03466  -81.51738  ...   \n",
       "\n",
       "      item8 Z_Score_Children Z_Score_Age Z_Score_Income  \\\n",
       "1904      3         1.130655    0.000000      -0.032349   \n",
       "1997      2         0.092166   -1.237393       1.050086   \n",
       "3069      4        -0.946323    0.000000       0.500018   \n",
       "3629      4         0.092166   -1.126295      -0.431423   \n",
       "4167      2        -0.427079   -1.237393       2.049796   \n",
       "4184      3         0.611410   -0.515257      -0.204845   \n",
       "4427      4        -0.427079    0.484622      -1.433884   \n",
       "6093      5         1.130655    1.540051      -0.901972   \n",
       "6463      2         0.611410    1.928893       2.588901   \n",
       "6577      2         0.092166   -0.570806      -0.944207   \n",
       "8194      3         1.649900    0.000000      -0.204845   \n",
       "\n",
       "      Z_Score_Outage_sec_perweek  Z_Score_Email Z_Score_Contacts  \\\n",
       "1904                   -1.800336      -1.657773         1.017588   \n",
       "1997                   -1.678464       0.655706         1.017588   \n",
       "3069                   -1.659524       0.325209        -1.005852   \n",
       "3629                   -1.651937      -0.996779        -1.005852   \n",
       "4167                   -1.822134      -0.666282        -1.005852   \n",
       "4184                   -1.680346      -0.005288         1.017588   \n",
       "4427                   -1.786743      -0.666282         1.017588   \n",
       "6093                   -1.742217      -0.005288         0.005868   \n",
       "6463                   -1.650770       2.308190         1.017588   \n",
       "6577                   -1.705250      -0.666282        -1.005852   \n",
       "8194                   -1.660689      -0.335785         0.005868   \n",
       "\n",
       "     Z_Score_Yearly_equip_failure  Z_Score_Tenure Z_Score_Bandwidth_GB_Year  \n",
       "1904                    -0.625864       -1.035532                 -0.936844  \n",
       "1997                     0.946658       -1.166818                 -1.025757  \n",
       "3069                    -0.625864       -0.788740                 -0.946931  \n",
       "3629                    -0.625864       -1.126101                  0.765715  \n",
       "4167                    -0.625864       -0.686265                 -0.752319  \n",
       "4184                    -0.625864       -1.163528                 -1.263681  \n",
       "4427                    -0.625864       -1.119294                 -1.154099  \n",
       "6093                     0.946658        0.504197                  0.498311  \n",
       "6463                    -0.625864        0.557578                  0.503491  \n",
       "6577                    -0.625864        0.960261                  0.889878  \n",
       "8194                     0.946658        1.094179                  1.235700  \n",
       "\n",
       "[11 rows x 61 columns]"
      ]
     },
     "execution_count": 73,
     "metadata": {},
     "output_type": "execute_result"
    }
   ],
   "source": [
    "df[df['Outage_sec_perweek']<0]"
   ]
  },
  {
   "cell_type": "code",
   "execution_count": 74,
   "id": "e416b83d",
   "metadata": {},
   "outputs": [],
   "source": [
    "df.drop(df[df['Outage_sec_perweek']<0].index, inplace = True)"
   ]
  },
  {
   "cell_type": "code",
   "execution_count": 75,
   "id": "763cf13a",
   "metadata": {},
   "outputs": [
    {
     "data": {
      "text/html": [
       "<div>\n",
       "<style scoped>\n",
       "    .dataframe tbody tr th:only-of-type {\n",
       "        vertical-align: middle;\n",
       "    }\n",
       "\n",
       "    .dataframe tbody tr th {\n",
       "        vertical-align: top;\n",
       "    }\n",
       "\n",
       "    .dataframe thead th {\n",
       "        text-align: right;\n",
       "    }\n",
       "</style>\n",
       "<table border=\"1\" class=\"dataframe\">\n",
       "  <thead>\n",
       "    <tr style=\"text-align: right;\">\n",
       "      <th></th>\n",
       "      <th>Unnamed: 0</th>\n",
       "      <th>CaseOrder</th>\n",
       "      <th>Customer_id</th>\n",
       "      <th>Interaction</th>\n",
       "      <th>City</th>\n",
       "      <th>State</th>\n",
       "      <th>County</th>\n",
       "      <th>Zip</th>\n",
       "      <th>Lat</th>\n",
       "      <th>Lng</th>\n",
       "      <th>...</th>\n",
       "      <th>item8</th>\n",
       "      <th>Z_Score_Children</th>\n",
       "      <th>Z_Score_Age</th>\n",
       "      <th>Z_Score_Income</th>\n",
       "      <th>Z_Score_Outage_sec_perweek</th>\n",
       "      <th>Z_Score_Email</th>\n",
       "      <th>Z_Score_Contacts</th>\n",
       "      <th>Z_Score_Yearly_equip_failure</th>\n",
       "      <th>Z_Score_Tenure</th>\n",
       "      <th>Z_Score_Bandwidth_GB_Year</th>\n",
       "    </tr>\n",
       "  </thead>\n",
       "  <tbody>\n",
       "  </tbody>\n",
       "</table>\n",
       "<p>0 rows × 61 columns</p>\n",
       "</div>"
      ],
      "text/plain": [
       "Empty DataFrame\n",
       "Columns: [Unnamed: 0, CaseOrder, Customer_id, Interaction, City, State, County, Zip, Lat, Lng, Population, Area, Timezone, Job, Children, Age, Education, Employment, Income, Marital, Gender, Churn, Outage_sec_perweek, Email, Contacts, Yearly_equip_failure, Techie, Contract, Port_modem, Tablet, InternetService, Phone, Multiple, OnlineSecurity, OnlineBackup, DeviceProtection, TechSupport, StreamingTV, StreamingMovies, PaperlessBilling, PaymentMethod, Tenure, MonthlyCharge, Bandwidth_GB_Year, item1, item2, item3, item4, item5, item6, item7, item8, Z_Score_Children, Z_Score_Age, Z_Score_Income, Z_Score_Outage_sec_perweek, Z_Score_Email, Z_Score_Contacts, Z_Score_Yearly_equip_failure, Z_Score_Tenure, Z_Score_Bandwidth_GB_Year]\n",
       "Index: []\n",
       "\n",
       "[0 rows x 61 columns]"
      ]
     },
     "execution_count": 75,
     "metadata": {},
     "output_type": "execute_result"
    }
   ],
   "source": [
    "df[df['Outage_sec_perweek']<0]"
   ]
  },
  {
   "cell_type": "code",
   "execution_count": 76,
   "id": "1bc832d2",
   "metadata": {},
   "outputs": [],
   "source": [
    "#create own dataframe for Outage_perweek outliers for separate analysis\n",
    "df_outliers_outage = df.loc[df['Z_Score_Outage_sec_perweek'] > 3]"
   ]
  },
  {
   "cell_type": "code",
   "execution_count": 77,
   "id": "2b60b246",
   "metadata": {},
   "outputs": [
    {
     "data": {
      "text/html": [
       "<div>\n",
       "<style scoped>\n",
       "    .dataframe tbody tr th:only-of-type {\n",
       "        vertical-align: middle;\n",
       "    }\n",
       "\n",
       "    .dataframe tbody tr th {\n",
       "        vertical-align: top;\n",
       "    }\n",
       "\n",
       "    .dataframe thead th {\n",
       "        text-align: right;\n",
       "    }\n",
       "</style>\n",
       "<table border=\"1\" class=\"dataframe\">\n",
       "  <thead>\n",
       "    <tr style=\"text-align: right;\">\n",
       "      <th></th>\n",
       "      <th>Unnamed: 0</th>\n",
       "      <th>CaseOrder</th>\n",
       "      <th>Customer_id</th>\n",
       "      <th>Interaction</th>\n",
       "      <th>City</th>\n",
       "      <th>State</th>\n",
       "      <th>County</th>\n",
       "      <th>Zip</th>\n",
       "      <th>Lat</th>\n",
       "      <th>Lng</th>\n",
       "      <th>...</th>\n",
       "      <th>item8</th>\n",
       "      <th>Z_Score_Children</th>\n",
       "      <th>Z_Score_Age</th>\n",
       "      <th>Z_Score_Income</th>\n",
       "      <th>Z_Score_Outage_sec_perweek</th>\n",
       "      <th>Z_Score_Email</th>\n",
       "      <th>Z_Score_Contacts</th>\n",
       "      <th>Z_Score_Yearly_equip_failure</th>\n",
       "      <th>Z_Score_Tenure</th>\n",
       "      <th>Z_Score_Bandwidth_GB_Year</th>\n",
       "    </tr>\n",
       "  </thead>\n",
       "  <tbody>\n",
       "    <tr>\n",
       "      <th>0</th>\n",
       "      <td>1</td>\n",
       "      <td>1</td>\n",
       "      <td>K409198</td>\n",
       "      <td>aa90260b-4141-4a24-8e36-b04ce1f4f77b</td>\n",
       "      <td>Point Baker</td>\n",
       "      <td>AK</td>\n",
       "      <td>Prince of Wales-Hyder</td>\n",
       "      <td>99927</td>\n",
       "      <td>56.25100</td>\n",
       "      <td>-133.37571</td>\n",
       "      <td>...</td>\n",
       "      <td>4</td>\n",
       "      <td>-0.427079</td>\n",
       "      <td>0.817916</td>\n",
       "      <td>-0.391731</td>\n",
       "      <td>-0.637726</td>\n",
       "      <td>-0.666282</td>\n",
       "      <td>-1.005852</td>\n",
       "      <td>0.946658</td>\n",
       "      <td>-1.144836</td>\n",
       "      <td>-1.249722</td>\n",
       "    </tr>\n",
       "    <tr>\n",
       "      <th>1</th>\n",
       "      <td>2</td>\n",
       "      <td>2</td>\n",
       "      <td>S120509</td>\n",
       "      <td>fb76459f-c047-4a9d-8af9-e0f7d4ac2524</td>\n",
       "      <td>West Branch</td>\n",
       "      <td>MI</td>\n",
       "      <td>Ogemaw</td>\n",
       "      <td>48661</td>\n",
       "      <td>44.32893</td>\n",
       "      <td>-84.24080</td>\n",
       "      <td>...</td>\n",
       "      <td>4</td>\n",
       "      <td>-0.427079</td>\n",
       "      <td>-1.459588</td>\n",
       "      <td>-0.668828</td>\n",
       "      <td>0.079935</td>\n",
       "      <td>-0.005288</td>\n",
       "      <td>-1.005852</td>\n",
       "      <td>0.946658</td>\n",
       "      <td>-1.362533</td>\n",
       "      <td>-1.297991</td>\n",
       "    </tr>\n",
       "    <tr>\n",
       "      <th>2</th>\n",
       "      <td>3</td>\n",
       "      <td>3</td>\n",
       "      <td>K191035</td>\n",
       "      <td>344d114c-3736-4be5-98f7-c72c281e2d35</td>\n",
       "      <td>Yamhill</td>\n",
       "      <td>OR</td>\n",
       "      <td>Yamhill</td>\n",
       "      <td>97148</td>\n",
       "      <td>45.35589</td>\n",
       "      <td>-123.24657</td>\n",
       "      <td>...</td>\n",
       "      <td>3</td>\n",
       "      <td>1.130655</td>\n",
       "      <td>-0.181964</td>\n",
       "      <td>-0.204845</td>\n",
       "      <td>-0.171849</td>\n",
       "      <td>-0.996779</td>\n",
       "      <td>-1.005852</td>\n",
       "      <td>0.946658</td>\n",
       "      <td>-0.798974</td>\n",
       "      <td>-0.713601</td>\n",
       "    </tr>\n",
       "    <tr>\n",
       "      <th>3</th>\n",
       "      <td>4</td>\n",
       "      <td>4</td>\n",
       "      <td>D90850</td>\n",
       "      <td>abfa2b40-2d43-4994-b15a-989b8c79e311</td>\n",
       "      <td>Del Mar</td>\n",
       "      <td>CA</td>\n",
       "      <td>San Diego</td>\n",
       "      <td>92014</td>\n",
       "      <td>32.96687</td>\n",
       "      <td>-117.24798</td>\n",
       "      <td>...</td>\n",
       "      <td>3</td>\n",
       "      <td>-0.427079</td>\n",
       "      <td>-0.293062</td>\n",
       "      <td>-0.781148</td>\n",
       "      <td>0.534225</td>\n",
       "      <td>0.986203</td>\n",
       "      <td>1.017588</td>\n",
       "      <td>-0.625864</td>\n",
       "      <td>-0.747508</td>\n",
       "      <td>-0.662387</td>\n",
       "    </tr>\n",
       "    <tr>\n",
       "      <th>4</th>\n",
       "      <td>5</td>\n",
       "      <td>5</td>\n",
       "      <td>K662701</td>\n",
       "      <td>68a861fd-0d20-4e51-a587-8a90407ee574</td>\n",
       "      <td>Needville</td>\n",
       "      <td>TX</td>\n",
       "      <td>Fort Bend</td>\n",
       "      <td>77461</td>\n",
       "      <td>29.38012</td>\n",
       "      <td>-95.80673</td>\n",
       "      <td>...</td>\n",
       "      <td>5</td>\n",
       "      <td>-0.946323</td>\n",
       "      <td>1.651149</td>\n",
       "      <td>0.073471</td>\n",
       "      <td>-0.354795</td>\n",
       "      <td>1.316700</td>\n",
       "      <td>1.017588</td>\n",
       "      <td>0.946658</td>\n",
       "      <td>-1.342678</td>\n",
       "      <td>-1.544798</td>\n",
       "    </tr>\n",
       "    <tr>\n",
       "      <th>...</th>\n",
       "      <td>...</td>\n",
       "      <td>...</td>\n",
       "      <td>...</td>\n",
       "      <td>...</td>\n",
       "      <td>...</td>\n",
       "      <td>...</td>\n",
       "      <td>...</td>\n",
       "      <td>...</td>\n",
       "      <td>...</td>\n",
       "      <td>...</td>\n",
       "      <td>...</td>\n",
       "      <td>...</td>\n",
       "      <td>...</td>\n",
       "      <td>...</td>\n",
       "      <td>...</td>\n",
       "      <td>...</td>\n",
       "      <td>...</td>\n",
       "      <td>...</td>\n",
       "      <td>...</td>\n",
       "      <td>...</td>\n",
       "      <td>...</td>\n",
       "    </tr>\n",
       "    <tr>\n",
       "      <th>9995</th>\n",
       "      <td>9996</td>\n",
       "      <td>9996</td>\n",
       "      <td>M324793</td>\n",
       "      <td>45deb5a2-ae04-4518-bf0b-c82db8dbe4a4</td>\n",
       "      <td>Mount Holly</td>\n",
       "      <td>VT</td>\n",
       "      <td>Rutland</td>\n",
       "      <td>5758</td>\n",
       "      <td>43.43391</td>\n",
       "      <td>-72.78734</td>\n",
       "      <td>...</td>\n",
       "      <td>3</td>\n",
       "      <td>0.611410</td>\n",
       "      <td>0.000000</td>\n",
       "      <td>0.705863</td>\n",
       "      <td>-0.311372</td>\n",
       "      <td>-0.005288</td>\n",
       "      <td>1.017588</td>\n",
       "      <td>-0.625864</td>\n",
       "      <td>1.225673</td>\n",
       "      <td>1.363696</td>\n",
       "    </tr>\n",
       "    <tr>\n",
       "      <th>9996</th>\n",
       "      <td>9997</td>\n",
       "      <td>9997</td>\n",
       "      <td>D861732</td>\n",
       "      <td>6e96b921-0c09-4993-bbda-a1ac6411061a</td>\n",
       "      <td>Clarksville</td>\n",
       "      <td>TN</td>\n",
       "      <td>Montgomery</td>\n",
       "      <td>37042</td>\n",
       "      <td>36.56907</td>\n",
       "      <td>-87.41694</td>\n",
       "      <td>...</td>\n",
       "      <td>5</td>\n",
       "      <td>1.130655</td>\n",
       "      <td>-0.293062</td>\n",
       "      <td>-0.204845</td>\n",
       "      <td>-0.474994</td>\n",
       "      <td>0.986203</td>\n",
       "      <td>1.017588</td>\n",
       "      <td>-0.625864</td>\n",
       "      <td>0.949374</td>\n",
       "      <td>0.983665</td>\n",
       "    </tr>\n",
       "    <tr>\n",
       "      <th>9997</th>\n",
       "      <td>9998</td>\n",
       "      <td>9998</td>\n",
       "      <td>I243405</td>\n",
       "      <td>e8307ddf-9a01-4fff-bc59-4742e03fd24f</td>\n",
       "      <td>Mobeetie</td>\n",
       "      <td>TX</td>\n",
       "      <td>Wheeler</td>\n",
       "      <td>79061</td>\n",
       "      <td>35.52039</td>\n",
       "      <td>-100.44180</td>\n",
       "      <td>...</td>\n",
       "      <td>5</td>\n",
       "      <td>-0.427079</td>\n",
       "      <td>0.000000</td>\n",
       "      <td>-0.204845</td>\n",
       "      <td>-0.941598</td>\n",
       "      <td>-0.666282</td>\n",
       "      <td>-1.005852</td>\n",
       "      <td>-0.625864</td>\n",
       "      <td>0.733545</td>\n",
       "      <td>0.267400</td>\n",
       "    </tr>\n",
       "    <tr>\n",
       "      <th>9998</th>\n",
       "      <td>9999</td>\n",
       "      <td>9999</td>\n",
       "      <td>I641617</td>\n",
       "      <td>3775ccfc-0052-4107-81ae-9657f81ecdf3</td>\n",
       "      <td>Carrollton</td>\n",
       "      <td>GA</td>\n",
       "      <td>Carroll</td>\n",
       "      <td>30117</td>\n",
       "      <td>33.58016</td>\n",
       "      <td>-85.13241</td>\n",
       "      <td>...</td>\n",
       "      <td>4</td>\n",
       "      <td>-0.427079</td>\n",
       "      <td>-0.793002</td>\n",
       "      <td>-0.872379</td>\n",
       "      <td>0.088748</td>\n",
       "      <td>0.655706</td>\n",
       "      <td>0.005868</td>\n",
       "      <td>-0.625864</td>\n",
       "      <td>1.337573</td>\n",
       "      <td>1.343747</td>\n",
       "    </tr>\n",
       "    <tr>\n",
       "      <th>9999</th>\n",
       "      <td>10000</td>\n",
       "      <td>10000</td>\n",
       "      <td>T38070</td>\n",
       "      <td>9de5fb6e-bd33-4995-aec8-f01d0172a499</td>\n",
       "      <td>Clarkesville</td>\n",
       "      <td>GA</td>\n",
       "      <td>Habersham</td>\n",
       "      <td>30523</td>\n",
       "      <td>34.70783</td>\n",
       "      <td>-83.53648</td>\n",
       "      <td>...</td>\n",
       "      <td>1</td>\n",
       "      <td>-0.427079</td>\n",
       "      <td>-1.404039</td>\n",
       "      <td>-0.204845</td>\n",
       "      <td>0.169211</td>\n",
       "      <td>1.647197</td>\n",
       "      <td>0.005868</td>\n",
       "      <td>-0.625864</td>\n",
       "      <td>1.038574</td>\n",
       "      <td>1.059007</td>\n",
       "    </tr>\n",
       "  </tbody>\n",
       "</table>\n",
       "<p>9498 rows × 61 columns</p>\n",
       "</div>"
      ],
      "text/plain": [
       "      Unnamed: 0  CaseOrder Customer_id                           Interaction  \\\n",
       "0              1          1     K409198  aa90260b-4141-4a24-8e36-b04ce1f4f77b   \n",
       "1              2          2     S120509  fb76459f-c047-4a9d-8af9-e0f7d4ac2524   \n",
       "2              3          3     K191035  344d114c-3736-4be5-98f7-c72c281e2d35   \n",
       "3              4          4      D90850  abfa2b40-2d43-4994-b15a-989b8c79e311   \n",
       "4              5          5     K662701  68a861fd-0d20-4e51-a587-8a90407ee574   \n",
       "...          ...        ...         ...                                   ...   \n",
       "9995        9996       9996     M324793  45deb5a2-ae04-4518-bf0b-c82db8dbe4a4   \n",
       "9996        9997       9997     D861732  6e96b921-0c09-4993-bbda-a1ac6411061a   \n",
       "9997        9998       9998     I243405  e8307ddf-9a01-4fff-bc59-4742e03fd24f   \n",
       "9998        9999       9999     I641617  3775ccfc-0052-4107-81ae-9657f81ecdf3   \n",
       "9999       10000      10000      T38070  9de5fb6e-bd33-4995-aec8-f01d0172a499   \n",
       "\n",
       "              City State                 County    Zip       Lat        Lng  \\\n",
       "0      Point Baker    AK  Prince of Wales-Hyder  99927  56.25100 -133.37571   \n",
       "1      West Branch    MI                 Ogemaw  48661  44.32893  -84.24080   \n",
       "2          Yamhill    OR                Yamhill  97148  45.35589 -123.24657   \n",
       "3          Del Mar    CA              San Diego  92014  32.96687 -117.24798   \n",
       "4        Needville    TX              Fort Bend  77461  29.38012  -95.80673   \n",
       "...            ...   ...                    ...    ...       ...        ...   \n",
       "9995   Mount Holly    VT                Rutland   5758  43.43391  -72.78734   \n",
       "9996   Clarksville    TN             Montgomery  37042  36.56907  -87.41694   \n",
       "9997      Mobeetie    TX                Wheeler  79061  35.52039 -100.44180   \n",
       "9998    Carrollton    GA                Carroll  30117  33.58016  -85.13241   \n",
       "9999  Clarkesville    GA              Habersham  30523  34.70783  -83.53648   \n",
       "\n",
       "      ...  item8 Z_Score_Children Z_Score_Age Z_Score_Income  \\\n",
       "0     ...      4        -0.427079    0.817916      -0.391731   \n",
       "1     ...      4        -0.427079   -1.459588      -0.668828   \n",
       "2     ...      3         1.130655   -0.181964      -0.204845   \n",
       "3     ...      3        -0.427079   -0.293062      -0.781148   \n",
       "4     ...      5        -0.946323    1.651149       0.073471   \n",
       "...   ...    ...              ...         ...            ...   \n",
       "9995  ...      3         0.611410    0.000000       0.705863   \n",
       "9996  ...      5         1.130655   -0.293062      -0.204845   \n",
       "9997  ...      5        -0.427079    0.000000      -0.204845   \n",
       "9998  ...      4        -0.427079   -0.793002      -0.872379   \n",
       "9999  ...      1        -0.427079   -1.404039      -0.204845   \n",
       "\n",
       "      Z_Score_Outage_sec_perweek  Z_Score_Email Z_Score_Contacts  \\\n",
       "0                      -0.637726      -0.666282        -1.005852   \n",
       "1                       0.079935      -0.005288        -1.005852   \n",
       "2                      -0.171849      -0.996779        -1.005852   \n",
       "3                       0.534225       0.986203         1.017588   \n",
       "4                      -0.354795       1.316700         1.017588   \n",
       "...                          ...            ...              ...   \n",
       "9995                   -0.311372      -0.005288         1.017588   \n",
       "9996                   -0.474994       0.986203         1.017588   \n",
       "9997                   -0.941598      -0.666282        -1.005852   \n",
       "9998                    0.088748       0.655706         0.005868   \n",
       "9999                    0.169211       1.647197         0.005868   \n",
       "\n",
       "     Z_Score_Yearly_equip_failure  Z_Score_Tenure Z_Score_Bandwidth_GB_Year  \n",
       "0                        0.946658       -1.144836                 -1.249722  \n",
       "1                        0.946658       -1.362533                 -1.297991  \n",
       "2                        0.946658       -0.798974                 -0.713601  \n",
       "3                       -0.625864       -0.747508                 -0.662387  \n",
       "4                        0.946658       -1.342678                 -1.544798  \n",
       "...                           ...             ...                       ...  \n",
       "9995                    -0.625864        1.225673                  1.363696  \n",
       "9996                    -0.625864        0.949374                  0.983665  \n",
       "9997                    -0.625864        0.733545                  0.267400  \n",
       "9998                    -0.625864        1.337573                  1.343747  \n",
       "9999                    -0.625864        1.038574                  1.059007  \n",
       "\n",
       "[9498 rows x 61 columns]"
      ]
     },
     "execution_count": 77,
     "metadata": {},
     "output_type": "execute_result"
    }
   ],
   "source": [
    "#remove outliers from original dataframe\n",
    "df = df.drop(df_outliers_outage.index)\n",
    "df"
   ]
  },
  {
   "cell_type": "code",
   "execution_count": 78,
   "id": "83bfebff",
   "metadata": {},
   "outputs": [
    {
     "data": {
      "text/plain": [
       "0"
      ]
     },
     "execution_count": 78,
     "metadata": {},
     "output_type": "execute_result"
    }
   ],
   "source": [
    "#verify outliers have been removed\n",
    "sum(df.Z_Score_Outage_sec_perweek > 3)"
   ]
  },
  {
   "cell_type": "markdown",
   "id": "bcad7882",
   "metadata": {},
   "source": [
    "#### Outliers replaced with median values"
   ]
  },
  {
   "cell_type": "markdown",
   "id": "bd53d289",
   "metadata": {},
   "source": [
    "##### Email"
   ]
  },
  {
   "cell_type": "code",
   "execution_count": 79,
   "id": "00a0b2f7",
   "metadata": {},
   "outputs": [],
   "source": [
    "a = df['Z_Score_Email']\n",
    "df['Email'] = np.where(a < -3, df['Email'].median(), df['Email'])\n",
    "df['Email'] = np.where(a > 3, df['Email'].median(), df['Email'])\n",
    "df['Z_Score_Email']=stats.zscore(df['Email'])"
   ]
  },
  {
   "cell_type": "code",
   "execution_count": 80,
   "id": "9d18eefd",
   "metadata": {},
   "outputs": [
    {
     "data": {
      "text/plain": [
       "0"
      ]
     },
     "execution_count": 80,
     "metadata": {},
     "output_type": "execute_result"
    }
   ],
   "source": [
    "sum((df.Z_Score_Email < -3) | (df.Z_Score_Email > 3))"
   ]
  },
  {
   "cell_type": "code",
   "execution_count": 81,
   "id": "db56cff1",
   "metadata": {},
   "outputs": [
    {
     "data": {
      "image/png": "[encoded data removed]",
      "text/plain": [
       "<Figure size 432x288 with 1 Axes>"
      ]
     },
     "metadata": {
      "needs_background": "light"
     },
     "output_type": "display_data"
    }
   ],
   "source": [
    "plt.hist(df['Z_Score_Email'])\n",
    "plt.show()"
   ]
  },
  {
   "cell_type": "code",
   "execution_count": 82,
   "id": "8fe863da",
   "metadata": {},
   "outputs": [
    {
     "data": {
      "image/png": "[encoded data removed]",
      "text/plain": [
       "<Figure size 432x288 with 1 Axes>"
      ]
     },
     "metadata": {
      "needs_background": "light"
     },
     "output_type": "display_data"
    }
   ],
   "source": [
    "c =sns.boxplot(x='Email', data=df)"
   ]
  },
  {
   "cell_type": "markdown",
   "id": "489116cc",
   "metadata": {},
   "source": [
    "##### MonthlyCharge"
   ]
  },
  {
   "cell_type": "code",
   "execution_count": 83,
   "id": "6c9a406c",
   "metadata": {},
   "outputs": [
    {
     "data": {
      "text/plain": [
       "<bound method NDFrame.head of       MonthlyCharge  Z_Score_MonthlyCharge\n",
       "0        171.449762              -0.032210\n",
       "1        242.948015               1.629685\n",
       "2        159.440398              -0.311354\n",
       "3        120.249493              -1.222302\n",
       "4        150.761216              -0.513092\n",
       "...             ...                    ...\n",
       "9995     159.828800              -0.302326\n",
       "9996     208.856400               0.837265\n",
       "9997     168.220900              -0.107261\n",
       "9998     252.628600               1.854700\n",
       "9999     218.371000               1.058421\n",
       "\n",
       "[9498 rows x 2 columns]>"
      ]
     },
     "execution_count": 83,
     "metadata": {},
     "output_type": "execute_result"
    }
   ],
   "source": [
    "df['Z_Score_MonthlyCharge']=stats.zscore(df['MonthlyCharge'])\n",
    "df[['MonthlyCharge','Z_Score_MonthlyCharge']].head"
   ]
  },
  {
   "cell_type": "code",
   "execution_count": 84,
   "id": "f4cc763f",
   "metadata": {},
   "outputs": [
    {
     "data": {
      "text/plain": [
       "0"
      ]
     },
     "execution_count": 84,
     "metadata": {},
     "output_type": "execute_result"
    }
   ],
   "source": [
    "sum((df.Z_Score_MonthlyCharge < -3) | (df.Z_Score_MonthlyCharge > 3))"
   ]
  },
  {
   "cell_type": "code",
   "execution_count": 85,
   "id": "1ae4c2e5",
   "metadata": {},
   "outputs": [
    {
     "data": {
      "image/png": "[encoded data removed]",
      "text/plain": [
       "<Figure size 432x288 with 1 Axes>"
      ]
     },
     "metadata": {
      "needs_background": "light"
     },
     "output_type": "display_data"
    }
   ],
   "source": [
    "plt.hist(df['Z_Score_MonthlyCharge'])\n",
    "plt.show()"
   ]
  },
  {
   "cell_type": "markdown",
   "id": "2a26495c",
   "metadata": {},
   "source": [
    "MonthlyCharge outlier treatment"
   ]
  },
  {
   "cell_type": "code",
   "execution_count": 86,
   "id": "adb9fcf6",
   "metadata": {},
   "outputs": [
    {
     "data": {
      "text/html": [
       "<div>\n",
       "<style scoped>\n",
       "    .dataframe tbody tr th:only-of-type {\n",
       "        vertical-align: middle;\n",
       "    }\n",
       "\n",
       "    .dataframe tbody tr th {\n",
       "        vertical-align: top;\n",
       "    }\n",
       "\n",
       "    .dataframe thead th {\n",
       "        text-align: right;\n",
       "    }\n",
       "</style>\n",
       "<table border=\"1\" class=\"dataframe\">\n",
       "  <thead>\n",
       "    <tr style=\"text-align: right;\">\n",
       "      <th></th>\n",
       "      <th>Unnamed: 0</th>\n",
       "      <th>CaseOrder</th>\n",
       "      <th>Customer_id</th>\n",
       "      <th>Interaction</th>\n",
       "      <th>City</th>\n",
       "      <th>State</th>\n",
       "      <th>County</th>\n",
       "      <th>Zip</th>\n",
       "      <th>Lat</th>\n",
       "      <th>Lng</th>\n",
       "      <th>...</th>\n",
       "      <th>Z_Score_Children</th>\n",
       "      <th>Z_Score_Age</th>\n",
       "      <th>Z_Score_Income</th>\n",
       "      <th>Z_Score_Outage_sec_perweek</th>\n",
       "      <th>Z_Score_Email</th>\n",
       "      <th>Z_Score_Contacts</th>\n",
       "      <th>Z_Score_Yearly_equip_failure</th>\n",
       "      <th>Z_Score_Tenure</th>\n",
       "      <th>Z_Score_Bandwidth_GB_Year</th>\n",
       "      <th>Z_Score_MonthlyCharge</th>\n",
       "    </tr>\n",
       "  </thead>\n",
       "  <tbody>\n",
       "  </tbody>\n",
       "</table>\n",
       "<p>0 rows × 62 columns</p>\n",
       "</div>"
      ],
      "text/plain": [
       "Empty DataFrame\n",
       "Columns: [Unnamed: 0, CaseOrder, Customer_id, Interaction, City, State, County, Zip, Lat, Lng, Population, Area, Timezone, Job, Children, Age, Education, Employment, Income, Marital, Gender, Churn, Outage_sec_perweek, Email, Contacts, Yearly_equip_failure, Techie, Contract, Port_modem, Tablet, InternetService, Phone, Multiple, OnlineSecurity, OnlineBackup, DeviceProtection, TechSupport, StreamingTV, StreamingMovies, PaperlessBilling, PaymentMethod, Tenure, MonthlyCharge, Bandwidth_GB_Year, item1, item2, item3, item4, item5, item6, item7, item8, Z_Score_Children, Z_Score_Age, Z_Score_Income, Z_Score_Outage_sec_perweek, Z_Score_Email, Z_Score_Contacts, Z_Score_Yearly_equip_failure, Z_Score_Tenure, Z_Score_Bandwidth_GB_Year, Z_Score_MonthlyCharge]\n",
       "Index: []\n",
       "\n",
       "[0 rows x 62 columns]"
      ]
     },
     "execution_count": 86,
     "metadata": {},
     "output_type": "execute_result"
    }
   ],
   "source": [
    "df[df.Z_Score_MonthlyCharge >3]"
   ]
  },
  {
   "cell_type": "code",
   "execution_count": 87,
   "id": "60de15e2",
   "metadata": {},
   "outputs": [
    {
     "data": {
      "text/plain": [
       "168.36315000000002"
      ]
     },
     "execution_count": 87,
     "metadata": {},
     "output_type": "execute_result"
    }
   ],
   "source": [
    "df['MonthlyCharge'].median()"
   ]
  },
  {
   "cell_type": "code",
   "execution_count": 88,
   "id": "e7c1df02",
   "metadata": {},
   "outputs": [],
   "source": [
    "df['MonthlyCharge'] = np.where(df['MonthlyCharge'] > 3, df['MonthlyCharge'].median(), df['MonthlyCharge'])"
   ]
  },
  {
   "cell_type": "code",
   "execution_count": 89,
   "id": "18679edc",
   "metadata": {},
   "outputs": [
    {
     "data": {
      "text/plain": [
       "0"
      ]
     },
     "execution_count": 89,
     "metadata": {},
     "output_type": "execute_result"
    }
   ],
   "source": [
    "sum(df.Z_Score_MonthlyCharge > 3)"
   ]
  },
  {
   "cell_type": "code",
   "execution_count": 90,
   "id": "39125294",
   "metadata": {
    "scrolled": true
   },
   "outputs": [
    {
     "data": {
      "text/html": [
       "<div>\n",
       "<style scoped>\n",
       "    .dataframe tbody tr th:only-of-type {\n",
       "        vertical-align: middle;\n",
       "    }\n",
       "\n",
       "    .dataframe tbody tr th {\n",
       "        vertical-align: top;\n",
       "    }\n",
       "\n",
       "    .dataframe thead th {\n",
       "        text-align: right;\n",
       "    }\n",
       "</style>\n",
       "<table border=\"1\" class=\"dataframe\">\n",
       "  <thead>\n",
       "    <tr style=\"text-align: right;\">\n",
       "      <th></th>\n",
       "      <th>Children</th>\n",
       "      <th>Age</th>\n",
       "      <th>Income</th>\n",
       "      <th>Outage_sec_perweek</th>\n",
       "      <th>Yearly_equip_failure</th>\n",
       "      <th>Tenure</th>\n",
       "      <th>MonthlyCharge</th>\n",
       "      <th>Bandwidth_GB_Year</th>\n",
       "    </tr>\n",
       "  </thead>\n",
       "  <tbody>\n",
       "    <tr>\n",
       "      <th>count</th>\n",
       "      <td>9498.000000</td>\n",
       "      <td>9498.000000</td>\n",
       "      <td>9498.000000</td>\n",
       "      <td>9498.000000</td>\n",
       "      <td>9498.000000</td>\n",
       "      <td>9498.000000</td>\n",
       "      <td>9.498000e+03</td>\n",
       "      <td>9498.000000</td>\n",
       "    </tr>\n",
       "    <tr>\n",
       "      <th>mean</th>\n",
       "      <td>1.820278</td>\n",
       "      <td>53.347268</td>\n",
       "      <td>38183.758433</td>\n",
       "      <td>10.041186</td>\n",
       "      <td>0.395452</td>\n",
       "      <td>36.428779</td>\n",
       "      <td>1.683632e+02</td>\n",
       "      <td>3583.153956</td>\n",
       "    </tr>\n",
       "    <tr>\n",
       "      <th>std</th>\n",
       "      <td>1.928112</td>\n",
       "      <td>18.038581</td>\n",
       "      <td>24622.200370</td>\n",
       "      <td>3.172513</td>\n",
       "      <td>0.633776</td>\n",
       "      <td>25.916979</td>\n",
       "      <td>3.115183e-11</td>\n",
       "      <td>2146.221448</td>\n",
       "    </tr>\n",
       "    <tr>\n",
       "      <th>min</th>\n",
       "      <td>0.000000</td>\n",
       "      <td>18.000000</td>\n",
       "      <td>740.660000</td>\n",
       "      <td>0.113821</td>\n",
       "      <td>0.000000</td>\n",
       "      <td>1.000259</td>\n",
       "      <td>1.683632e+02</td>\n",
       "      <td>155.506715</td>\n",
       "    </tr>\n",
       "    <tr>\n",
       "      <th>25%</th>\n",
       "      <td>1.000000</td>\n",
       "      <td>41.000000</td>\n",
       "      <td>23704.880000</td>\n",
       "      <td>7.934760</td>\n",
       "      <td>0.000000</td>\n",
       "      <td>8.691499</td>\n",
       "      <td>1.683632e+02</td>\n",
       "      <td>1309.752701</td>\n",
       "    </tr>\n",
       "    <tr>\n",
       "      <th>50%</th>\n",
       "      <td>1.000000</td>\n",
       "      <td>53.275748</td>\n",
       "      <td>33186.785000</td>\n",
       "      <td>9.995043</td>\n",
       "      <td>0.000000</td>\n",
       "      <td>47.362925</td>\n",
       "      <td>1.683632e+02</td>\n",
       "      <td>4468.890000</td>\n",
       "    </tr>\n",
       "    <tr>\n",
       "      <th>75%</th>\n",
       "      <td>3.000000</td>\n",
       "      <td>66.000000</td>\n",
       "      <td>45275.980000</td>\n",
       "      <td>12.089657</td>\n",
       "      <td>1.000000</td>\n",
       "      <td>60.173462</td>\n",
       "      <td>1.683632e+02</td>\n",
       "      <td>5466.014750</td>\n",
       "    </tr>\n",
       "    <tr>\n",
       "      <th>max</th>\n",
       "      <td>10.000000</td>\n",
       "      <td>89.000000</td>\n",
       "      <td>258900.700000</td>\n",
       "      <td>32.441070</td>\n",
       "      <td>6.000000</td>\n",
       "      <td>71.999280</td>\n",
       "      <td>1.683632e+02</td>\n",
       "      <td>7158.982000</td>\n",
       "    </tr>\n",
       "  </tbody>\n",
       "</table>\n",
       "</div>"
      ],
      "text/plain": [
       "          Children          Age         Income  Outage_sec_perweek  \\\n",
       "count  9498.000000  9498.000000    9498.000000         9498.000000   \n",
       "mean      1.820278    53.347268   38183.758433           10.041186   \n",
       "std       1.928112    18.038581   24622.200370            3.172513   \n",
       "min       0.000000    18.000000     740.660000            0.113821   \n",
       "25%       1.000000    41.000000   23704.880000            7.934760   \n",
       "50%       1.000000    53.275748   33186.785000            9.995043   \n",
       "75%       3.000000    66.000000   45275.980000           12.089657   \n",
       "max      10.000000    89.000000  258900.700000           32.441070   \n",
       "\n",
       "       Yearly_equip_failure       Tenure  MonthlyCharge  Bandwidth_GB_Year  \n",
       "count           9498.000000  9498.000000   9.498000e+03        9498.000000  \n",
       "mean               0.395452    36.428779   1.683632e+02        3583.153956  \n",
       "std                0.633776    25.916979   3.115183e-11        2146.221448  \n",
       "min                0.000000     1.000259   1.683632e+02         155.506715  \n",
       "25%                0.000000     8.691499   1.683632e+02        1309.752701  \n",
       "50%                0.000000    47.362925   1.683632e+02        4468.890000  \n",
       "75%                1.000000    60.173462   1.683632e+02        5466.014750  \n",
       "max                6.000000    71.999280   1.683632e+02        7158.982000  "
      ]
     },
     "execution_count": 90,
     "metadata": {},
     "output_type": "execute_result"
    }
   ],
   "source": [
    "df[['Children', 'Age', 'Income', 'Outage_sec_perweek', 'Yearly_equip_failure', 'Tenure', 'MonthlyCharge', 'Bandwidth_GB_Year']].describe()"
   ]
  },
  {
   "cell_type": "markdown",
   "id": "06e43bec",
   "metadata": {},
   "source": [
    "### PCA "
   ]
  },
  {
   "cell_type": "code",
   "execution_count": 91,
   "id": "48bb84b7",
   "metadata": {},
   "outputs": [],
   "source": [
    "#create a new dataframe with numerical variables\n",
    "df_pca = df[['Children', 'Population', 'Age', 'Income', 'Outage_sec_perweek', 'Yearly_equip_failure', 'Tenure', 'MonthlyCharge', 'Bandwidth_GB_Year', 'item1', 'item2', 'item3', 'item4', 'item5', 'item6', 'item7', 'item8']]"
   ]
  },
  {
   "cell_type": "code",
   "execution_count": 92,
   "id": "4fef2985",
   "metadata": {},
   "outputs": [
    {
     "data": {
      "text/html": [
       "<div>\n",
       "<style scoped>\n",
       "    .dataframe tbody tr th:only-of-type {\n",
       "        vertical-align: middle;\n",
       "    }\n",
       "\n",
       "    .dataframe tbody tr th {\n",
       "        vertical-align: top;\n",
       "    }\n",
       "\n",
       "    .dataframe thead th {\n",
       "        text-align: right;\n",
       "    }\n",
       "</style>\n",
       "<table border=\"1\" class=\"dataframe\">\n",
       "  <thead>\n",
       "    <tr style=\"text-align: right;\">\n",
       "      <th></th>\n",
       "      <th>Children</th>\n",
       "      <th>Population</th>\n",
       "      <th>Age</th>\n",
       "      <th>Income</th>\n",
       "      <th>Outage_sec_perweek</th>\n",
       "      <th>Yearly_equip_failure</th>\n",
       "      <th>Tenure</th>\n",
       "      <th>MonthlyCharge</th>\n",
       "      <th>Bandwidth_GB_Year</th>\n",
       "      <th>item1</th>\n",
       "      <th>item2</th>\n",
       "      <th>item3</th>\n",
       "      <th>item4</th>\n",
       "      <th>item5</th>\n",
       "      <th>item6</th>\n",
       "      <th>item7</th>\n",
       "      <th>item8</th>\n",
       "    </tr>\n",
       "  </thead>\n",
       "  <tbody>\n",
       "    <tr>\n",
       "      <th>0</th>\n",
       "      <td>-0.425431</td>\n",
       "      <td>-0.673529</td>\n",
       "      <td>0.812300</td>\n",
       "      <td>-0.390776</td>\n",
       "      <td>-0.967252</td>\n",
       "      <td>0.953883</td>\n",
       "      <td>-1.143392</td>\n",
       "      <td>-0.999947</td>\n",
       "      <td>-1.248062</td>\n",
       "      <td>1.450469</td>\n",
       "      <td>1.439676</td>\n",
       "      <td>1.469516</td>\n",
       "      <td>-0.480792</td>\n",
       "      <td>0.491611</td>\n",
       "      <td>0.488340</td>\n",
       "      <td>-0.496846</td>\n",
       "      <td>0.491884</td>\n",
       "    </tr>\n",
       "    <tr>\n",
       "      <th>1</th>\n",
       "      <td>-0.425431</td>\n",
       "      <td>0.046297</td>\n",
       "      <td>-1.460606</td>\n",
       "      <td>-0.669274</td>\n",
       "      <td>0.622016</td>\n",
       "      <td>0.953883</td>\n",
       "      <td>-1.360965</td>\n",
       "      <td>-0.999947</td>\n",
       "      <td>-1.296311</td>\n",
       "      <td>-0.473362</td>\n",
       "      <td>0.474268</td>\n",
       "      <td>-0.480123</td>\n",
       "      <td>-0.480792</td>\n",
       "      <td>0.491611</td>\n",
       "      <td>-0.480183</td>\n",
       "      <td>0.476152</td>\n",
       "      <td>0.491884</td>\n",
       "    </tr>\n",
       "    <tr>\n",
       "      <th>2</th>\n",
       "      <td>1.130495</td>\n",
       "      <td>-0.417842</td>\n",
       "      <td>-0.185562</td>\n",
       "      <td>-0.202946</td>\n",
       "      <td>0.064438</td>\n",
       "      <td>0.953883</td>\n",
       "      <td>-0.797725</td>\n",
       "      <td>-0.999947</td>\n",
       "      <td>-0.712157</td>\n",
       "      <td>0.488553</td>\n",
       "      <td>0.474268</td>\n",
       "      <td>-1.454942</td>\n",
       "      <td>0.492267</td>\n",
       "      <td>0.491611</td>\n",
       "      <td>-0.480183</td>\n",
       "      <td>-0.496846</td>\n",
       "      <td>-0.480014</td>\n",
       "    </tr>\n",
       "    <tr>\n",
       "      <th>3</th>\n",
       "      <td>-0.425431</td>\n",
       "      <td>0.282619</td>\n",
       "      <td>-0.296435</td>\n",
       "      <td>-0.782161</td>\n",
       "      <td>1.628049</td>\n",
       "      <td>-0.623961</td>\n",
       "      <td>-0.746289</td>\n",
       "      <td>-0.999947</td>\n",
       "      <td>-0.660964</td>\n",
       "      <td>0.488553</td>\n",
       "      <td>0.474268</td>\n",
       "      <td>0.494697</td>\n",
       "      <td>-1.453851</td>\n",
       "      <td>1.464182</td>\n",
       "      <td>0.488340</td>\n",
       "      <td>-0.496846</td>\n",
       "      <td>-0.480014</td>\n",
       "    </tr>\n",
       "    <tr>\n",
       "      <th>4</th>\n",
       "      <td>-0.944073</td>\n",
       "      <td>0.108957</td>\n",
       "      <td>1.643851</td>\n",
       "      <td>0.076778</td>\n",
       "      <td>-0.340698</td>\n",
       "      <td>0.953883</td>\n",
       "      <td>-1.341121</td>\n",
       "      <td>-0.999947</td>\n",
       "      <td>-1.543019</td>\n",
       "      <td>0.488553</td>\n",
       "      <td>0.474268</td>\n",
       "      <td>0.494697</td>\n",
       "      <td>-0.480792</td>\n",
       "      <td>0.491611</td>\n",
       "      <td>0.488340</td>\n",
       "      <td>0.476152</td>\n",
       "      <td>1.463782</td>\n",
       "    </tr>\n",
       "    <tr>\n",
       "      <th>...</th>\n",
       "      <td>...</td>\n",
       "      <td>...</td>\n",
       "      <td>...</td>\n",
       "      <td>...</td>\n",
       "      <td>...</td>\n",
       "      <td>...</td>\n",
       "      <td>...</td>\n",
       "      <td>...</td>\n",
       "      <td>...</td>\n",
       "      <td>...</td>\n",
       "      <td>...</td>\n",
       "      <td>...</td>\n",
       "      <td>...</td>\n",
       "      <td>...</td>\n",
       "      <td>...</td>\n",
       "      <td>...</td>\n",
       "      <td>...</td>\n",
       "    </tr>\n",
       "    <tr>\n",
       "      <th>9995</th>\n",
       "      <td>0.611853</td>\n",
       "      <td>-0.631894</td>\n",
       "      <td>-0.003965</td>\n",
       "      <td>0.712365</td>\n",
       "      <td>-0.244536</td>\n",
       "      <td>-0.623961</td>\n",
       "      <td>1.225774</td>\n",
       "      <td>-0.999947</td>\n",
       "      <td>1.364304</td>\n",
       "      <td>-0.473362</td>\n",
       "      <td>-1.456549</td>\n",
       "      <td>-0.480123</td>\n",
       "      <td>-0.480792</td>\n",
       "      <td>0.491611</td>\n",
       "      <td>-0.480183</td>\n",
       "      <td>-1.469843</td>\n",
       "      <td>-0.480014</td>\n",
       "    </tr>\n",
       "    <tr>\n",
       "      <th>9996</th>\n",
       "      <td>1.130495</td>\n",
       "      <td>4.660847</td>\n",
       "      <td>-0.296435</td>\n",
       "      <td>-0.202946</td>\n",
       "      <td>-0.606881</td>\n",
       "      <td>-0.623961</td>\n",
       "      <td>0.949632</td>\n",
       "      <td>-0.999947</td>\n",
       "      <td>0.984427</td>\n",
       "      <td>0.488553</td>\n",
       "      <td>1.439676</td>\n",
       "      <td>1.469516</td>\n",
       "      <td>0.492267</td>\n",
       "      <td>0.491611</td>\n",
       "      <td>1.456864</td>\n",
       "      <td>-1.469843</td>\n",
       "      <td>1.463782</td>\n",
       "    </tr>\n",
       "    <tr>\n",
       "      <th>9997</th>\n",
       "      <td>-0.425431</td>\n",
       "      <td>-0.648078</td>\n",
       "      <td>-0.003965</td>\n",
       "      <td>-0.202946</td>\n",
       "      <td>-1.640179</td>\n",
       "      <td>-0.623961</td>\n",
       "      <td>0.733925</td>\n",
       "      <td>-0.999947</td>\n",
       "      <td>0.268449</td>\n",
       "      <td>0.488553</td>\n",
       "      <td>0.474268</td>\n",
       "      <td>0.494697</td>\n",
       "      <td>0.492267</td>\n",
       "      <td>0.491611</td>\n",
       "      <td>0.488340</td>\n",
       "      <td>0.476152</td>\n",
       "      <td>1.463782</td>\n",
       "    </tr>\n",
       "    <tr>\n",
       "      <th>9998</th>\n",
       "      <td>-0.425431</td>\n",
       "      <td>1.784240</td>\n",
       "      <td>-0.795366</td>\n",
       "      <td>-0.873853</td>\n",
       "      <td>0.641534</td>\n",
       "      <td>-0.623961</td>\n",
       "      <td>1.337610</td>\n",
       "      <td>-0.999947</td>\n",
       "      <td>1.344364</td>\n",
       "      <td>0.488553</td>\n",
       "      <td>0.474268</td>\n",
       "      <td>2.444336</td>\n",
       "      <td>0.492267</td>\n",
       "      <td>-0.480961</td>\n",
       "      <td>-0.480183</td>\n",
       "      <td>1.449150</td>\n",
       "      <td>0.491884</td>\n",
       "    </tr>\n",
       "    <tr>\n",
       "      <th>9999</th>\n",
       "      <td>-0.425431</td>\n",
       "      <td>0.169680</td>\n",
       "      <td>-1.405170</td>\n",
       "      <td>-0.202946</td>\n",
       "      <td>0.819720</td>\n",
       "      <td>-0.623961</td>\n",
       "      <td>1.038782</td>\n",
       "      <td>-0.999947</td>\n",
       "      <td>1.059738</td>\n",
       "      <td>-1.435277</td>\n",
       "      <td>-1.456549</td>\n",
       "      <td>-0.480123</td>\n",
       "      <td>-0.480792</td>\n",
       "      <td>-0.480961</td>\n",
       "      <td>-0.480183</td>\n",
       "      <td>0.476152</td>\n",
       "      <td>-2.423810</td>\n",
       "    </tr>\n",
       "  </tbody>\n",
       "</table>\n",
       "<p>9498 rows × 17 columns</p>\n",
       "</div>"
      ],
      "text/plain": [
       "      Children  Population       Age    Income  Outage_sec_perweek  \\\n",
       "0    -0.425431   -0.673529  0.812300 -0.390776           -0.967252   \n",
       "1    -0.425431    0.046297 -1.460606 -0.669274            0.622016   \n",
       "2     1.130495   -0.417842 -0.185562 -0.202946            0.064438   \n",
       "3    -0.425431    0.282619 -0.296435 -0.782161            1.628049   \n",
       "4    -0.944073    0.108957  1.643851  0.076778           -0.340698   \n",
       "...        ...         ...       ...       ...                 ...   \n",
       "9995  0.611853   -0.631894 -0.003965  0.712365           -0.244536   \n",
       "9996  1.130495    4.660847 -0.296435 -0.202946           -0.606881   \n",
       "9997 -0.425431   -0.648078 -0.003965 -0.202946           -1.640179   \n",
       "9998 -0.425431    1.784240 -0.795366 -0.873853            0.641534   \n",
       "9999 -0.425431    0.169680 -1.405170 -0.202946            0.819720   \n",
       "\n",
       "      Yearly_equip_failure    Tenure  MonthlyCharge  Bandwidth_GB_Year  \\\n",
       "0                 0.953883 -1.143392      -0.999947          -1.248062   \n",
       "1                 0.953883 -1.360965      -0.999947          -1.296311   \n",
       "2                 0.953883 -0.797725      -0.999947          -0.712157   \n",
       "3                -0.623961 -0.746289      -0.999947          -0.660964   \n",
       "4                 0.953883 -1.341121      -0.999947          -1.543019   \n",
       "...                    ...       ...            ...                ...   \n",
       "9995             -0.623961  1.225774      -0.999947           1.364304   \n",
       "9996             -0.623961  0.949632      -0.999947           0.984427   \n",
       "9997             -0.623961  0.733925      -0.999947           0.268449   \n",
       "9998             -0.623961  1.337610      -0.999947           1.344364   \n",
       "9999             -0.623961  1.038782      -0.999947           1.059738   \n",
       "\n",
       "         item1     item2     item3     item4     item5     item6     item7  \\\n",
       "0     1.450469  1.439676  1.469516 -0.480792  0.491611  0.488340 -0.496846   \n",
       "1    -0.473362  0.474268 -0.480123 -0.480792  0.491611 -0.480183  0.476152   \n",
       "2     0.488553  0.474268 -1.454942  0.492267  0.491611 -0.480183 -0.496846   \n",
       "3     0.488553  0.474268  0.494697 -1.453851  1.464182  0.488340 -0.496846   \n",
       "4     0.488553  0.474268  0.494697 -0.480792  0.491611  0.488340  0.476152   \n",
       "...        ...       ...       ...       ...       ...       ...       ...   \n",
       "9995 -0.473362 -1.456549 -0.480123 -0.480792  0.491611 -0.480183 -1.469843   \n",
       "9996  0.488553  1.439676  1.469516  0.492267  0.491611  1.456864 -1.469843   \n",
       "9997  0.488553  0.474268  0.494697  0.492267  0.491611  0.488340  0.476152   \n",
       "9998  0.488553  0.474268  2.444336  0.492267 -0.480961 -0.480183  1.449150   \n",
       "9999 -1.435277 -1.456549 -0.480123 -0.480792 -0.480961 -0.480183  0.476152   \n",
       "\n",
       "         item8  \n",
       "0     0.491884  \n",
       "1     0.491884  \n",
       "2    -0.480014  \n",
       "3    -0.480014  \n",
       "4     1.463782  \n",
       "...        ...  \n",
       "9995 -0.480014  \n",
       "9996  1.463782  \n",
       "9997  1.463782  \n",
       "9998  0.491884  \n",
       "9999 -2.423810  \n",
       "\n",
       "[9498 rows x 17 columns]"
      ]
     },
     "execution_count": 92,
     "metadata": {},
     "output_type": "execute_result"
    }
   ],
   "source": [
    "#normalize the dataframe\n",
    "df_pca_norm = (df_pca-(df_pca.mean()))/df_pca.std()\n",
    "df_pca_norm"
   ]
  },
  {
   "cell_type": "code",
   "execution_count": 93,
   "id": "5afc14b7",
   "metadata": {},
   "outputs": [],
   "source": [
    "pca = PCA(n_components=df_pca.shape[1])"
   ]
  },
  {
   "cell_type": "code",
   "execution_count": 94,
   "id": "143a608a",
   "metadata": {},
   "outputs": [
    {
     "data": {
      "text/plain": [
       "PCA(n_components=17)"
      ]
     },
     "execution_count": 94,
     "metadata": {},
     "output_type": "execute_result"
    }
   ],
   "source": [
    "#number of components\n",
    "pca.fit(df_pca_norm)"
   ]
  },
  {
   "cell_type": "code",
   "execution_count": 95,
   "id": "e3cc81d7",
   "metadata": {},
   "outputs": [
    {
     "data": {
      "text/html": [
       "<div>\n",
       "<style scoped>\n",
       "    .dataframe tbody tr th:only-of-type {\n",
       "        vertical-align: middle;\n",
       "    }\n",
       "\n",
       "    .dataframe tbody tr th {\n",
       "        vertical-align: top;\n",
       "    }\n",
       "\n",
       "    .dataframe thead th {\n",
       "        text-align: right;\n",
       "    }\n",
       "</style>\n",
       "<table border=\"1\" class=\"dataframe\">\n",
       "  <thead>\n",
       "    <tr style=\"text-align: right;\">\n",
       "      <th></th>\n",
       "      <th>PC1</th>\n",
       "      <th>PC2</th>\n",
       "      <th>PC3</th>\n",
       "      <th>PC4</th>\n",
       "      <th>PC5</th>\n",
       "      <th>PC6</th>\n",
       "      <th>PC7</th>\n",
       "      <th>PC8</th>\n",
       "      <th>PC9</th>\n",
       "      <th>PC10</th>\n",
       "      <th>PC11</th>\n",
       "      <th>PC12</th>\n",
       "      <th>PC13</th>\n",
       "      <th>PC14</th>\n",
       "      <th>PC15</th>\n",
       "      <th>PC16</th>\n",
       "      <th>PC17</th>\n",
       "    </tr>\n",
       "  </thead>\n",
       "  <tbody>\n",
       "    <tr>\n",
       "      <th>0</th>\n",
       "      <td>1.942507</td>\n",
       "      <td>-1.435715</td>\n",
       "      <td>1.913982</td>\n",
       "      <td>-0.582100</td>\n",
       "      <td>0.794646</td>\n",
       "      <td>1.227752</td>\n",
       "      <td>0.257983</td>\n",
       "      <td>-0.820469</td>\n",
       "      <td>-0.217385</td>\n",
       "      <td>0.180576</td>\n",
       "      <td>-0.910421</td>\n",
       "      <td>0.205327</td>\n",
       "      <td>-0.161206</td>\n",
       "      <td>-0.024440</td>\n",
       "      <td>-0.008780</td>\n",
       "      <td>0.029608</td>\n",
       "      <td>3.153843e-16</td>\n",
       "    </tr>\n",
       "    <tr>\n",
       "      <th>1</th>\n",
       "      <td>-0.229201</td>\n",
       "      <td>-1.776437</td>\n",
       "      <td>0.606376</td>\n",
       "      <td>0.218256</td>\n",
       "      <td>0.824194</td>\n",
       "      <td>-1.144717</td>\n",
       "      <td>0.766745</td>\n",
       "      <td>-0.124491</td>\n",
       "      <td>-1.186702</td>\n",
       "      <td>0.589495</td>\n",
       "      <td>0.779419</td>\n",
       "      <td>-0.427299</td>\n",
       "      <td>0.193130</td>\n",
       "      <td>-0.464562</td>\n",
       "      <td>-0.655609</td>\n",
       "      <td>0.006811</td>\n",
       "      <td>5.585673e-16</td>\n",
       "    </tr>\n",
       "    <tr>\n",
       "      <th>2</th>\n",
       "      <td>-0.675837</td>\n",
       "      <td>-1.034672</td>\n",
       "      <td>0.254488</td>\n",
       "      <td>1.061264</td>\n",
       "      <td>0.982038</td>\n",
       "      <td>0.211907</td>\n",
       "      <td>0.507048</td>\n",
       "      <td>-0.125058</td>\n",
       "      <td>0.291488</td>\n",
       "      <td>-0.114464</td>\n",
       "      <td>-0.413843</td>\n",
       "      <td>-0.325119</td>\n",
       "      <td>0.986695</td>\n",
       "      <td>-1.362497</td>\n",
       "      <td>0.390326</td>\n",
       "      <td>-0.019709</td>\n",
       "      <td>3.239831e-16</td>\n",
       "    </tr>\n",
       "    <tr>\n",
       "      <th>3</th>\n",
       "      <td>0.009549</td>\n",
       "      <td>-0.686225</td>\n",
       "      <td>2.245820</td>\n",
       "      <td>-0.659146</td>\n",
       "      <td>0.593254</td>\n",
       "      <td>-1.645599</td>\n",
       "      <td>-0.581925</td>\n",
       "      <td>0.554623</td>\n",
       "      <td>0.038230</td>\n",
       "      <td>-0.271637</td>\n",
       "      <td>0.232414</td>\n",
       "      <td>0.797140</td>\n",
       "      <td>0.427903</td>\n",
       "      <td>0.264789</td>\n",
       "      <td>-0.032973</td>\n",
       "      <td>-0.037922</td>\n",
       "      <td>3.113051e-16</td>\n",
       "    </tr>\n",
       "    <tr>\n",
       "      <th>4</th>\n",
       "      <td>1.337290</td>\n",
       "      <td>-1.931805</td>\n",
       "      <td>0.839424</td>\n",
       "      <td>-1.450871</td>\n",
       "      <td>0.620031</td>\n",
       "      <td>1.435567</td>\n",
       "      <td>0.249753</td>\n",
       "      <td>0.426424</td>\n",
       "      <td>-0.106981</td>\n",
       "      <td>1.151454</td>\n",
       "      <td>0.391133</td>\n",
       "      <td>0.012184</td>\n",
       "      <td>0.139416</td>\n",
       "      <td>0.235613</td>\n",
       "      <td>-0.109439</td>\n",
       "      <td>0.095227</td>\n",
       "      <td>4.986910e-16</td>\n",
       "    </tr>\n",
       "    <tr>\n",
       "      <th>...</th>\n",
       "      <td>...</td>\n",
       "      <td>...</td>\n",
       "      <td>...</td>\n",
       "      <td>...</td>\n",
       "      <td>...</td>\n",
       "      <td>...</td>\n",
       "      <td>...</td>\n",
       "      <td>...</td>\n",
       "      <td>...</td>\n",
       "      <td>...</td>\n",
       "      <td>...</td>\n",
       "      <td>...</td>\n",
       "      <td>...</td>\n",
       "      <td>...</td>\n",
       "      <td>...</td>\n",
       "      <td>...</td>\n",
       "      <td>...</td>\n",
       "    </tr>\n",
       "    <tr>\n",
       "      <th>9493</th>\n",
       "      <td>-2.086792</td>\n",
       "      <td>1.797365</td>\n",
       "      <td>0.072561</td>\n",
       "      <td>0.790982</td>\n",
       "      <td>-0.492831</td>\n",
       "      <td>0.364891</td>\n",
       "      <td>-0.739387</td>\n",
       "      <td>-0.090025</td>\n",
       "      <td>0.283110</td>\n",
       "      <td>0.357069</td>\n",
       "      <td>-0.629286</td>\n",
       "      <td>0.548329</td>\n",
       "      <td>-0.083980</td>\n",
       "      <td>0.521674</td>\n",
       "      <td>0.650184</td>\n",
       "      <td>-0.106224</td>\n",
       "      <td>2.360410e-16</td>\n",
       "    </tr>\n",
       "    <tr>\n",
       "      <th>9494</th>\n",
       "      <td>1.928201</td>\n",
       "      <td>1.460088</td>\n",
       "      <td>0.717458</td>\n",
       "      <td>-0.825719</td>\n",
       "      <td>-2.361070</td>\n",
       "      <td>-1.511146</td>\n",
       "      <td>3.117463</td>\n",
       "      <td>1.378209</td>\n",
       "      <td>2.086695</td>\n",
       "      <td>0.863860</td>\n",
       "      <td>-1.976215</td>\n",
       "      <td>0.697720</td>\n",
       "      <td>0.510527</td>\n",
       "      <td>0.455628</td>\n",
       "      <td>-0.809771</td>\n",
       "      <td>-0.010484</td>\n",
       "      <td>3.971981e-16</td>\n",
       "    </tr>\n",
       "    <tr>\n",
       "      <th>9495</th>\n",
       "      <td>1.463077</td>\n",
       "      <td>0.705080</td>\n",
       "      <td>-0.038367</td>\n",
       "      <td>-0.297770</td>\n",
       "      <td>-0.828121</td>\n",
       "      <td>0.634962</td>\n",
       "      <td>-0.340646</td>\n",
       "      <td>-1.466334</td>\n",
       "      <td>-0.141586</td>\n",
       "      <td>1.185172</td>\n",
       "      <td>-0.113327</td>\n",
       "      <td>-0.346311</td>\n",
       "      <td>0.560864</td>\n",
       "      <td>0.274753</td>\n",
       "      <td>-0.089707</td>\n",
       "      <td>0.306697</td>\n",
       "      <td>2.341988e-16</td>\n",
       "    </tr>\n",
       "    <tr>\n",
       "      <th>9496</th>\n",
       "      <td>1.993181</td>\n",
       "      <td>1.946044</td>\n",
       "      <td>-0.080228</td>\n",
       "      <td>-0.866853</td>\n",
       "      <td>-0.684543</td>\n",
       "      <td>-1.844995</td>\n",
       "      <td>0.845081</td>\n",
       "      <td>0.274012</td>\n",
       "      <td>0.202512</td>\n",
       "      <td>-0.568013</td>\n",
       "      <td>0.291981</td>\n",
       "      <td>-1.511287</td>\n",
       "      <td>-1.147304</td>\n",
       "      <td>1.146521</td>\n",
       "      <td>-0.315040</td>\n",
       "      <td>-0.014108</td>\n",
       "      <td>9.681071e-16</td>\n",
       "    </tr>\n",
       "    <tr>\n",
       "      <th>9497</th>\n",
       "      <td>-2.292296</td>\n",
       "      <td>1.375166</td>\n",
       "      <td>-0.824128</td>\n",
       "      <td>0.356612</td>\n",
       "      <td>-0.414984</td>\n",
       "      <td>-1.440112</td>\n",
       "      <td>-0.229789</td>\n",
       "      <td>-0.080168</td>\n",
       "      <td>-0.706064</td>\n",
       "      <td>-1.959258</td>\n",
       "      <td>1.192256</td>\n",
       "      <td>0.323651</td>\n",
       "      <td>-0.542118</td>\n",
       "      <td>0.522545</td>\n",
       "      <td>-0.084974</td>\n",
       "      <td>0.022844</td>\n",
       "      <td>6.229819e-16</td>\n",
       "    </tr>\n",
       "  </tbody>\n",
       "</table>\n",
       "<p>9498 rows × 17 columns</p>\n",
       "</div>"
      ],
      "text/plain": [
       "           PC1       PC2       PC3       PC4       PC5       PC6       PC7  \\\n",
       "0     1.942507 -1.435715  1.913982 -0.582100  0.794646  1.227752  0.257983   \n",
       "1    -0.229201 -1.776437  0.606376  0.218256  0.824194 -1.144717  0.766745   \n",
       "2    -0.675837 -1.034672  0.254488  1.061264  0.982038  0.211907  0.507048   \n",
       "3     0.009549 -0.686225  2.245820 -0.659146  0.593254 -1.645599 -0.581925   \n",
       "4     1.337290 -1.931805  0.839424 -1.450871  0.620031  1.435567  0.249753   \n",
       "...        ...       ...       ...       ...       ...       ...       ...   \n",
       "9493 -2.086792  1.797365  0.072561  0.790982 -0.492831  0.364891 -0.739387   \n",
       "9494  1.928201  1.460088  0.717458 -0.825719 -2.361070 -1.511146  3.117463   \n",
       "9495  1.463077  0.705080 -0.038367 -0.297770 -0.828121  0.634962 -0.340646   \n",
       "9496  1.993181  1.946044 -0.080228 -0.866853 -0.684543 -1.844995  0.845081   \n",
       "9497 -2.292296  1.375166 -0.824128  0.356612 -0.414984 -1.440112 -0.229789   \n",
       "\n",
       "           PC8       PC9      PC10      PC11      PC12      PC13      PC14  \\\n",
       "0    -0.820469 -0.217385  0.180576 -0.910421  0.205327 -0.161206 -0.024440   \n",
       "1    -0.124491 -1.186702  0.589495  0.779419 -0.427299  0.193130 -0.464562   \n",
       "2    -0.125058  0.291488 -0.114464 -0.413843 -0.325119  0.986695 -1.362497   \n",
       "3     0.554623  0.038230 -0.271637  0.232414  0.797140  0.427903  0.264789   \n",
       "4     0.426424 -0.106981  1.151454  0.391133  0.012184  0.139416  0.235613   \n",
       "...        ...       ...       ...       ...       ...       ...       ...   \n",
       "9493 -0.090025  0.283110  0.357069 -0.629286  0.548329 -0.083980  0.521674   \n",
       "9494  1.378209  2.086695  0.863860 -1.976215  0.697720  0.510527  0.455628   \n",
       "9495 -1.466334 -0.141586  1.185172 -0.113327 -0.346311  0.560864  0.274753   \n",
       "9496  0.274012  0.202512 -0.568013  0.291981 -1.511287 -1.147304  1.146521   \n",
       "9497 -0.080168 -0.706064 -1.959258  1.192256  0.323651 -0.542118  0.522545   \n",
       "\n",
       "          PC15      PC16          PC17  \n",
       "0    -0.008780  0.029608  3.153843e-16  \n",
       "1    -0.655609  0.006811  5.585673e-16  \n",
       "2     0.390326 -0.019709  3.239831e-16  \n",
       "3    -0.032973 -0.037922  3.113051e-16  \n",
       "4    -0.109439  0.095227  4.986910e-16  \n",
       "...        ...       ...           ...  \n",
       "9493  0.650184 -0.106224  2.360410e-16  \n",
       "9494 -0.809771 -0.010484  3.971981e-16  \n",
       "9495 -0.089707  0.306697  2.341988e-16  \n",
       "9496 -0.315040 -0.014108  9.681071e-16  \n",
       "9497 -0.084974  0.022844  6.229819e-16  \n",
       "\n",
       "[9498 rows x 17 columns]"
      ]
     },
     "execution_count": 95,
     "metadata": {},
     "output_type": "execute_result"
    }
   ],
   "source": [
    "df_pca = pd.DataFrame(pca.transform(df_pca_norm), columns=['PC1','PC2','PC3','PC4','PC5','PC6','PC7','PC8','PC9','PC10','PC11','PC12','PC13','PC14','PC15','PC16','PC17'])\n",
    "df_pca"
   ]
  },
  {
   "cell_type": "markdown",
   "id": "c8c55e6b",
   "metadata": {},
   "source": [
    "#### PCA Loadings"
   ]
  },
  {
   "cell_type": "code",
   "execution_count": 96,
   "id": "fa76761f",
   "metadata": {},
   "outputs": [
    {
     "data": {
      "text/html": [
       "<div>\n",
       "<style scoped>\n",
       "    .dataframe tbody tr th:only-of-type {\n",
       "        vertical-align: middle;\n",
       "    }\n",
       "\n",
       "    .dataframe tbody tr th {\n",
       "        vertical-align: top;\n",
       "    }\n",
       "\n",
       "    .dataframe thead th {\n",
       "        text-align: right;\n",
       "    }\n",
       "</style>\n",
       "<table border=\"1\" class=\"dataframe\">\n",
       "  <thead>\n",
       "    <tr style=\"text-align: right;\">\n",
       "      <th></th>\n",
       "      <th>PC1</th>\n",
       "      <th>PC2</th>\n",
       "      <th>PC3</th>\n",
       "      <th>PC4</th>\n",
       "      <th>PC5</th>\n",
       "      <th>PC6</th>\n",
       "      <th>PC7</th>\n",
       "      <th>PC8</th>\n",
       "      <th>PC9</th>\n",
       "      <th>PC10</th>\n",
       "      <th>PC11</th>\n",
       "      <th>PC12</th>\n",
       "      <th>PC13</th>\n",
       "      <th>PC14</th>\n",
       "      <th>PC15</th>\n",
       "      <th>PC16</th>\n",
       "      <th>PC17</th>\n",
       "    </tr>\n",
       "  </thead>\n",
       "  <tbody>\n",
       "    <tr>\n",
       "      <th>Children</th>\n",
       "      <td>2.749095e-03</td>\n",
       "      <td>-4.438485e-03</td>\n",
       "      <td>1.275062e-02</td>\n",
       "      <td>7.186362e-01</td>\n",
       "      <td>1.036218e-01</td>\n",
       "      <td>-5.397130e-03</td>\n",
       "      <td>1.298134e-01</td>\n",
       "      <td>3.887821e-02</td>\n",
       "      <td>6.714365e-01</td>\n",
       "      <td>3.965377e-02</td>\n",
       "      <td>-2.740738e-02</td>\n",
       "      <td>-2.228020e-02</td>\n",
       "      <td>1.358133e-02</td>\n",
       "      <td>1.417913e-02</td>\n",
       "      <td>-8.549679e-03</td>\n",
       "      <td>1.170251e-02</td>\n",
       "      <td>-1.412332e-19</td>\n",
       "    </tr>\n",
       "    <tr>\n",
       "      <th>Population</th>\n",
       "      <td>-1.148251e-03</td>\n",
       "      <td>-3.387134e-04</td>\n",
       "      <td>2.167856e-02</td>\n",
       "      <td>-3.128490e-01</td>\n",
       "      <td>-4.160091e-01</td>\n",
       "      <td>-2.519566e-01</td>\n",
       "      <td>6.559818e-01</td>\n",
       "      <td>4.107085e-01</td>\n",
       "      <td>2.496790e-01</td>\n",
       "      <td>-5.358104e-02</td>\n",
       "      <td>2.269610e-02</td>\n",
       "      <td>-1.654102e-02</td>\n",
       "      <td>3.591497e-04</td>\n",
       "      <td>-1.019234e-02</td>\n",
       "      <td>-2.258500e-03</td>\n",
       "      <td>2.542744e-03</td>\n",
       "      <td>8.334636e-17</td>\n",
       "    </tr>\n",
       "    <tr>\n",
       "      <th>Age</th>\n",
       "      <td>6.136733e-03</td>\n",
       "      <td>-1.108891e-02</td>\n",
       "      <td>-1.666492e-02</td>\n",
       "      <td>-4.867105e-01</td>\n",
       "      <td>1.996016e-01</td>\n",
       "      <td>5.921318e-01</td>\n",
       "      <td>-2.155756e-01</td>\n",
       "      <td>2.168088e-01</td>\n",
       "      <td>5.263393e-01</td>\n",
       "      <td>-2.642193e-02</td>\n",
       "      <td>-4.681490e-07</td>\n",
       "      <td>-2.923977e-03</td>\n",
       "      <td>-1.078595e-02</td>\n",
       "      <td>8.410399e-03</td>\n",
       "      <td>1.814754e-02</td>\n",
       "      <td>-2.187563e-02</td>\n",
       "      <td>1.646682e-17</td>\n",
       "    </tr>\n",
       "    <tr>\n",
       "      <th>Income</th>\n",
       "      <td>-3.018580e-04</td>\n",
       "      <td>6.449125e-03</td>\n",
       "      <td>1.918723e-02</td>\n",
       "      <td>3.594718e-01</td>\n",
       "      <td>-4.341959e-01</td>\n",
       "      <td>4.419943e-01</td>\n",
       "      <td>-1.810681e-01</td>\n",
       "      <td>5.908990e-01</td>\n",
       "      <td>-3.170337e-01</td>\n",
       "      <td>1.011535e-02</td>\n",
       "      <td>-6.106036e-02</td>\n",
       "      <td>-5.327447e-03</td>\n",
       "      <td>-4.015413e-03</td>\n",
       "      <td>1.135194e-02</td>\n",
       "      <td>3.915209e-03</td>\n",
       "      <td>-2.845909e-03</td>\n",
       "      <td>3.428336e-17</td>\n",
       "    </tr>\n",
       "    <tr>\n",
       "      <th>Outage_sec_perweek</th>\n",
       "      <td>-2.182765e-02</td>\n",
       "      <td>1.522913e-02</td>\n",
       "      <td>-1.752699e-02</td>\n",
       "      <td>-2.483789e-02</td>\n",
       "      <td>4.766309e-01</td>\n",
       "      <td>-5.084839e-01</td>\n",
       "      <td>-3.040088e-01</td>\n",
       "      <td>6.425038e-01</td>\n",
       "      <td>-2.492848e-02</td>\n",
       "      <td>-7.162661e-02</td>\n",
       "      <td>2.300007e-02</td>\n",
       "      <td>-2.259121e-02</td>\n",
       "      <td>-3.995747e-03</td>\n",
       "      <td>2.055262e-02</td>\n",
       "      <td>9.741248e-03</td>\n",
       "      <td>8.813495e-03</td>\n",
       "      <td>3.798288e-17</td>\n",
       "    </tr>\n",
       "    <tr>\n",
       "      <th>Yearly_equip_failure</th>\n",
       "      <td>-5.478441e-03</td>\n",
       "      <td>1.181611e-02</td>\n",
       "      <td>5.382070e-04</td>\n",
       "      <td>1.046263e-01</td>\n",
       "      <td>5.985442e-01</td>\n",
       "      <td>3.573757e-01</td>\n",
       "      <td>6.160662e-01</td>\n",
       "      <td>1.210358e-01</td>\n",
       "      <td>-3.287260e-01</td>\n",
       "      <td>5.115477e-03</td>\n",
       "      <td>1.857897e-03</td>\n",
       "      <td>-1.623693e-02</td>\n",
       "      <td>3.877052e-04</td>\n",
       "      <td>8.289466e-03</td>\n",
       "      <td>-1.706752e-02</td>\n",
       "      <td>3.065454e-03</td>\n",
       "      <td>5.626954e-17</td>\n",
       "    </tr>\n",
       "    <tr>\n",
       "      <th>Tenure</th>\n",
       "      <td>-9.515666e-03</td>\n",
       "      <td>7.006502e-01</td>\n",
       "      <td>-9.171573e-02</td>\n",
       "      <td>-1.476967e-02</td>\n",
       "      <td>-1.088725e-02</td>\n",
       "      <td>1.760187e-02</td>\n",
       "      <td>-4.995467e-03</td>\n",
       "      <td>-8.982690e-03</td>\n",
       "      <td>1.314841e-02</td>\n",
       "      <td>5.297007e-03</td>\n",
       "      <td>-6.824167e-03</td>\n",
       "      <td>5.070318e-03</td>\n",
       "      <td>-1.796244e-02</td>\n",
       "      <td>6.132888e-03</td>\n",
       "      <td>9.670669e-03</td>\n",
       "      <td>7.064756e-01</td>\n",
       "      <td>-3.146502e-17</td>\n",
       "    </tr>\n",
       "    <tr>\n",
       "      <th>MonthlyCharge</th>\n",
       "      <td>4.336809e-19</td>\n",
       "      <td>1.537310e-30</td>\n",
       "      <td>-5.551115e-17</td>\n",
       "      <td>4.163336e-17</td>\n",
       "      <td>-1.873501e-16</td>\n",
       "      <td>6.288373e-18</td>\n",
       "      <td>-9.714451e-17</td>\n",
       "      <td>-1.821460e-16</td>\n",
       "      <td>2.775558e-17</td>\n",
       "      <td>-1.665335e-16</td>\n",
       "      <td>-1.110223e-16</td>\n",
       "      <td>5.551115e-17</td>\n",
       "      <td>-4.857226e-17</td>\n",
       "      <td>2.775558e-17</td>\n",
       "      <td>-1.110223e-16</td>\n",
       "      <td>-8.326673e-17</td>\n",
       "      <td>-1.000000e+00</td>\n",
       "    </tr>\n",
       "    <tr>\n",
       "      <th>Bandwidth_GB_Year</th>\n",
       "      <td>-1.386653e-02</td>\n",
       "      <td>7.006645e-01</td>\n",
       "      <td>-9.284410e-02</td>\n",
       "      <td>1.010719e-02</td>\n",
       "      <td>-6.706854e-03</td>\n",
       "      <td>-7.560361e-03</td>\n",
       "      <td>5.253798e-03</td>\n",
       "      <td>-6.829450e-03</td>\n",
       "      <td>8.454612e-03</td>\n",
       "      <td>4.723399e-03</td>\n",
       "      <td>3.581381e-03</td>\n",
       "      <td>8.201996e-03</td>\n",
       "      <td>3.551569e-03</td>\n",
       "      <td>-4.757440e-03</td>\n",
       "      <td>-1.776672e-03</td>\n",
       "      <td>-7.069414e-01</td>\n",
       "      <td>1.980903e-17</td>\n",
       "    </tr>\n",
       "    <tr>\n",
       "      <th>item1</th>\n",
       "      <td>4.589173e-01</td>\n",
       "      <td>4.150772e-02</td>\n",
       "      <td>2.789211e-01</td>\n",
       "      <td>8.555277e-03</td>\n",
       "      <td>2.104774e-02</td>\n",
       "      <td>-8.398436e-03</td>\n",
       "      <td>8.007162e-03</td>\n",
       "      <td>-5.545797e-03</td>\n",
       "      <td>-7.624359e-03</td>\n",
       "      <td>-7.041241e-02</td>\n",
       "      <td>-1.123135e-01</td>\n",
       "      <td>-4.723804e-02</td>\n",
       "      <td>2.304470e-02</td>\n",
       "      <td>-2.483029e-01</td>\n",
       "      <td>7.919010e-01</td>\n",
       "      <td>-6.250291e-03</td>\n",
       "      <td>-2.362243e-17</td>\n",
       "    </tr>\n",
       "    <tr>\n",
       "      <th>item2</th>\n",
       "      <td>4.335268e-01</td>\n",
       "      <td>5.027982e-02</td>\n",
       "      <td>2.815982e-01</td>\n",
       "      <td>-8.584347e-03</td>\n",
       "      <td>2.222155e-02</td>\n",
       "      <td>-3.612168e-03</td>\n",
       "      <td>-2.363590e-02</td>\n",
       "      <td>9.171564e-03</td>\n",
       "      <td>4.017627e-03</td>\n",
       "      <td>-1.144033e-01</td>\n",
       "      <td>-1.688029e-01</td>\n",
       "      <td>-7.064386e-02</td>\n",
       "      <td>6.886729e-02</td>\n",
       "      <td>-5.866462e-01</td>\n",
       "      <td>-5.774676e-01</td>\n",
       "      <td>7.141830e-03</td>\n",
       "      <td>-1.974871e-17</td>\n",
       "    </tr>\n",
       "    <tr>\n",
       "      <th>item3</th>\n",
       "      <td>4.005028e-01</td>\n",
       "      <td>4.169728e-02</td>\n",
       "      <td>2.782224e-01</td>\n",
       "      <td>-1.367615e-02</td>\n",
       "      <td>7.509412e-04</td>\n",
       "      <td>-1.350428e-02</td>\n",
       "      <td>2.950046e-04</td>\n",
       "      <td>-3.027898e-02</td>\n",
       "      <td>-3.663062e-03</td>\n",
       "      <td>-1.810201e-01</td>\n",
       "      <td>-2.426500e-01</td>\n",
       "      <td>-1.660855e-01</td>\n",
       "      <td>-3.881328e-01</td>\n",
       "      <td>6.786300e-01</td>\n",
       "      <td>-1.689839e-01</td>\n",
       "      <td>-1.333344e-02</td>\n",
       "      <td>8.372563e-17</td>\n",
       "    </tr>\n",
       "    <tr>\n",
       "      <th>item4</th>\n",
       "      <td>1.452892e-01</td>\n",
       "      <td>-6.393968e-02</td>\n",
       "      <td>-5.688391e-01</td>\n",
       "      <td>-1.311483e-02</td>\n",
       "      <td>-1.115350e-02</td>\n",
       "      <td>-9.143024e-03</td>\n",
       "      <td>1.114948e-02</td>\n",
       "      <td>-2.316883e-02</td>\n",
       "      <td>-9.113007e-03</td>\n",
       "      <td>-1.774548e-01</td>\n",
       "      <td>-4.621017e-01</td>\n",
       "      <td>-4.584775e-01</td>\n",
       "      <td>4.337226e-01</td>\n",
       "      <td>7.890919e-02</td>\n",
       "      <td>2.295357e-02</td>\n",
       "      <td>1.443111e-03</td>\n",
       "      <td>3.033471e-18</td>\n",
       "    </tr>\n",
       "    <tr>\n",
       "      <th>item5</th>\n",
       "      <td>-1.765894e-01</td>\n",
       "      <td>8.217973e-02</td>\n",
       "      <td>5.839767e-01</td>\n",
       "      <td>-3.346280e-02</td>\n",
       "      <td>6.721332e-03</td>\n",
       "      <td>2.989484e-03</td>\n",
       "      <td>-1.950084e-02</td>\n",
       "      <td>-2.660984e-03</td>\n",
       "      <td>-3.792573e-03</td>\n",
       "      <td>1.393209e-01</td>\n",
       "      <td>6.189746e-02</td>\n",
       "      <td>-2.058215e-01</td>\n",
       "      <td>6.972063e-01</td>\n",
       "      <td>2.573939e-01</td>\n",
       "      <td>-3.793019e-02</td>\n",
       "      <td>8.202514e-03</td>\n",
       "      <td>-3.629950e-17</td>\n",
       "    </tr>\n",
       "    <tr>\n",
       "      <th>item6</th>\n",
       "      <td>4.040360e-01</td>\n",
       "      <td>-1.904693e-02</td>\n",
       "      <td>-1.801130e-01</td>\n",
       "      <td>9.261299e-03</td>\n",
       "      <td>4.976101e-03</td>\n",
       "      <td>-3.812703e-03</td>\n",
       "      <td>1.261981e-02</td>\n",
       "      <td>2.320602e-02</td>\n",
       "      <td>3.685849e-03</td>\n",
       "      <td>-6.544360e-02</td>\n",
       "      <td>3.413498e-02</td>\n",
       "      <td>7.604614e-01</td>\n",
       "      <td>4.015173e-01</td>\n",
       "      <td>2.323280e-01</td>\n",
       "      <td>-6.431381e-02</td>\n",
       "      <td>6.065295e-03</td>\n",
       "      <td>-1.462272e-16</td>\n",
       "    </tr>\n",
       "    <tr>\n",
       "      <th>item7</th>\n",
       "      <td>3.581680e-01</td>\n",
       "      <td>-1.089293e-02</td>\n",
       "      <td>-1.807613e-01</td>\n",
       "      <td>4.793772e-02</td>\n",
       "      <td>-3.104081e-02</td>\n",
       "      <td>4.087087e-02</td>\n",
       "      <td>-1.658666e-02</td>\n",
       "      <td>-4.191368e-03</td>\n",
       "      <td>-1.283587e-02</td>\n",
       "      <td>-1.610995e-01</td>\n",
       "      <td>8.217646e-01</td>\n",
       "      <td>-3.471817e-01</td>\n",
       "      <td>7.609110e-02</td>\n",
       "      <td>6.370729e-02</td>\n",
       "      <td>-4.325124e-02</td>\n",
       "      <td>5.345533e-03</td>\n",
       "      <td>1.243657e-16</td>\n",
       "    </tr>\n",
       "    <tr>\n",
       "      <th>item8</th>\n",
       "      <td>3.104656e-01</td>\n",
       "      <td>-1.702372e-02</td>\n",
       "      <td>-1.309888e-01</td>\n",
       "      <td>-6.072020e-02</td>\n",
       "      <td>1.188163e-02</td>\n",
       "      <td>-4.273102e-02</td>\n",
       "      <td>2.131228e-03</td>\n",
       "      <td>6.260607e-02</td>\n",
       "      <td>-2.550871e-06</td>\n",
       "      <td>9.260662e-01</td>\n",
       "      <td>-2.437488e-02</td>\n",
       "      <td>-1.100860e-01</td>\n",
       "      <td>-4.682854e-02</td>\n",
       "      <td>4.565180e-02</td>\n",
       "      <td>-4.461118e-02</td>\n",
       "      <td>-2.515719e-03</td>\n",
       "      <td>-1.755510e-17</td>\n",
       "    </tr>\n",
       "  </tbody>\n",
       "</table>\n",
       "</div>"
      ],
      "text/plain": [
       "                               PC1           PC2           PC3           PC4  \\\n",
       "Children              2.749095e-03 -4.438485e-03  1.275062e-02  7.186362e-01   \n",
       "Population           -1.148251e-03 -3.387134e-04  2.167856e-02 -3.128490e-01   \n",
       "Age                   6.136733e-03 -1.108891e-02 -1.666492e-02 -4.867105e-01   \n",
       "Income               -3.018580e-04  6.449125e-03  1.918723e-02  3.594718e-01   \n",
       "Outage_sec_perweek   -2.182765e-02  1.522913e-02 -1.752699e-02 -2.483789e-02   \n",
       "Yearly_equip_failure -5.478441e-03  1.181611e-02  5.382070e-04  1.046263e-01   \n",
       "Tenure               -9.515666e-03  7.006502e-01 -9.171573e-02 -1.476967e-02   \n",
       "MonthlyCharge         4.336809e-19  1.537310e-30 -5.551115e-17  4.163336e-17   \n",
       "Bandwidth_GB_Year    -1.386653e-02  7.006645e-01 -9.284410e-02  1.010719e-02   \n",
       "item1                 4.589173e-01  4.150772e-02  2.789211e-01  8.555277e-03   \n",
       "item2                 4.335268e-01  5.027982e-02  2.815982e-01 -8.584347e-03   \n",
       "item3                 4.005028e-01  4.169728e-02  2.782224e-01 -1.367615e-02   \n",
       "item4                 1.452892e-01 -6.393968e-02 -5.688391e-01 -1.311483e-02   \n",
       "item5                -1.765894e-01  8.217973e-02  5.839767e-01 -3.346280e-02   \n",
       "item6                 4.040360e-01 -1.904693e-02 -1.801130e-01  9.261299e-03   \n",
       "item7                 3.581680e-01 -1.089293e-02 -1.807613e-01  4.793772e-02   \n",
       "item8                 3.104656e-01 -1.702372e-02 -1.309888e-01 -6.072020e-02   \n",
       "\n",
       "                               PC5           PC6           PC7           PC8  \\\n",
       "Children              1.036218e-01 -5.397130e-03  1.298134e-01  3.887821e-02   \n",
       "Population           -4.160091e-01 -2.519566e-01  6.559818e-01  4.107085e-01   \n",
       "Age                   1.996016e-01  5.921318e-01 -2.155756e-01  2.168088e-01   \n",
       "Income               -4.341959e-01  4.419943e-01 -1.810681e-01  5.908990e-01   \n",
       "Outage_sec_perweek    4.766309e-01 -5.084839e-01 -3.040088e-01  6.425038e-01   \n",
       "Yearly_equip_failure  5.985442e-01  3.573757e-01  6.160662e-01  1.210358e-01   \n",
       "Tenure               -1.088725e-02  1.760187e-02 -4.995467e-03 -8.982690e-03   \n",
       "MonthlyCharge        -1.873501e-16  6.288373e-18 -9.714451e-17 -1.821460e-16   \n",
       "Bandwidth_GB_Year    -6.706854e-03 -7.560361e-03  5.253798e-03 -6.829450e-03   \n",
       "item1                 2.104774e-02 -8.398436e-03  8.007162e-03 -5.545797e-03   \n",
       "item2                 2.222155e-02 -3.612168e-03 -2.363590e-02  9.171564e-03   \n",
       "item3                 7.509412e-04 -1.350428e-02  2.950046e-04 -3.027898e-02   \n",
       "item4                -1.115350e-02 -9.143024e-03  1.114948e-02 -2.316883e-02   \n",
       "item5                 6.721332e-03  2.989484e-03 -1.950084e-02 -2.660984e-03   \n",
       "item6                 4.976101e-03 -3.812703e-03  1.261981e-02  2.320602e-02   \n",
       "item7                -3.104081e-02  4.087087e-02 -1.658666e-02 -4.191368e-03   \n",
       "item8                 1.188163e-02 -4.273102e-02  2.131228e-03  6.260607e-02   \n",
       "\n",
       "                               PC9          PC10          PC11          PC12  \\\n",
       "Children              6.714365e-01  3.965377e-02 -2.740738e-02 -2.228020e-02   \n",
       "Population            2.496790e-01 -5.358104e-02  2.269610e-02 -1.654102e-02   \n",
       "Age                   5.263393e-01 -2.642193e-02 -4.681490e-07 -2.923977e-03   \n",
       "Income               -3.170337e-01  1.011535e-02 -6.106036e-02 -5.327447e-03   \n",
       "Outage_sec_perweek   -2.492848e-02 -7.162661e-02  2.300007e-02 -2.259121e-02   \n",
       "Yearly_equip_failure -3.287260e-01  5.115477e-03  1.857897e-03 -1.623693e-02   \n",
       "Tenure                1.314841e-02  5.297007e-03 -6.824167e-03  5.070318e-03   \n",
       "MonthlyCharge         2.775558e-17 -1.665335e-16 -1.110223e-16  5.551115e-17   \n",
       "Bandwidth_GB_Year     8.454612e-03  4.723399e-03  3.581381e-03  8.201996e-03   \n",
       "item1                -7.624359e-03 -7.041241e-02 -1.123135e-01 -4.723804e-02   \n",
       "item2                 4.017627e-03 -1.144033e-01 -1.688029e-01 -7.064386e-02   \n",
       "item3                -3.663062e-03 -1.810201e-01 -2.426500e-01 -1.660855e-01   \n",
       "item4                -9.113007e-03 -1.774548e-01 -4.621017e-01 -4.584775e-01   \n",
       "item5                -3.792573e-03  1.393209e-01  6.189746e-02 -2.058215e-01   \n",
       "item6                 3.685849e-03 -6.544360e-02  3.413498e-02  7.604614e-01   \n",
       "item7                -1.283587e-02 -1.610995e-01  8.217646e-01 -3.471817e-01   \n",
       "item8                -2.550871e-06  9.260662e-01 -2.437488e-02 -1.100860e-01   \n",
       "\n",
       "                              PC13          PC14          PC15          PC16  \\\n",
       "Children              1.358133e-02  1.417913e-02 -8.549679e-03  1.170251e-02   \n",
       "Population            3.591497e-04 -1.019234e-02 -2.258500e-03  2.542744e-03   \n",
       "Age                  -1.078595e-02  8.410399e-03  1.814754e-02 -2.187563e-02   \n",
       "Income               -4.015413e-03  1.135194e-02  3.915209e-03 -2.845909e-03   \n",
       "Outage_sec_perweek   -3.995747e-03  2.055262e-02  9.741248e-03  8.813495e-03   \n",
       "Yearly_equip_failure  3.877052e-04  8.289466e-03 -1.706752e-02  3.065454e-03   \n",
       "Tenure               -1.796244e-02  6.132888e-03  9.670669e-03  7.064756e-01   \n",
       "MonthlyCharge        -4.857226e-17  2.775558e-17 -1.110223e-16 -8.326673e-17   \n",
       "Bandwidth_GB_Year     3.551569e-03 -4.757440e-03 -1.776672e-03 -7.069414e-01   \n",
       "item1                 2.304470e-02 -2.483029e-01  7.919010e-01 -6.250291e-03   \n",
       "item2                 6.886729e-02 -5.866462e-01 -5.774676e-01  7.141830e-03   \n",
       "item3                -3.881328e-01  6.786300e-01 -1.689839e-01 -1.333344e-02   \n",
       "item4                 4.337226e-01  7.890919e-02  2.295357e-02  1.443111e-03   \n",
       "item5                 6.972063e-01  2.573939e-01 -3.793019e-02  8.202514e-03   \n",
       "item6                 4.015173e-01  2.323280e-01 -6.431381e-02  6.065295e-03   \n",
       "item7                 7.609110e-02  6.370729e-02 -4.325124e-02  5.345533e-03   \n",
       "item8                -4.682854e-02  4.565180e-02 -4.461118e-02 -2.515719e-03   \n",
       "\n",
       "                              PC17  \n",
       "Children             -1.412332e-19  \n",
       "Population            8.334636e-17  \n",
       "Age                   1.646682e-17  \n",
       "Income                3.428336e-17  \n",
       "Outage_sec_perweek    3.798288e-17  \n",
       "Yearly_equip_failure  5.626954e-17  \n",
       "Tenure               -3.146502e-17  \n",
       "MonthlyCharge        -1.000000e+00  \n",
       "Bandwidth_GB_Year     1.980903e-17  \n",
       "item1                -2.362243e-17  \n",
       "item2                -1.974871e-17  \n",
       "item3                 8.372563e-17  \n",
       "item4                 3.033471e-18  \n",
       "item5                -3.629950e-17  \n",
       "item6                -1.462272e-16  \n",
       "item7                 1.243657e-16  \n",
       "item8                -1.755510e-17  "
      ]
     },
     "execution_count": 96,
     "metadata": {},
     "output_type": "execute_result"
    }
   ],
   "source": [
    "loadings = pd.DataFrame(pca.components_.T, columns=['PC1','PC2','PC3','PC4','PC5','PC6','PC7','PC8','PC9','PC10','PC11','PC12','PC13','PC14','PC15','PC16','PC17'], index=df_pca_norm.columns)\n",
    "loadings"
   ]
  },
  {
   "cell_type": "markdown",
   "id": "127b96f6",
   "metadata": {},
   "source": [
    "#### Selecting PCs"
   ]
  },
  {
   "cell_type": "code",
   "execution_count": 97,
   "id": "522dcab0",
   "metadata": {},
   "outputs": [],
   "source": [
    "cov_matrix = np.dot(df_pca_norm.T, df_pca_norm)/df_pca.shape[0]\n",
    "eigenvalues = [np.dot(eigenvector.T, np.dot(cov_matrix, eigenvector)) for eigenvector in pca.components_]"
   ]
  },
  {
   "cell_type": "code",
   "execution_count": 98,
   "id": "d8402342",
   "metadata": {},
   "outputs": [
    {
     "data": {
      "image/png": "[encoded data removed]",
      "text/plain": [
       "<Figure size 432x288 with 1 Axes>"
      ]
     },
     "metadata": {
      "needs_background": "light"
     },
     "output_type": "display_data"
    }
   ],
   "source": [
    "plt.plot(eigenvalues)\n",
    "plt.axhline(y = 1 , color = 'r')\n",
    "plt.xlabel('Number of components')\n",
    "plt.ylabel('Eigenvalues')\n",
    "plt.show()"
   ]
  },
  {
   "cell_type": "code",
   "execution_count": 99,
   "id": "2b02b3d6",
   "metadata": {},
   "outputs": [],
   "source": [
    "df.to_csv(r'Desktop/churn_clean_data.csv')"
   ]
  },
  {
   "cell_type": "code",
   "execution_count": 100,
   "id": "afb1befd",
   "metadata": {},
   "outputs": [],
   "source": [
    "#outliers excluded\n",
    "df_outliers_outage.to_csv(r'Desktop/churn_outliers_data.csv')"
   ]
  }
 ],
 "metadata": {
  "kernelspec": {
   "display_name": "Python 3 (ipykernel)",
   "language": "python",
   "name": "python3"
  },
  "language_info": {
   "codemirror_mode": {
    "name": "ipython",
    "version": 3
   },
   "file_extension": ".py",
   "mimetype": "text/x-python",
   "name": "python",
   "nbconvert_exporter": "python",
   "pygments_lexer": "ipython3",
   "version": "3.9.12"
  }
 },
 "nbformat": 4,
 "nbformat_minor": 5
}
